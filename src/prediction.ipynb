{
 "cells": [
  {
   "cell_type": "markdown",
   "id": "2daccbbe",
   "metadata": {},
   "source": [
    "# Odporúčanie"
   ]
  },
  {
   "cell_type": "code",
   "execution_count": 1,
   "id": "6aa064b9",
   "metadata": {},
   "outputs": [],
   "source": [
    "# dependencies\n",
    "import os\n",
    "import pandas as pd\n",
    "from transformers4rec import tf as tr\n",
    "import tensorflow as tf\n",
    "from transformers4rec.tf.ranking_metric import NDCGAt, RecallAt\n",
    "\n",
    "from _ import constants\n",
    "from _.functions import preprocess, generate_schema_from_parquet"
   ]
  },
  {
   "cell_type": "code",
   "execution_count": 8,
   "id": "d419799a",
   "metadata": {},
   "outputs": [
    {
     "name": "stderr",
     "output_type": "stream",
     "text": [
      "WARNING:root:Make sure that locally built Python SDK docker image has Python 3.8 interpreter.\n"
     ]
    }
   ],
   "source": [
    "# preprocess data if not exists\n",
    "if not constants.TRAIN_PREPROCESSED.exists():\n",
    "    df_train = preprocess(constants.TRAIN_DROPPED, constants.TRAIN);\n",
    "    df_train.to_parquet(constants.TRAIN_PREPROCESSED, index=False)\n",
    "else:\n",
    "    df_train = pd.read_parquet(constants.TRAIN_PREPROCESSED)\n",
    "    \n",
    "if not constants.TEST_PREPROCESSED.exists():\n",
    "    df_test = preprocess(constants.TEST_DROPPED, constants.TEST);\n",
    "    df_test.to_parquet(constants.TEST_PREPROCESSED, index=False)\n",
    "else:\n",
    "    df_test = pd.read_parquet(constants.TEST_PREPROCESSED)\n",
    "    \n",
    "# generate or load schema    \n",
    "if not constants.SCHEMA.exists():\n",
    "    generate_schema_from_parquet(constants.TRAIN_PREPROCESSED,constants.SCHEMA);\n",
    "\n",
    "schema = tr.Schema().from_json(constants.SCHEMA)"
   ]
  },
  {
   "cell_type": "code",
   "execution_count": 28,
   "id": "ad3264d7",
   "metadata": {},
   "outputs": [],
   "source": [
    "sequence_length = 20\n",
    "inputs = tr.TabularSequenceFeatures.from_schema(\n",
    "    schema,\n",
    "    max_sequence_length = sequence_length,\n",
    ")"
   ]
  },
  {
   "cell_type": "code",
   "execution_count": 29,
   "id": "ac957698",
   "metadata": {},
   "outputs": [],
   "source": [
    "d_model = 128\n",
    "body = tr.SequentialBlock(\n",
    "    [inputs,\n",
    "    tr.MLPBlock([d_model]),\n",
    "    tf.keras.layers.GRU(units=d_model)]\n",
    ")"
   ]
  },
  {
   "cell_type": "code",
   "execution_count": 30,
   "id": "40f71fbd",
   "metadata": {},
   "outputs": [],
   "source": [
    "head = tr.Head(\n",
    "    body,\n",
    "    tr.NextItemPredictionTask(\n",
    "        weight_tying=True,\n",
    "        metrics=[tf.keras.metrics.AUC]\n",
    "    )\n",
    ")\n",
    "model = tr.Model(head)"
   ]
  },
  {
   "cell_type": "code",
   "execution_count": 39,
   "id": "6d7df250",
   "metadata": {},
   "outputs": [
    {
     "data": {
      "text/plain": [
       "transformers4rec.torch.utils.data_utils.T4RecDataLoader"
      ]
     },
     "execution_count": 39,
     "metadata": {},
     "output_type": "execute_result"
    }
   ],
   "source": [
    "import transformers4rec.torch.utils\n",
    "\n",
    "transformers4rec.torch.utils.data_utils.T4RecDataLoader\n",
    "\n",
    "x_cat_names, x_cont_names = ['product_id-list_seq'], []\n",
    "\n",
    "# dictionary representing max sequence length for column\n",
    "sparse_features_max = {\n",
    "    fname: sequence_length\n",
    "    for fname in x_cat_names + x_cont_names\n",
    "}\n",
    "\n",
    "# Define a `get_dataloader` function to call in the training loop\n",
    "def get_dataloader(path, batch_size=32):\n",
    "\n",
    "    return NVTabularDataLoader.from_schema(\n",
    "        schema,\n",
    "        path,\n",
    "        batch_size,\n",
    "        max_sequence_length=sequence_length,\n",
    "        sparse_names=x_cat_names + x_cont_names,\n",
    "        sparse_max=sparse_features_max,\n",
    ")"
   ]
  },
  {
   "cell_type": "code",
   "execution_count": null,
   "id": "885159a3",
   "metadata": {},
   "outputs": [],
   "source": [
    "from transformers4rec.config.trainer import T4RecTrainingArguments\n",
    "from transformers4rec.torch import Trainer\n",
    "\n",
    "#Set arguments for training\n",
    "train_args = T4RecTrainingArguments(local_rank = -1,\n",
    "                                    dataloader_drop_last = False,\n",
    "                                    report_to = [],   #set empy list to avoig logging metrics to Weights&Biases\n",
    "                                    gradient_accumulation_steps = 1,\n",
    "                                    per_device_train_batch_size = 256,\n",
    "                                    per_device_eval_batch_size = 32,\n",
    "                                    output_dir = \"./tmp\",\n",
    "                                    max_sequence_length=sequence_length,\n",
    "                                    learning_rate=0.00071,\n",
    "                                    num_train_epochs=3,\n",
    "                                    logging_steps=200,\n",
    "                                   )"
   ]
  },
  {
   "cell_type": "code",
   "execution_count": null,
   "id": "a55af0e9",
   "metadata": {},
   "outputs": [],
   "source": [
    "# Instantiate the T4Rec Trainer, which manages training and evaluation\n",
    "trainer = Trainer(\n",
    "    model=model,\n",
    "    args=train_args,\n",
    "    schema=schema,\n",
    "    compute_metrics=True,\n",
    ")"
   ]
  },
  {
   "cell_type": "code",
   "execution_count": null,
   "id": "19112034",
   "metadata": {},
   "outputs": [],
   "source": [
    "%%time\n",
    "start_time_window_index = 1\n",
    "final_time_window_index = 4\n",
    "for time_index in range(start_time_window_index, final_time_window_index):\n",
    "    # Set data\n",
    "    time_index_train = time_index\n",
    "    time_index_eval = time_index + 1\n",
    "    train_paths = glob.glob(os.path.join(OUTPUT_DIR, f\"{time_index_train}/train.parquet\"))\n",
    "    eval_paths = glob.glob(os.path.join(OUTPUT_DIR, f\"{time_index_eval}/valid.parquet\"))\n",
    "\n",
    "    # Initialize dataloaders\n",
    "    trainer.train_dataloader = get_dataloader(train_paths, train_args.per_device_train_batch_size)\n",
    "    trainer.eval_dataloader = get_dataloader(eval_paths, train_args.per_device_eval_batch_size)\n",
    "\n",
    "    # Train on day related to time_index\n",
    "    print('*'*20)\n",
    "    print(\"Launch training for day %s are:\" %time_index)\n",
    "    print('*'*20 + '\\n')\n",
    "    trainer.reset_lr_scheduler()\n",
    "    trainer.train()\n",
    "    trainer.state.global_step +=1\n",
    "\n",
    "    # Evaluate on the following day\n",
    "    train_metrics = trainer.evaluate(metric_key_prefix='eval')\n",
    "    print('*'*20)\n",
    "    print(\"Eval results for day %s are:\\t\" %time_index_eval)\n",
    "    print('\\n' + '*'*20 + '\\n')\n",
    "    for key in sorted(train_metrics.keys()):\n",
    "        print(\" %s = %s\" % (key, str(train_metrics[key])))\n",
    "    trainer.wipe_memory()"
   ]
  },
  {
   "cell_type": "code",
   "execution_count": null,
   "id": "3385693a",
   "metadata": {},
   "outputs": [],
   "source": [
    "with open(\"results.txt\", 'w') as f:\n",
    "    f.write('GRU accuracy results:')\n",
    "    f.write('\\n')\n",
    "    for key, value in  model.compute_metrics().items():\n",
    "        f.write('%s:%s\\n' % (key, value.item()))"
   ]
  }
 ],
 "metadata": {
  "kernelspec": {
   "display_name": "Python 3 (ipykernel)",
   "language": "python",
   "name": "python3"
  },
  "language_info": {
   "codemirror_mode": {
    "name": "ipython",
    "version": 3
   },
   "file_extension": ".py",
   "mimetype": "text/x-python",
   "name": "python",
   "nbconvert_exporter": "python",
   "pygments_lexer": "ipython3",
   "version": "3.8.12"
  }
 },
 "nbformat": 4,
 "nbformat_minor": 5
}
