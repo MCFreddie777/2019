{
 "cells": [
  {
   "cell_type": "markdown",
   "id": "b75ec47f",
   "metadata": {},
   "source": [
    "# Odporúčanie"
   ]
  },
  {
   "cell_type": "code",
   "execution_count": 9,
   "id": "4d68b330",
   "metadata": {
    "collapsed": false,
    "jupyter": {
     "outputs_hidden": false
    },
    "ExecuteTime": {
     "end_time": "2023-05-07T20:39:18.457837100Z",
     "start_time": "2023-05-07T20:39:18.335618500Z"
    }
   },
   "outputs": [
    {
     "name": "stdout",
     "output_type": "stream",
     "text": [
      "The autoreload extension is already loaded. To reload it, use:\n",
      "  %reload_ext autoreload\n"
     ]
    }
   ],
   "source": [
    "%load_ext autoreload\n",
    "%autoreload all"
   ]
  },
  {
   "cell_type": "code",
   "execution_count": 20,
   "id": "9aa0c65e",
   "metadata": {
    "collapsed": false,
    "jupyter": {
     "outputs_hidden": false
    },
    "ExecuteTime": {
     "end_time": "2023-05-07T20:40:33.095084200Z",
     "start_time": "2023-05-07T20:40:33.054093900Z"
    }
   },
   "outputs": [],
   "source": [
    "# dependencies\n",
    "import pandas as pd\n",
    "import wandb\n",
    "from dotenv import load_dotenv\n",
    "\n",
    "from _helpers import constants\n",
    "from _helpers import functions as hf\n",
    "from _helpers.verify_submission.verify_subm import main as verify_subm\n",
    "from _helpers.score_submission.score_subm import main as score_subm\n",
    "from _helpers.drop import drop\n",
    "\n",
    "from models.model_random import ModelRandom\n",
    "from models.model_nochange import ModelNoChange\n",
    "from models.model_item_pop import ModelItemPopularity\n",
    "from models.model_user_item_pop import ModelUserItemPopularity\n",
    "from models.model_popular import ModelPopular\n",
    "from models.model_log_reg import ModelLogisticRegression"
   ]
  },
  {
   "cell_type": "markdown",
   "source": [
    "Spin up the project - load environment variables from .env file, initialize wandb"
   ],
   "metadata": {
    "collapsed": false
   }
  },
  {
   "cell_type": "code",
   "execution_count": 23,
   "id": "78ce3bc7",
   "metadata": {
    "collapsed": false,
    "jupyter": {
     "outputs_hidden": false
    },
    "ExecuteTime": {
     "end_time": "2023-05-07T20:41:47.750821100Z",
     "start_time": "2023-05-07T20:41:47.680158700Z"
    }
   },
   "outputs": [
    {
     "name": "stderr",
     "output_type": "stream",
     "text": [
      "\u001B[34m\u001B[1mwandb\u001B[0m: \u001B[33mWARNING\u001B[0m Calling wandb.login() after wandb.init() has no effect.\n"
     ]
    },
    {
     "data": {
      "text/plain": "True"
     },
     "execution_count": 23,
     "metadata": {},
     "output_type": "execute_result"
    }
   ],
   "source": [
    "load_dotenv(override=True) # Load env variables from .env file\n",
    "wandb.login()"
   ]
  },
  {
   "cell_type": "markdown",
   "source": [
    "Load the correct train data"
   ],
   "metadata": {
    "collapsed": false
   }
  },
  {
   "cell_type": "code",
   "execution_count": 24,
   "outputs": [],
   "source": [
    "# Check whether we want\n",
    "subset = hf.get_env('SUBSET',None)\n",
    "target_file = constants.DROPPED if (subset is None) else constants.DROPPED_SUBSET(subset)\n",
    "\n",
    "if not target_file.exists():\n",
    "    if (subset is None):\n",
    "        df_train = pd.read_csv(constants.TRAIN)\n",
    "        df_train = drop(df_train)\n",
    "        df_train.to_parquet(constants.DROPPED, index=False)\n",
    "    else:\n",
    "        raise FileNotFoundError(constants.DROPPED_SUBSET(subset))\n",
    "else:\n",
    "    df_train = pd.read_parquet(target_file)"
   ],
   "metadata": {
    "collapsed": false,
    "ExecuteTime": {
     "end_time": "2023-05-07T20:41:50.075885900Z",
     "start_time": "2023-05-07T20:41:49.539077300Z"
    }
   }
  },
  {
   "cell_type": "code",
   "execution_count": 25,
   "id": "78a5d8fa",
   "metadata": {
    "collapsed": false,
    "jupyter": {
     "outputs_hidden": false
    },
    "ExecuteTime": {
     "end_time": "2023-05-07T20:41:59.245363100Z",
     "start_time": "2023-05-07T20:41:59.175181200Z"
    }
   },
   "outputs": [],
   "source": [
    "models = {\n",
    "    'random': ModelRandom(),\n",
    "    'nochange': ModelNoChange(),\n",
    "    'item-popularity': ModelItemPopularity(),\n",
    "    'user-item-popularity': ModelUserItemPopularity(),\n",
    "    'popular': ModelPopular(),\n",
    "    'log-reg': ModelLogisticRegression(),\n",
    "}"
   ]
  },
  {
   "cell_type": "markdown",
   "source": [
    "Choose the correct model and setup parameters of the model"
   ],
   "metadata": {
    "collapsed": false
   }
  },
  {
   "cell_type": "code",
   "execution_count": 40,
   "id": "860044ff-35a3-40f9-bf41-434ca6f56ce4",
   "metadata": {
    "ExecuteTime": {
     "end_time": "2023-05-07T20:50:36.693290500Z",
     "start_time": "2023-05-07T20:50:30.031083Z"
    }
   },
   "outputs": [
    {
     "data": {
      "text/plain": "<IPython.core.display.HTML object>",
      "text/html": "wandb version 0.15.2 is available!  To upgrade, please run:\n $ pip install wandb --upgrade"
     },
     "metadata": {},
     "output_type": "display_data"
    },
    {
     "data": {
      "text/plain": "<IPython.core.display.HTML object>",
      "text/html": "Tracking run with wandb version 0.15.1"
     },
     "metadata": {},
     "output_type": "display_data"
    },
    {
     "data": {
      "text/plain": "<IPython.core.display.HTML object>",
      "text/html": "Run data is saved locally in <code>/home/src/wandb/run-20230507_205030-up81wxg8</code>"
     },
     "metadata": {},
     "output_type": "display_data"
    },
    {
     "data": {
      "text/plain": "<IPython.core.display.HTML object>",
      "text/html": "Syncing run <strong><a href='https://wandb.ai/mcfreddie777/dp-recsys/runs/up81wxg8' target=\"_blank\">model_log-reg_run_1</a></strong> to <a href='https://wandb.ai/mcfreddie777/dp-recsys' target=\"_blank\">Weights & Biases</a> (<a href='https://wandb.me/run' target=\"_blank\">docs</a>)<br/>"
     },
     "metadata": {},
     "output_type": "display_data"
    },
    {
     "data": {
      "text/plain": "<IPython.core.display.HTML object>",
      "text/html": " View project at <a href='https://wandb.ai/mcfreddie777/dp-recsys' target=\"_blank\">https://wandb.ai/mcfreddie777/dp-recsys</a>"
     },
     "metadata": {},
     "output_type": "display_data"
    },
    {
     "data": {
      "text/plain": "<IPython.core.display.HTML object>",
      "text/html": " View run at <a href='https://wandb.ai/mcfreddie777/dp-recsys/runs/up81wxg8' target=\"_blank\">https://wandb.ai/mcfreddie777/dp-recsys/runs/up81wxg8</a>"
     },
     "metadata": {},
     "output_type": "display_data"
    },
    {
     "name": "stdout",
     "output_type": "stream",
     "text": [
      "RUNNING THE L-BFGS-B CODE\n",
      "\n",
      "           * * *\n",
      "\n",
      "Machine precision = 2.220D-16\n",
      " N =            5     M =           10\n",
      "\n",
      "At X0         0 variables are exactly at the bounds\n",
      "\n",
      "At iterate    0    f=  6.23417D+03    |proj g|=  4.72559D+05\n",
      "\n",
      "At iterate   50    f=  1.16870D+03    |proj g|=  1.03679D+02\n",
      "\n",
      "           * * *\n",
      "\n",
      "Tit   = total number of iterations\n",
      "Tnf   = total number of function evaluations\n",
      "Tnint = total number of segments explored during Cauchy searches\n",
      "Skip  = number of BFGS updates skipped\n",
      "Nact  = number of active bounds at final generalized Cauchy point\n",
      "Projg = norm of the final projected gradient\n",
      "F     = final function value\n",
      "\n",
      "           * * *\n",
      "\n",
      "   N    Tit     Tnf  Tnint  Skip  Nact     Projg        F\n",
      "    5     54     71      1     0     0   9.092D-02   1.169D+03\n",
      "  F =   1168.6507938624907     \n",
      "\n",
      "CONVERGENCE: REL_REDUCTION_OF_F_<=_FACTR*EPSMCH             \n"
     ]
    },
    {
     "name": "stderr",
     "output_type": "stream",
     "text": [
      "[Parallel(n_jobs=1)]: Using backend SequentialBackend with 1 concurrent workers.\n",
      " This problem is unconstrained.\n",
      "[Parallel(n_jobs=1)]: Done   1 out of   1 | elapsed:    0.1s finished\n"
     ]
    }
   ],
   "source": [
    "# Tinker with the parameters\n",
    "run = 1\n",
    "notes = 'Subset 200'\n",
    "params = {\n",
    "    'model': 'log-reg',\n",
    "    'subset': 200,\n",
    "}\n",
    "\n",
    "wandb_run = wandb.init(entity='mcfreddie777', project=\"dp-recsys\", name=f'model_{params[\"model\"]}_run_{run}', notes=notes)\n",
    "wandb_run.config.update(params)\n",
    "\n",
    "model = models[params['model']]\n",
    "model.update(params)\n",
    "model.fit(df_train)"
   ]
  },
  {
   "cell_type": "markdown",
   "id": "d42414c4",
   "metadata": {},
   "source": [
    "Predikujeme odporúčania"
   ]
  },
  {
   "cell_type": "code",
   "execution_count": 41,
   "id": "a44242a1",
   "metadata": {
    "collapsed": false,
    "jupyter": {
     "outputs_hidden": false
    },
    "ExecuteTime": {
     "end_time": "2023-05-07T20:52:16.692331400Z",
     "start_time": "2023-05-07T20:50:46.809658900Z"
    }
   },
   "outputs": [],
   "source": [
    "df_test = pd.read_csv(constants.TEST)\n",
    "df_recommendations = model.predict(df_test)"
   ]
  },
  {
   "cell_type": "markdown",
   "id": "ab336528",
   "metadata": {},
   "source": [
    "Verifikujeme predikcie"
   ]
  },
  {
   "cell_type": "code",
   "execution_count": 42,
   "id": "3afc38b3",
   "metadata": {
    "collapsed": false,
    "jupyter": {
     "outputs_hidden": false
    },
    "ExecuteTime": {
     "end_time": "2023-05-07T20:52:17.207291400Z",
     "start_time": "2023-05-07T20:52:16.695457Z"
    }
   },
   "outputs": [
    {
     "name": "stdout",
     "output_type": "stream",
     "text": [
      "Checking for required columns in the submission file...\n",
      "> check passed\n",
      "Checking for duplicate sessions in the submission file...\n",
      "> check passed\n",
      "Checking that all the required sessions are present in submission...\n",
      "> check passed\n",
      "All checks passed\n"
     ]
    }
   ],
   "source": [
    "verify_subm(df_subm=df_recommendations,df_test=df_test)"
   ]
  },
  {
   "cell_type": "code",
   "execution_count": 43,
   "id": "494b8db7-0508-4dfe-a326-12161eaed2d7",
   "metadata": {
    "ExecuteTime": {
     "end_time": "2023-05-07T20:52:18.791880300Z",
     "start_time": "2023-05-07T20:52:17.210606400Z"
    }
   },
   "outputs": [],
   "source": [
    "df_recommendations.to_csv(constants.OUTPUT_DIR / f'submission_popular_{params[\"model\"]}_{run}.csv', index=False)"
   ]
  },
  {
   "cell_type": "markdown",
   "id": "460a1153",
   "metadata": {},
   "source": [
    "Vypočítame si MRR na dátach"
   ]
  },
  {
   "cell_type": "code",
   "execution_count": 44,
   "id": "a9ce9297",
   "metadata": {
    "ExecuteTime": {
     "end_time": "2023-05-07T20:52:34.610237200Z",
     "start_time": "2023-05-07T20:52:18.798037100Z"
    }
   },
   "outputs": [
    {
     "name": "stdout",
     "output_type": "stream",
     "text": [
      "Mean reciprocal rank:      0.2426\n",
      "Mean average precision @3: 0.0807\n"
     ]
    }
   ],
   "source": [
    "df_gt = pd.read_csv(constants.GROUND_TRUTH)\n",
    "mrr,map3 = score_subm(df_subm=df_recommendations,df_gt=df_gt)\n",
    "wandb_run.log({\"mrr\":mrr, \"map3\":map3})"
   ]
  },
  {
   "cell_type": "code",
   "execution_count": 45,
   "id": "0767d1d3",
   "metadata": {
    "ExecuteTime": {
     "end_time": "2023-05-07T20:52:40.076568200Z",
     "start_time": "2023-05-07T20:52:34.614922100Z"
    }
   },
   "outputs": [
    {
     "data": {
      "text/plain": "<IPython.core.display.HTML object>",
      "text/html": "Waiting for W&B process to finish... <strong style=\"color:green\">(success).</strong>"
     },
     "metadata": {},
     "output_type": "display_data"
    },
    {
     "data": {
      "text/plain": "<IPython.core.display.HTML object>",
      "text/html": "<style>\n    table.wandb td:nth-child(1) { padding: 0 10px; text-align: left ; width: auto;} td:nth-child(2) {text-align: left ; width: 100%}\n    .wandb-row { display: flex; flex-direction: row; flex-wrap: wrap; justify-content: flex-start; width: 100% }\n    .wandb-col { display: flex; flex-direction: column; flex-basis: 100%; flex: 1; padding: 10px; }\n    </style>\n<div class=\"wandb-row\"><div class=\"wandb-col\"><h3>Run history:</h3><br/><table class=\"wandb\"><tr><td>map3</td><td>▁</td></tr><tr><td>mrr</td><td>▁</td></tr></table><br/></div><div class=\"wandb-col\"><h3>Run summary:</h3><br/><table class=\"wandb\"><tr><td>map3</td><td>0.0807</td></tr><tr><td>mrr</td><td>0.2426</td></tr></table><br/></div></div>"
     },
     "metadata": {},
     "output_type": "display_data"
    },
    {
     "data": {
      "text/plain": "<IPython.core.display.HTML object>",
      "text/html": " View run <strong style=\"color:#cdcd00\">model_log-reg_run_1</strong> at: <a href='https://wandb.ai/mcfreddie777/dp-recsys/runs/up81wxg8' target=\"_blank\">https://wandb.ai/mcfreddie777/dp-recsys/runs/up81wxg8</a><br/>Synced 7 W&B file(s), 0 media file(s), 0 artifact file(s) and 2 other file(s)"
     },
     "metadata": {},
     "output_type": "display_data"
    },
    {
     "data": {
      "text/plain": "<IPython.core.display.HTML object>",
      "text/html": "Find logs at: <code>./wandb/run-20230507_205030-up81wxg8/logs</code>"
     },
     "metadata": {},
     "output_type": "display_data"
    }
   ],
   "source": [
    "wandb_run.finish()"
   ]
  }
 ],
 "metadata": {
  "kernelspec": {
   "display_name": "Python 3 (ipykernel)",
   "language": "python",
   "name": "python3"
  },
  "language_info": {
   "codemirror_mode": {
    "name": "ipython",
    "version": 3
   },
   "file_extension": ".py",
   "mimetype": "text/x-python",
   "name": "python",
   "nbconvert_exporter": "python",
   "pygments_lexer": "ipython3",
   "version": "3.10.10"
  }
 },
 "nbformat": 4,
 "nbformat_minor": 5
}
