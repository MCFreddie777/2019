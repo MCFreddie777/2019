{
 "cells": [
  {
   "cell_type": "markdown",
   "id": "b75ec47f",
   "metadata": {},
   "source": [
    "# Odporúčanie"
   ]
  },
  {
   "cell_type": "code",
   "execution_count": 1,
   "outputs": [],
   "source": [
    "%load_ext autoreload\n",
    "%autoreload all"
   ],
   "metadata": {
    "collapsed": false,
    "ExecuteTime": {
     "end_time": "2023-05-06T08:05:45.494680500Z",
     "start_time": "2023-05-06T08:05:45.483921200Z"
    }
   }
  },
  {
   "cell_type": "code",
   "execution_count": 3,
   "outputs": [],
   "source": [
    "# dependencies\n",
    "import pandas as pd\n",
    "import wandb\n",
    "from dotenv import load_dotenv\n",
    "\n",
    "from _helpers import constants\n",
    "from _helpers import functions\n",
    "from models.model_random import ModelRandom"
   ],
   "metadata": {
    "collapsed": false,
    "ExecuteTime": {
     "end_time": "2023-05-06T08:26:39.162850300Z",
     "start_time": "2023-05-06T08:26:39.053318400Z"
    }
   }
  },
  {
   "cell_type": "code",
   "execution_count": 7,
   "outputs": [
    {
     "data": {
      "text/plain": "False"
     },
     "execution_count": 7,
     "metadata": {},
     "output_type": "execute_result"
    }
   ],
   "source": [
    "# Load env variables from .env file\n",
    "load_dotenv()"
   ],
   "metadata": {
    "collapsed": false,
    "ExecuteTime": {
     "end_time": "2023-05-06T08:28:21.445854600Z",
     "start_time": "2023-05-06T08:28:21.390963900Z"
    }
   }
  },
  {
   "cell_type": "markdown",
   "id": "5f6b01a1-85ad-4219-993f-0d822f496f66",
   "metadata": {},
   "source": [
    "Nainicializujeme Weights and Biases (logovací nástroj pre strojové učenie)"
   ]
  },
  {
   "cell_type": "code",
   "execution_count": 25,
   "id": "e6e72da6-a422-4787-98d7-f04cd1cf685c",
   "metadata": {
    "ExecuteTime": {
     "end_time": "2023-05-06T08:41:07.988782900Z",
     "start_time": "2023-05-06T08:40:53.298886900Z"
    }
   },
   "outputs": [
    {
     "name": "stderr",
     "output_type": "stream",
     "text": [
      "\u001B[34m\u001B[1mwandb\u001B[0m: Logging into wandb.ai. (Learn how to deploy a W&B server locally: https://wandb.me/wandb-server)\n",
      "\u001B[34m\u001B[1mwandb\u001B[0m: You can find your API key in your browser here: https://wandb.ai/authorize\n",
      "\u001B[34m\u001B[1mwandb\u001B[0m: Paste an API key from your profile and hit enter, or press ctrl+c to quit:\u001B[34m\u001B[1mwandb\u001B[0m: Appending key for api.wandb.ai to your netrc file: /root/.netrc\n"
     ]
    },
    {
     "data": {
      "text/plain": "True"
     },
     "execution_count": 25,
     "metadata": {},
     "output_type": "execute_result"
    }
   ],
   "source": [
    "wandb.login()"
   ]
  },
  {
   "cell_type": "code",
   "execution_count": 26,
   "id": "1f387e92-87f3-405f-85db-6fdd23c5ff56",
   "metadata": {
    "ExecuteTime": {
     "end_time": "2023-05-06T08:41:54.330651300Z",
     "start_time": "2023-05-06T08:41:11.507523300Z"
    }
   },
   "outputs": [],
   "source": [
    "df_train = pd.read_csv(constants.TRAIN)"
   ]
  },
  {
   "cell_type": "markdown",
   "id": "e84d2936-2b31-40db-9dec-a2f2d73abcf4",
   "metadata": {},
   "source": [
    "Spustíme trénovanie"
   ]
  },
  {
   "cell_type": "code",
   "execution_count": 27,
   "outputs": [],
   "source": [
    "models = {\n",
    "    'random': ModelRandom(),\n",
    "}"
   ],
   "metadata": {
    "collapsed": false,
    "ExecuteTime": {
     "end_time": "2023-05-06T08:41:54.377771300Z",
     "start_time": "2023-05-06T08:41:54.333785600Z"
    }
   }
  },
  {
   "cell_type": "code",
   "execution_count": 31,
   "id": "860044ff-35a3-40f9-bf41-434ca6f56ce4",
   "metadata": {
    "ExecuteTime": {
     "end_time": "2023-05-06T08:47:49.897456200Z",
     "start_time": "2023-05-06T08:47:40.684515400Z"
    }
   },
   "outputs": [
    {
     "data": {
      "text/plain": "<IPython.core.display.HTML object>",
      "text/html": "Finishing last run (ID:r1wbqjfl) before initializing another..."
     },
     "metadata": {},
     "output_type": "display_data"
    },
    {
     "data": {
      "text/plain": "<IPython.core.display.HTML object>",
      "text/html": "Waiting for W&B process to finish... <strong style=\"color:green\">(success).</strong>"
     },
     "metadata": {},
     "output_type": "display_data"
    },
    {
     "name": "stderr",
     "output_type": "stream",
     "text": [
      "wandb: ERROR Dropped streaming file chunk (see wandb/debug-internal.log)\n"
     ]
    },
    {
     "data": {
      "text/plain": "<IPython.core.display.HTML object>",
      "text/html": " View run <strong style=\"color:#cdcd00\">run_1</strong> at: <a href='https://wandb.ai/nn2021/dp-recsys/runs/r1wbqjfl' target=\"_blank\">https://wandb.ai/nn2021/dp-recsys/runs/r1wbqjfl</a><br/>Synced 7 W&B file(s), 0 media file(s), 0 artifact file(s) and 1 other file(s)"
     },
     "metadata": {},
     "output_type": "display_data"
    },
    {
     "data": {
      "text/plain": "<IPython.core.display.HTML object>",
      "text/html": "Find logs at: <code>./wandb/run-20230506_084358-r1wbqjfl/logs</code>"
     },
     "metadata": {},
     "output_type": "display_data"
    },
    {
     "data": {
      "text/plain": "<IPython.core.display.HTML object>",
      "text/html": "Successfully finished last run (ID:r1wbqjfl). Initializing new run:<br/>"
     },
     "metadata": {},
     "output_type": "display_data"
    },
    {
     "data": {
      "text/plain": "<IPython.core.display.HTML object>",
      "text/html": "wandb version 0.15.2 is available!  To upgrade, please run:\n $ pip install wandb --upgrade"
     },
     "metadata": {},
     "output_type": "display_data"
    },
    {
     "data": {
      "text/plain": "<IPython.core.display.HTML object>",
      "text/html": "Tracking run with wandb version 0.15.1"
     },
     "metadata": {},
     "output_type": "display_data"
    },
    {
     "data": {
      "text/plain": "<IPython.core.display.HTML object>",
      "text/html": "Run data is saved locally in <code>/home/src/wandb/run-20230506_084740-5h3ofkqr</code>"
     },
     "metadata": {},
     "output_type": "display_data"
    },
    {
     "data": {
      "text/plain": "<IPython.core.display.HTML object>",
      "text/html": "Syncing run <strong><a href='https://wandb.ai/mcfreddie777/dp-recsys/runs/5h3ofkqr' target=\"_blank\">run_1</a></strong> to <a href='https://wandb.ai/mcfreddie777/dp-recsys' target=\"_blank\">Weights & Biases</a> (<a href='https://wandb.me/run' target=\"_blank\">docs</a>)<br/>"
     },
     "metadata": {},
     "output_type": "display_data"
    },
    {
     "data": {
      "text/plain": "<IPython.core.display.HTML object>",
      "text/html": " View project at <a href='https://wandb.ai/mcfreddie777/dp-recsys' target=\"_blank\">https://wandb.ai/mcfreddie777/dp-recsys</a>"
     },
     "metadata": {},
     "output_type": "display_data"
    },
    {
     "data": {
      "text/plain": "<IPython.core.display.HTML object>",
      "text/html": " View run at <a href='https://wandb.ai/mcfreddie777/dp-recsys/runs/5h3ofkqr' target=\"_blank\">https://wandb.ai/mcfreddie777/dp-recsys/runs/5h3ofkqr</a>"
     },
     "metadata": {},
     "output_type": "display_data"
    }
   ],
   "source": [
    "run = 1\n",
    "notes = ''\n",
    "params = {\n",
    "    'model': 'random',\n",
    "    'seed': 123\n",
    "}\n",
    "\n",
    "wandb_run = wandb.init(entity='mcfreddie777', project=\"dp-recsys\", name=f'run_{run}', notes=notes)\n",
    "wandb_run.config.update(params)\n",
    "\n",
    "model = models[params['model']]\n",
    "model.update(params)\n",
    "model.fit(df_train)"
   ]
  },
  {
   "cell_type": "markdown",
   "source": [
    "Predikujeme odporúčania"
   ],
   "metadata": {
    "collapsed": false
   }
  },
  {
   "cell_type": "code",
   "execution_count": 32,
   "outputs": [],
   "source": [
    "df_test = pd.read_csv(constants.TEST)\n",
    "df_recommendations = model.predict(df_test)"
   ],
   "metadata": {
    "collapsed": false,
    "ExecuteTime": {
     "end_time": "2023-05-06T08:49:01.715343200Z",
     "start_time": "2023-05-06T08:48:51.597175200Z"
    }
   }
  },
  {
   "cell_type": "code",
   "execution_count": 33,
   "id": "494b8db7-0508-4dfe-a326-12161eaed2d7",
   "metadata": {
    "ExecuteTime": {
     "end_time": "2023-05-06T08:49:03.145601400Z",
     "start_time": "2023-05-06T08:49:01.719315200Z"
    }
   },
   "outputs": [],
   "source": [
    "df_recommendations.to_csv(constants.OUTPUT_DIR / f'submission_popular_{params[\"model\"]}_{run}.csv', index=False)"
   ]
  },
  {
   "cell_type": "markdown",
   "id": "460a1153",
   "metadata": {},
   "source": [
    "Vypočítame si MRR na dátach"
   ]
  },
  {
   "cell_type": "code",
   "execution_count": 34,
   "id": "a9ce9297",
   "metadata": {
    "ExecuteTime": {
     "end_time": "2023-05-06T08:49:03.168455300Z",
     "start_time": "2023-05-06T08:49:03.147712400Z"
    }
   },
   "outputs": [],
   "source": [
    "# TODO: Evaluate\n",
    "# wandb.log({\"mrr\":mrr})"
   ]
  },
  {
   "cell_type": "code",
   "execution_count": 35,
   "id": "0767d1d3",
   "metadata": {
    "ExecuteTime": {
     "end_time": "2023-05-06T08:49:06.962749100Z",
     "start_time": "2023-05-06T08:49:03.169489300Z"
    }
   },
   "outputs": [
    {
     "data": {
      "text/plain": "<IPython.core.display.HTML object>",
      "text/html": "Waiting for W&B process to finish... <strong style=\"color:green\">(success).</strong>"
     },
     "metadata": {},
     "output_type": "display_data"
    },
    {
     "data": {
      "text/plain": "<IPython.core.display.HTML object>",
      "text/html": " View run <strong style=\"color:#cdcd00\">run_1</strong> at: <a href='https://wandb.ai/mcfreddie777/dp-recsys/runs/5h3ofkqr' target=\"_blank\">https://wandb.ai/mcfreddie777/dp-recsys/runs/5h3ofkqr</a><br/>Synced 6 W&B file(s), 0 media file(s), 0 artifact file(s) and 2 other file(s)"
     },
     "metadata": {},
     "output_type": "display_data"
    },
    {
     "data": {
      "text/plain": "<IPython.core.display.HTML object>",
      "text/html": "Find logs at: <code>./wandb/run-20230506_084740-5h3ofkqr/logs</code>"
     },
     "metadata": {},
     "output_type": "display_data"
    }
   ],
   "source": [
    "wandb_run.finish()\n"
   ]
  }
 ],
 "metadata": {
  "kernelspec": {
   "display_name": "Python 3 (ipykernel)",
   "language": "python",
   "name": "python3"
  },
  "language_info": {
   "codemirror_mode": {
    "name": "ipython",
    "version": 3
   },
   "file_extension": ".py",
   "mimetype": "text/x-python",
   "name": "python",
   "nbconvert_exporter": "python",
   "pygments_lexer": "ipython3",
   "version": "3.10.10"
  }
 },
 "nbformat": 4,
 "nbformat_minor": 5
}
