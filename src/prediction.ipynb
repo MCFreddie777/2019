{
 "cells": [
  {
   "cell_type": "markdown",
   "id": "b75ec47f",
   "metadata": {},
   "source": [
    "# Odporúčanie"
   ]
  },
  {
   "cell_type": "code",
   "execution_count": 29,
   "id": "4d68b330",
   "metadata": {
    "collapsed": false,
    "jupyter": {
     "outputs_hidden": false
    },
    "ExecuteTime": {
     "end_time": "2023-05-08T21:16:52.703970500Z",
     "start_time": "2023-05-08T21:16:52.334689700Z"
    }
   },
   "outputs": [
    {
     "name": "stdout",
     "output_type": "stream",
     "text": [
      "The autoreload extension is already loaded. To reload it, use:\n",
      "  %reload_ext autoreload\n"
     ]
    }
   ],
   "source": [
    "%load_ext autoreload\n",
    "%autoreload all"
   ]
  },
  {
   "cell_type": "code",
   "execution_count": 30,
   "id": "9aa0c65e",
   "metadata": {
    "collapsed": false,
    "jupyter": {
     "outputs_hidden": false
    },
    "ExecuteTime": {
     "end_time": "2023-05-08T21:16:52.772279200Z",
     "start_time": "2023-05-08T21:16:52.703456900Z"
    }
   },
   "outputs": [],
   "source": [
    "# dependencies\n",
    "import pandas as pd\n",
    "import wandb\n",
    "\n",
    "from _helpers import constants\n",
    "from _helpers.verify_submission.verify_subm import main as verify_subm\n",
    "from _helpers.score_submission.score_subm import main as score_subm\n",
    "\n",
    "from drop import main as drop\n",
    "from subset import main as subset\n",
    "\n",
    "from models.model_random import ModelRandom\n",
    "from models.model_nochange import ModelNoChange\n",
    "from models.model_popular import ModelPopular\n",
    "from models.model_log_reg import ModelLogisticRegression\n",
    "from models.model_cheapest import ModelCheapest"
   ]
  },
  {
   "cell_type": "markdown",
   "id": "e6923764",
   "metadata": {},
   "source": [
    "Iitialize wandb - logging tool"
   ]
  },
  {
   "cell_type": "code",
   "execution_count": 31,
   "id": "78ce3bc7",
   "metadata": {
    "collapsed": false,
    "jupyter": {
     "outputs_hidden": false
    },
    "ExecuteTime": {
     "end_time": "2023-05-08T21:16:52.796743100Z",
     "start_time": "2023-05-08T21:16:52.751939900Z"
    }
   },
   "outputs": [
    {
     "data": {
      "text/plain": "True"
     },
     "execution_count": 31,
     "metadata": {},
     "output_type": "execute_result"
    }
   ],
   "source": [
    "wandb.login()"
   ]
  },
  {
   "cell_type": "markdown",
   "id": "261f1bf1",
   "metadata": {},
   "source": [
    "Load the correct data"
   ]
  },
  {
   "cell_type": "code",
   "execution_count": 32,
   "id": "e34d4f6a",
   "metadata": {
    "collapsed": false,
    "jupyter": {
     "outputs_hidden": false
    },
    "ExecuteTime": {
     "end_time": "2023-05-08T21:16:52.863683500Z",
     "start_time": "2023-05-08T21:16:52.799412500Z"
    }
   },
   "outputs": [],
   "source": [
    "train_file = constants.DROPPED_TRAIN\n",
    "test_file = constants.DROPPED_TEST\n",
    "ground_truth_file = constants.DROPPED_GROUND_TRUTH\n",
    "\n",
    "if (constants.SUBSET is not None):\n",
    "    train_file = constants.DROPPED_SUBSET(constants.SUBSET, 'train')\n",
    "    test_file = constants.DROPPED_SUBSET(constants.SUBSET, 'test')\n",
    "    ground_truth_file = constants.DROPPED_SUBSET(constants.SUBSET, 'test')\n",
    "\n",
    "if not (train_file.exists() and test_file.exists() and ground_truth_file.exists()):\n",
    "    if (constants.SUBSET is not None):\n",
    "        subset()\n",
    "    else:\n",
    "        drop()\n",
    "\n",
    "df_train = pd.read_parquet(train_file)"
   ]
  },
  {
   "cell_type": "code",
   "execution_count": 33,
   "id": "78a5d8fa",
   "metadata": {
    "collapsed": false,
    "jupyter": {
     "outputs_hidden": false
    },
    "ExecuteTime": {
     "end_time": "2023-05-08T21:16:52.918261200Z",
     "start_time": "2023-05-08T21:16:52.866591800Z"
    }
   },
   "outputs": [],
   "source": [
    "models = {\n",
    "    'random': ModelRandom(),\n",
    "    'nochange': ModelNoChange(),\n",
    "    'popular': ModelPopular(),\n",
    "    'log-reg': ModelLogisticRegression(),\n",
    "    'cheapest': ModelCheapest(),\n",
    "}"
   ]
  },
  {
   "cell_type": "markdown",
   "id": "752c178e",
   "metadata": {},
   "source": [
    "Choose the correct model and setup parameters of the model"
   ]
  },
  {
   "cell_type": "code",
   "execution_count": 60,
   "id": "860044ff-35a3-40f9-bf41-434ca6f56ce4",
   "metadata": {
    "ExecuteTime": {
     "end_time": "2023-05-08T21:24:16.918896300Z",
     "start_time": "2023-05-08T21:23:56.058006400Z"
    }
   },
   "outputs": [
    {
     "data": {
      "text/plain": "<IPython.core.display.HTML object>",
      "text/html": "Finishing last run (ID:hm22ia6h) before initializing another..."
     },
     "metadata": {},
     "output_type": "display_data"
    },
    {
     "data": {
      "text/plain": "<IPython.core.display.HTML object>",
      "text/html": "Waiting for W&B process to finish... <strong style=\"color:green\">(success).</strong>"
     },
     "metadata": {},
     "output_type": "display_data"
    },
    {
     "data": {
      "text/plain": "<IPython.core.display.HTML object>",
      "text/html": " View run <strong style=\"color:#cdcd00\">model_log-reg_run_9</strong> at: <a href='https://wandb.ai/mcfreddie777/dp-recsys/runs/hm22ia6h' target=\"_blank\">https://wandb.ai/mcfreddie777/dp-recsys/runs/hm22ia6h</a><br/>Synced 7 W&B file(s), 0 media file(s), 0 artifact file(s) and 1 other file(s)"
     },
     "metadata": {},
     "output_type": "display_data"
    },
    {
     "data": {
      "text/plain": "<IPython.core.display.HTML object>",
      "text/html": "Find logs at: <code>./wandb/run-20230508_212255-hm22ia6h/logs</code>"
     },
     "metadata": {},
     "output_type": "display_data"
    },
    {
     "data": {
      "text/plain": "<IPython.core.display.HTML object>",
      "text/html": "Successfully finished last run (ID:hm22ia6h). Initializing new run:<br/>"
     },
     "metadata": {},
     "output_type": "display_data"
    },
    {
     "data": {
      "text/plain": "<IPython.core.display.HTML object>",
      "text/html": "wandb version 0.15.2 is available!  To upgrade, please run:\n $ pip install wandb --upgrade"
     },
     "metadata": {},
     "output_type": "display_data"
    },
    {
     "data": {
      "text/plain": "<IPython.core.display.HTML object>",
      "text/html": "Tracking run with wandb version 0.15.1"
     },
     "metadata": {},
     "output_type": "display_data"
    },
    {
     "data": {
      "text/plain": "<IPython.core.display.HTML object>",
      "text/html": "Run data is saved locally in <code>/home/src/wandb/run-20230508_212356-8so05892</code>"
     },
     "metadata": {},
     "output_type": "display_data"
    },
    {
     "data": {
      "text/plain": "<IPython.core.display.HTML object>",
      "text/html": "Syncing run <strong><a href='https://wandb.ai/mcfreddie777/dp-recsys/runs/8so05892' target=\"_blank\">model_log-reg_run_9</a></strong> to <a href='https://wandb.ai/mcfreddie777/dp-recsys' target=\"_blank\">Weights & Biases</a> (<a href='https://wandb.me/run' target=\"_blank\">docs</a>)<br/>"
     },
     "metadata": {},
     "output_type": "display_data"
    },
    {
     "data": {
      "text/plain": "<IPython.core.display.HTML object>",
      "text/html": " View project at <a href='https://wandb.ai/mcfreddie777/dp-recsys' target=\"_blank\">https://wandb.ai/mcfreddie777/dp-recsys</a>"
     },
     "metadata": {},
     "output_type": "display_data"
    },
    {
     "data": {
      "text/plain": "<IPython.core.display.HTML object>",
      "text/html": " View run at <a href='https://wandb.ai/mcfreddie777/dp-recsys/runs/8so05892' target=\"_blank\">https://wandb.ai/mcfreddie777/dp-recsys/runs/8so05892</a>"
     },
     "metadata": {},
     "output_type": "display_data"
    },
    {
     "name": "stdout",
     "output_type": "stream",
     "text": [
      "Running __select_only_reference_action_columns...\n",
      "Running __add_previous_item_column...\n",
      "Running __explode_impressions_prices_columns...\n",
      "Running __add_user_interacted_item_interaction_count_column...\n",
      "Running __narrow_to_clickouts...\n",
      "Running cast...\n",
      "Running __add_mean_price_column...\n",
      "Running __add_impressed_item_position_column...\n",
      "Running __add_last_interacted_column...\n",
      "Running __encode_cat_columns...\n",
      "Running __add_rating_column...\n",
      "Running __collect_features...\n",
      "RUNNING THE L-BFGS-B CODE\n",
      "\n",
      "           * * *\n",
      "\n",
      "Machine precision = 2.220D-16\n",
      " N =            5     M =           10\n",
      "\n",
      "At X0         0 variables are exactly at the bounds\n",
      "\n",
      "At iterate    0    f=  3.50109D+03    |proj g|=  3.46890D+05\n",
      "\n",
      "           * * *\n",
      "\n",
      "Tit   = total number of iterations\n",
      "Tnf   = total number of function evaluations\n",
      "Tnint = total number of segments explored during Cauchy searches\n",
      "Skip  = number of BFGS updates skipped\n",
      "Nact  = number of active bounds at final generalized Cauchy point\n",
      "Projg = norm of the final projected gradient\n",
      "F     = final function value\n",
      "\n",
      "           * * *\n",
      "\n",
      "   N    Tit     Tnf  Tnint  Skip  Nact     Projg        F\n",
      "    5     44     55      1     0     0   1.372D-02   7.379D+02\n",
      "  F =   737.93636866388385     \n",
      "\n",
      "CONVERGENCE: REL_REDUCTION_OF_F_<=_FACTR*EPSMCH             \n"
     ]
    },
    {
     "name": "stderr",
     "output_type": "stream",
     "text": [
      "[Parallel(n_jobs=1)]: Using backend SequentialBackend with 1 concurrent workers.\n",
      " This problem is unconstrained.\n",
      "[Parallel(n_jobs=1)]: Done   1 out of   1 | elapsed:    0.0s finished\n"
     ]
    }
   ],
   "source": [
    "# Tinker with the parameters\n",
    "run = 9\n",
    "notes = ''\n",
    "params = {\n",
    "    'model': 'log-reg',\n",
    "    'subset': constants.SUBSET,\n",
    "    'features': [\n",
    "        \"impressed_item_position\",\n",
    "        # \"impressed_item_rating\",\n",
    "        # \"user_impressed_item_interaction_count\",\n",
    "        \"price\",\n",
    "        \"price_above_impression_mean\",\n",
    "        \"is_last_interacted\",\n",
    "    ]\n",
    "}\n",
    "\n",
    "wandb_run = wandb.init(entity='mcfreddie777', project=\"dp-recsys\", name=f'model_{params[\"model\"]}_run_{run}',\n",
    "                       notes=notes)\n",
    "wandb_run.config.update(params)\n",
    "\n",
    "model = models[params['model']]\n",
    "model.update(params)\n",
    "model.fit(df_train)"
   ]
  },
  {
   "cell_type": "markdown",
   "source": [
    "Predikujeme odporúčania"
   ],
   "metadata": {
    "collapsed": false
   }
  },
  {
   "cell_type": "code",
   "execution_count": 61,
   "id": "a44242a1",
   "metadata": {
    "collapsed": false,
    "jupyter": {
     "outputs_hidden": false
    },
    "ExecuteTime": {
     "end_time": "2023-05-08T21:24:24.938339300Z",
     "start_time": "2023-05-08T21:24:16.920478300Z"
    }
   },
   "outputs": [
    {
     "name": "stdout",
     "output_type": "stream",
     "text": [
      "Running __select_only_reference_action_columns...\n",
      "Running __add_previous_item_column...\n",
      "Running __explode_impressions_prices_columns...\n",
      "Running __add_user_interacted_item_interaction_count_column...\n",
      "Running __narrow_to_clickouts...\n",
      "Running cast...\n",
      "Running __add_mean_price_column...\n",
      "Running __add_impressed_item_position_column...\n",
      "Running __add_last_interacted_column...\n",
      "Running __encode_cat_columns...\n",
      "Running __add_rating_column...\n",
      "Running __collect_features...\n"
     ]
    }
   ],
   "source": [
    "df_test = pd.read_parquet(test_file)\n",
    "df_recommendations = model.predict(df_test)"
   ]
  },
  {
   "cell_type": "markdown",
   "id": "ab336528",
   "metadata": {},
   "source": [
    "Verifikujeme predikcie"
   ]
  },
  {
   "cell_type": "code",
   "execution_count": 62,
   "id": "3afc38b3",
   "metadata": {
    "collapsed": false,
    "jupyter": {
     "outputs_hidden": false
    },
    "ExecuteTime": {
     "end_time": "2023-05-08T21:24:24.998538900Z",
     "start_time": "2023-05-08T21:24:24.940457500Z"
    }
   },
   "outputs": [
    {
     "name": "stdout",
     "output_type": "stream",
     "text": [
      "Checking for required columns in the submission file...\n",
      "> check passed\n",
      "Checking for duplicate sessions in the submission file...\n",
      "> check passed\n",
      "Checking that all the required sessions are present in submission...\n",
      "> check passed\n",
      "All checks passed\n"
     ]
    }
   ],
   "source": [
    "verify_subm(df_subm=df_recommendations, df_test=df_test)"
   ]
  },
  {
   "cell_type": "code",
   "execution_count": 63,
   "id": "494b8db7-0508-4dfe-a326-12161eaed2d7",
   "metadata": {
    "ExecuteTime": {
     "end_time": "2023-05-08T21:24:25.067921300Z",
     "start_time": "2023-05-08T21:24:25.003274500Z"
    }
   },
   "outputs": [],
   "source": [
    "df_recommendations.to_csv(constants.OUTPUT_DIR / f'submission_popular_{params[\"model\"]}_{run}.csv', index=False)"
   ]
  },
  {
   "cell_type": "markdown",
   "id": "460a1153",
   "metadata": {},
   "source": [
    "Vypočítame si MRR na dátach"
   ]
  },
  {
   "cell_type": "code",
   "execution_count": 64,
   "id": "a9ce9297",
   "metadata": {
    "ExecuteTime": {
     "end_time": "2023-05-08T21:24:27.073680300Z",
     "start_time": "2023-05-08T21:24:25.071468700Z"
    }
   },
   "outputs": [
    {
     "name": "stdout",
     "output_type": "stream",
     "text": [
      "Mean reciprocal rank:      0.287\n",
      "Mean average precision @3: 0.1033\n"
     ]
    }
   ],
   "source": [
    "df_gt = pd.read_csv(constants.GROUND_TRUTH)\n",
    "df_test = pd.read_parquet(test_file)\n",
    "mrr, map3 = score_subm(df_subm=df_recommendations, df_gt=df_gt)\n",
    "wandb_run.log({\"mrr\": mrr, \"map3\": map3})"
   ]
  },
  {
   "cell_type": "code",
   "execution_count": 65,
   "id": "0767d1d3",
   "metadata": {
    "ExecuteTime": {
     "end_time": "2023-05-08T21:24:33.678901500Z",
     "start_time": "2023-05-08T21:24:27.075295900Z"
    }
   },
   "outputs": [
    {
     "data": {
      "text/plain": "<IPython.core.display.HTML object>",
      "text/html": "Waiting for W&B process to finish... <strong style=\"color:green\">(success).</strong>"
     },
     "metadata": {},
     "output_type": "display_data"
    },
    {
     "data": {
      "text/plain": "<IPython.core.display.HTML object>",
      "text/html": "<style>\n    table.wandb td:nth-child(1) { padding: 0 10px; text-align: left ; width: auto;} td:nth-child(2) {text-align: left ; width: 100%}\n    .wandb-row { display: flex; flex-direction: row; flex-wrap: wrap; justify-content: flex-start; width: 100% }\n    .wandb-col { display: flex; flex-direction: column; flex-basis: 100%; flex: 1; padding: 10px; }\n    </style>\n<div class=\"wandb-row\"><div class=\"wandb-col\"><h3>Run history:</h3><br/><table class=\"wandb\"><tr><td>map3</td><td>▁</td></tr><tr><td>mrr</td><td>▁</td></tr></table><br/></div><div class=\"wandb-col\"><h3>Run summary:</h3><br/><table class=\"wandb\"><tr><td>map3</td><td>0.1033</td></tr><tr><td>mrr</td><td>0.287</td></tr></table><br/></div></div>"
     },
     "metadata": {},
     "output_type": "display_data"
    },
    {
     "data": {
      "text/plain": "<IPython.core.display.HTML object>",
      "text/html": " View run <strong style=\"color:#cdcd00\">model_log-reg_run_9</strong> at: <a href='https://wandb.ai/mcfreddie777/dp-recsys/runs/8so05892' target=\"_blank\">https://wandb.ai/mcfreddie777/dp-recsys/runs/8so05892</a><br/>Synced 7 W&B file(s), 0 media file(s), 0 artifact file(s) and 2 other file(s)"
     },
     "metadata": {},
     "output_type": "display_data"
    },
    {
     "data": {
      "text/plain": "<IPython.core.display.HTML object>",
      "text/html": "Find logs at: <code>./wandb/run-20230508_212356-8so05892/logs</code>"
     },
     "metadata": {},
     "output_type": "display_data"
    }
   ],
   "source": [
    "wandb_run.finish()\n"
   ]
  }
 ],
 "metadata": {
  "kernelspec": {
   "display_name": "Python 3 (ipykernel)",
   "language": "python",
   "name": "python3"
  },
  "language_info": {
   "codemirror_mode": {
    "name": "ipython",
    "version": 3
   },
   "file_extension": ".py",
   "mimetype": "text/x-python",
   "name": "python",
   "nbconvert_exporter": "python",
   "pygments_lexer": "ipython3",
   "version": "3.10.10"
  }
 },
 "nbformat": 4,
 "nbformat_minor": 5
}
