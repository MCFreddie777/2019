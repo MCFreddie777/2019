{
 "cells": [
  {
   "cell_type": "markdown",
   "id": "2daccbbe",
   "metadata": {},
   "source": [
    "# Odporúčanie"
   ]
  },
  {
   "cell_type": "code",
   "execution_count": 56,
   "id": "6aa064b9",
   "metadata": {},
   "outputs": [],
   "source": [
    "# dependencies\n",
    "import os\n",
    "import pandas as pd\n",
    "import numpy as np\n",
    "import xgboost as xgb\n",
    "from sklearn.model_selection import train_test_split\n",
    "import wandb\n",
    "from wandb.xgboost import wandb_callback\n",
    "\n",
    "from _ import constants\n",
    "from _.functions import preprocess"
   ]
  },
  {
   "cell_type": "markdown",
   "id": "80ee4169",
   "metadata": {},
   "source": [
    "Načítame predspracované dáta (prípadne predspracujeme)"
   ]
  },
  {
   "cell_type": "code",
   "execution_count": 5,
   "id": "d419799a",
   "metadata": {},
   "outputs": [],
   "source": [
    "# preprocess data if not exists\n",
    "if not constants.PREPROCESSED.exists():\n",
    "    df = preprocess(constants.DROPPED, constants.TRAIN, constants.METADATA,)\n",
    "    df.to_parquet(constants.PREPROCESSED, index=False)\n",
    "else:\n",
    "    df = pd.read_parquet(constants.PREPROCESSED)"
   ]
  },
  {
   "cell_type": "markdown",
   "id": "dc87c4ba",
   "metadata": {},
   "source": [
    "Nainicializujeme Weights and Biases (logovací nástroj pre strojové učenie)"
   ]
  },
  {
   "cell_type": "code",
   "execution_count": 8,
   "id": "4d5ae49d",
   "metadata": {},
   "outputs": [
    {
     "name": "stderr",
     "output_type": "stream",
     "text": [
      "\u001B[34m\u001B[1mwandb\u001B[0m: You can find your API key in your browser here: https://wandb.ai/authorize\n"
     ]
    },
    {
     "name": "stdout",
     "output_type": "stream",
     "text": [
      "wandb: Paste an API key from your profile and hit enter, or press ctrl+c to quit: ········\n"
     ]
    },
    {
     "name": "stderr",
     "output_type": "stream",
     "text": [
      "\u001B[34m\u001B[1mwandb\u001B[0m: Appending key for api.wandb.ai to your netrc file: /Users/feri/.netrc\n"
     ]
    },
    {
     "data": {
      "text/plain": [
       "True"
      ]
     },
     "execution_count": 8,
     "metadata": {},
     "output_type": "execute_result"
    }
   ],
   "source": [
    "wandb.login()"
   ]
  },
  {
   "cell_type": "markdown",
   "id": "d1ec6c16",
   "metadata": {},
   "source": [
    "Rozdelíme dátovú sadu na trénovaciu a validačnú"
   ]
  },
  {
   "cell_type": "code",
   "execution_count": 9,
   "id": "4a5da738",
   "metadata": {},
   "outputs": [],
   "source": [
    "df_train, df_valid = train_test_split(df, test_size=0.2)"
   ]
  },
  {
   "cell_type": "code",
   "execution_count": 10,
   "id": "156a48bd",
   "metadata": {},
   "outputs": [
    {
     "data": {
      "text/html": [
       "<div>\n",
       "<style scoped>\n",
       "    .dataframe tbody tr th:only-of-type {\n",
       "        vertical-align: middle;\n",
       "    }\n",
       "\n",
       "    .dataframe tbody tr th {\n",
       "        vertical-align: top;\n",
       "    }\n",
       "\n",
       "    .dataframe thead th {\n",
       "        text-align: right;\n",
       "    }\n",
       "</style>\n",
       "<table border=\"1\" class=\"dataframe\">\n",
       "  <thead>\n",
       "    <tr style=\"text-align: right;\">\n",
       "      <th></th>\n",
       "      <th>user_id</th>\n",
       "      <th>session_id</th>\n",
       "      <th>timestamp</th>\n",
       "      <th>step</th>\n",
       "      <th>action_type</th>\n",
       "      <th>reference</th>\n",
       "      <th>platform</th>\n",
       "      <th>city</th>\n",
       "      <th>current_filters</th>\n",
       "      <th>impressions</th>\n",
       "      <th>prices</th>\n",
       "      <th>impression_index</th>\n",
       "      <th>price</th>\n",
       "      <th>mean_price</th>\n",
       "      <th>device_desktop</th>\n",
       "      <th>device_mobile</th>\n",
       "      <th>device_tablet</th>\n",
       "    </tr>\n",
       "  </thead>\n",
       "  <tbody>\n",
       "    <tr>\n",
       "      <th>5031312</th>\n",
       "      <td>3FWYPHE85TRC</td>\n",
       "      <td>101198</td>\n",
       "      <td>1541380615</td>\n",
       "      <td>36</td>\n",
       "      <td>4</td>\n",
       "      <td>3183561</td>\n",
       "      <td>2</td>\n",
       "      <td>4118</td>\n",
       "      <td>None</td>\n",
       "      <td>None</td>\n",
       "      <td>None</td>\n",
       "      <td>NaN</td>\n",
       "      <td>NaN</td>\n",
       "      <td>NaN</td>\n",
       "      <td>0</td>\n",
       "      <td>1</td>\n",
       "      <td>0</td>\n",
       "    </tr>\n",
       "    <tr>\n",
       "      <th>535973</th>\n",
       "      <td>WV5XYLK2TWQA</td>\n",
       "      <td>428060</td>\n",
       "      <td>1541121990</td>\n",
       "      <td>8</td>\n",
       "      <td>1</td>\n",
       "      <td>1668615</td>\n",
       "      <td>7</td>\n",
       "      <td>4706</td>\n",
       "      <td>[Best Value]</td>\n",
       "      <td>[1832001, 1668615, 1391336, 2569642, 1241054, ...</td>\n",
       "      <td>[29, 30, 26, 37, 37, 33, 37, 45, 30, 36, 78, 5...</td>\n",
       "      <td>1.0</td>\n",
       "      <td>30.0</td>\n",
       "      <td>42.04</td>\n",
       "      <td>1</td>\n",
       "      <td>0</td>\n",
       "      <td>0</td>\n",
       "    </tr>\n",
       "    <tr>\n",
       "      <th>3882567</th>\n",
       "      <td>87QQ3SHBP6LY</td>\n",
       "      <td>291003</td>\n",
       "      <td>1541099566</td>\n",
       "      <td>37</td>\n",
       "      <td>4</td>\n",
       "      <td>104808</td>\n",
       "      <td>7</td>\n",
       "      <td>26967</td>\n",
       "      <td>None</td>\n",
       "      <td>None</td>\n",
       "      <td>None</td>\n",
       "      <td>NaN</td>\n",
       "      <td>NaN</td>\n",
       "      <td>NaN</td>\n",
       "      <td>0</td>\n",
       "      <td>1</td>\n",
       "      <td>0</td>\n",
       "    </tr>\n",
       "    <tr>\n",
       "      <th>5477711</th>\n",
       "      <td>TU89APV44P9G</td>\n",
       "      <td>444566</td>\n",
       "      <td>1541531184</td>\n",
       "      <td>29</td>\n",
       "      <td>4</td>\n",
       "      <td>477751</td>\n",
       "      <td>12</td>\n",
       "      <td>5049</td>\n",
       "      <td>None</td>\n",
       "      <td>None</td>\n",
       "      <td>None</td>\n",
       "      <td>NaN</td>\n",
       "      <td>NaN</td>\n",
       "      <td>NaN</td>\n",
       "      <td>1</td>\n",
       "      <td>0</td>\n",
       "      <td>0</td>\n",
       "    </tr>\n",
       "    <tr>\n",
       "      <th>37370</th>\n",
       "      <td>LAVM6HJ6PD4B</td>\n",
       "      <td>104538</td>\n",
       "      <td>1541383802</td>\n",
       "      <td>37</td>\n",
       "      <td>4</td>\n",
       "      <td>4198568</td>\n",
       "      <td>7</td>\n",
       "      <td>16379</td>\n",
       "      <td>None</td>\n",
       "      <td>None</td>\n",
       "      <td>None</td>\n",
       "      <td>NaN</td>\n",
       "      <td>NaN</td>\n",
       "      <td>NaN</td>\n",
       "      <td>0</td>\n",
       "      <td>1</td>\n",
       "      <td>0</td>\n",
       "    </tr>\n",
       "    <tr>\n",
       "      <th>...</th>\n",
       "      <td>...</td>\n",
       "      <td>...</td>\n",
       "      <td>...</td>\n",
       "      <td>...</td>\n",
       "      <td>...</td>\n",
       "      <td>...</td>\n",
       "      <td>...</td>\n",
       "      <td>...</td>\n",
       "      <td>...</td>\n",
       "      <td>...</td>\n",
       "      <td>...</td>\n",
       "      <td>...</td>\n",
       "      <td>...</td>\n",
       "      <td>...</td>\n",
       "      <td>...</td>\n",
       "      <td>...</td>\n",
       "      <td>...</td>\n",
       "    </tr>\n",
       "    <tr>\n",
       "      <th>8800092</th>\n",
       "      <td>HPVGSX1Q50FS</td>\n",
       "      <td>415858</td>\n",
       "      <td>1541373073</td>\n",
       "      <td>26</td>\n",
       "      <td>4</td>\n",
       "      <td>54117</td>\n",
       "      <td>8</td>\n",
       "      <td>11459</td>\n",
       "      <td>None</td>\n",
       "      <td>None</td>\n",
       "      <td>None</td>\n",
       "      <td>NaN</td>\n",
       "      <td>NaN</td>\n",
       "      <td>NaN</td>\n",
       "      <td>1</td>\n",
       "      <td>0</td>\n",
       "      <td>0</td>\n",
       "    </tr>\n",
       "    <tr>\n",
       "      <th>4478541</th>\n",
       "      <td>14YVK1DETU6H</td>\n",
       "      <td>384346</td>\n",
       "      <td>1541106063</td>\n",
       "      <td>15</td>\n",
       "      <td>4</td>\n",
       "      <td>2396262</td>\n",
       "      <td>50</td>\n",
       "      <td>16226</td>\n",
       "      <td>None</td>\n",
       "      <td>None</td>\n",
       "      <td>None</td>\n",
       "      <td>NaN</td>\n",
       "      <td>NaN</td>\n",
       "      <td>NaN</td>\n",
       "      <td>0</td>\n",
       "      <td>1</td>\n",
       "      <td>0</td>\n",
       "    </tr>\n",
       "    <tr>\n",
       "      <th>3973798</th>\n",
       "      <td>5NJ7Q9WFU53W</td>\n",
       "      <td>368273</td>\n",
       "      <td>1541106621</td>\n",
       "      <td>38</td>\n",
       "      <td>4</td>\n",
       "      <td>3972924</td>\n",
       "      <td>51</td>\n",
       "      <td>9044</td>\n",
       "      <td>None</td>\n",
       "      <td>None</td>\n",
       "      <td>None</td>\n",
       "      <td>NaN</td>\n",
       "      <td>NaN</td>\n",
       "      <td>NaN</td>\n",
       "      <td>1</td>\n",
       "      <td>0</td>\n",
       "      <td>0</td>\n",
       "    </tr>\n",
       "    <tr>\n",
       "      <th>1425355</th>\n",
       "      <td>LA70UI16N258</td>\n",
       "      <td>581922</td>\n",
       "      <td>1541178420</td>\n",
       "      <td>33</td>\n",
       "      <td>4</td>\n",
       "      <td>2937322</td>\n",
       "      <td>14</td>\n",
       "      <td>1827</td>\n",
       "      <td>None</td>\n",
       "      <td>None</td>\n",
       "      <td>None</td>\n",
       "      <td>NaN</td>\n",
       "      <td>NaN</td>\n",
       "      <td>NaN</td>\n",
       "      <td>1</td>\n",
       "      <td>0</td>\n",
       "      <td>0</td>\n",
       "    </tr>\n",
       "    <tr>\n",
       "      <th>1237102</th>\n",
       "      <td>DGHV2FK1CNZP</td>\n",
       "      <td>341733</td>\n",
       "      <td>1541160603</td>\n",
       "      <td>9</td>\n",
       "      <td>0</td>\n",
       "      <td>interaction sort button</td>\n",
       "      <td>32</td>\n",
       "      <td>6299</td>\n",
       "      <td>None</td>\n",
       "      <td>None</td>\n",
       "      <td>None</td>\n",
       "      <td>NaN</td>\n",
       "      <td>NaN</td>\n",
       "      <td>NaN</td>\n",
       "      <td>0</td>\n",
       "      <td>1</td>\n",
       "      <td>0</td>\n",
       "    </tr>\n",
       "  </tbody>\n",
       "</table>\n",
       "<p>7503568 rows × 17 columns</p>\n",
       "</div>"
      ],
      "text/plain": [
       "              user_id  session_id   timestamp  step  action_type  \\\n",
       "5031312  3FWYPHE85TRC      101198  1541380615    36            4   \n",
       "535973   WV5XYLK2TWQA      428060  1541121990     8            1   \n",
       "3882567  87QQ3SHBP6LY      291003  1541099566    37            4   \n",
       "5477711  TU89APV44P9G      444566  1541531184    29            4   \n",
       "37370    LAVM6HJ6PD4B      104538  1541383802    37            4   \n",
       "...               ...         ...         ...   ...          ...   \n",
       "8800092  HPVGSX1Q50FS      415858  1541373073    26            4   \n",
       "4478541  14YVK1DETU6H      384346  1541106063    15            4   \n",
       "3973798  5NJ7Q9WFU53W      368273  1541106621    38            4   \n",
       "1425355  LA70UI16N258      581922  1541178420    33            4   \n",
       "1237102  DGHV2FK1CNZP      341733  1541160603     9            0   \n",
       "\n",
       "                       reference  platform   city current_filters  \\\n",
       "5031312                  3183561         2   4118            None   \n",
       "535973                   1668615         7   4706    [Best Value]   \n",
       "3882567                   104808         7  26967            None   \n",
       "5477711                   477751        12   5049            None   \n",
       "37370                    4198568         7  16379            None   \n",
       "...                          ...       ...    ...             ...   \n",
       "8800092                    54117         8  11459            None   \n",
       "4478541                  2396262        50  16226            None   \n",
       "3973798                  3972924        51   9044            None   \n",
       "1425355                  2937322        14   1827            None   \n",
       "1237102  interaction sort button        32   6299            None   \n",
       "\n",
       "                                               impressions  \\\n",
       "5031312                                               None   \n",
       "535973   [1832001, 1668615, 1391336, 2569642, 1241054, ...   \n",
       "3882567                                               None   \n",
       "5477711                                               None   \n",
       "37370                                                 None   \n",
       "...                                                    ...   \n",
       "8800092                                               None   \n",
       "4478541                                               None   \n",
       "3973798                                               None   \n",
       "1425355                                               None   \n",
       "1237102                                               None   \n",
       "\n",
       "                                                    prices  impression_index  \\\n",
       "5031312                                               None               NaN   \n",
       "535973   [29, 30, 26, 37, 37, 33, 37, 45, 30, 36, 78, 5...               1.0   \n",
       "3882567                                               None               NaN   \n",
       "5477711                                               None               NaN   \n",
       "37370                                                 None               NaN   \n",
       "...                                                    ...               ...   \n",
       "8800092                                               None               NaN   \n",
       "4478541                                               None               NaN   \n",
       "3973798                                               None               NaN   \n",
       "1425355                                               None               NaN   \n",
       "1237102                                               None               NaN   \n",
       "\n",
       "         price  mean_price  device_desktop  device_mobile  device_tablet  \n",
       "5031312    NaN         NaN               0              1              0  \n",
       "535973    30.0       42.04               1              0              0  \n",
       "3882567    NaN         NaN               0              1              0  \n",
       "5477711    NaN         NaN               1              0              0  \n",
       "37370      NaN         NaN               0              1              0  \n",
       "...        ...         ...             ...            ...            ...  \n",
       "8800092    NaN         NaN               1              0              0  \n",
       "4478541    NaN         NaN               0              1              0  \n",
       "3973798    NaN         NaN               1              0              0  \n",
       "1425355    NaN         NaN               1              0              0  \n",
       "1237102    NaN         NaN               0              1              0  \n",
       "\n",
       "[7503568 rows x 17 columns]"
      ]
     },
     "execution_count": 10,
     "metadata": {},
     "output_type": "execute_result"
    }
   ],
   "source": [
    "df_train"
   ]
  },
  {
   "cell_type": "markdown",
   "id": "d9e080ca",
   "metadata": {},
   "source": [
    "Vytvoríme DMatrix (vstupný formát pre XGBoost)"
   ]
  },
  {
   "cell_type": "code",
   "execution_count": 37,
   "id": "27519212",
   "metadata": {},
   "outputs": [],
   "source": [
    "def getDMatrix(df, label, labels_to_drop):\n",
    "    data = df.drop(labels_to_drop, axis=1)\n",
    "    data.fillna(\"0\", inplace=True)\n",
    "    \n",
    "    for col in list(set(data.columns.values.tolist())):\n",
    "        try:\n",
    "            data[col] = pd.to_numeric(data[col])\n",
    "        except:\n",
    "            data[col] = -1\n",
    "\n",
    "\n",
    "    return xgb.DMatrix(\n",
    "        data=data,\n",
    "        label=data[label].values,\n",
    "        nthread=-1,\n",
    "        feature_names=data.columns.tolist(),\n",
    "    )"
   ]
  },
  {
   "cell_type": "code",
   "execution_count": 42,
   "id": "34255434",
   "metadata": {},
   "outputs": [],
   "source": [
    "label = 'device_desktop'\n",
    "\n",
    "labels_to_drop = [\n",
    "    'user_id',\n",
    "    'session_id', \n",
    "    'step',\n",
    "]\n",
    "\n",
    "dm_train = getDMatrix(df_train, label, labels_to_drop)\n",
    "dm_valid = getDMatrix(df_valid, label, labels_to_drop)"
   ]
  },
  {
   "cell_type": "markdown",
   "id": "331410b4",
   "metadata": {},
   "source": [
    "Spustíme trénovanie"
   ]
  },
  {
   "cell_type": "code",
   "execution_count": 43,
   "id": "eb0e2703",
   "metadata": {},
   "outputs": [
    {
     "data": {
      "text/html": [
       "Finishing last run (ID:1t0a1wv6) before initializing another..."
      ],
      "text/plain": [
       "<IPython.core.display.HTML object>"
      ]
     },
     "metadata": {},
     "output_type": "display_data"
    },
    {
     "data": {
      "text/html": [
       "<br/>Waiting for W&B process to finish, PID 14856... <strong style=\"color:green\">(success).</strong>"
      ],
      "text/plain": [
       "<IPython.core.display.HTML object>"
      ]
     },
     "metadata": {},
     "output_type": "display_data"
    },
    {
     "data": {
      "application/vnd.jupyter.widget-view+json": {
       "model_id": "",
       "version_major": 2,
       "version_minor": 0
      },
      "text/plain": [
       "VBox(children=(Label(value=' 0.00MB of 0.00MB uploaded (0.00MB deduped)\\r'), FloatProgress(value=1.0, max=1.0)…"
      ]
     },
     "metadata": {},
     "output_type": "display_data"
    },
    {
     "data": {
      "text/html": [
       "<style>\n",
       "    table.wandb td:nth-child(1) { padding: 0 10px; text-align: right }\n",
       "    .wandb-row { display: flex; flex-direction: row; flex-wrap: wrap; width: 100% }\n",
       "    .wandb-col { display: flex; flex-direction: column; flex-basis: 100%; flex: 1; padding: 10px; }\n",
       "    </style>\n",
       "<div class=\"wandb-row\"><div class=\"wandb-col\">\n",
       "</div><div class=\"wandb-col\">\n",
       "</div></div>\n",
       "Synced 5 W&B file(s), 0 media file(s), 0 artifact file(s) and 0 other file(s)\n",
       "<br/>Synced <strong style=\"color:#cdcd00\">run_1</strong>: <a href=\"https://wandb.ai/nn2021/dp-xgboost-rec/runs/1t0a1wv6\" target=\"_blank\">https://wandb.ai/nn2021/dp-xgboost-rec/runs/1t0a1wv6</a><br/>\n",
       "Find logs at: <code>./wandb/run-20220102_191440-1t0a1wv6/logs</code><br/>\n"
      ],
      "text/plain": [
       "<IPython.core.display.HTML object>"
      ]
     },
     "metadata": {},
     "output_type": "display_data"
    },
    {
     "data": {
      "text/html": [
       "Successfully finished last run (ID:1t0a1wv6). Initializing new run:<br/>"
      ],
      "text/plain": [
       "<IPython.core.display.HTML object>"
      ]
     },
     "metadata": {},
     "output_type": "display_data"
    },
    {
     "data": {
      "text/html": [
       "\n",
       "                    Syncing run <strong><a href=\"https://wandb.ai/nn2021/dp-xgboost-rec/runs/123sgfv7\" target=\"_blank\">run_1</a></strong> to <a href=\"https://wandb.ai/nn2021/dp-xgboost-rec\" target=\"_blank\">Weights & Biases</a> (<a href=\"https://docs.wandb.com/integrations/jupyter.html\" target=\"_blank\">docs</a>).<br/>\n",
       "\n",
       "                "
      ],
      "text/plain": [
       "<IPython.core.display.HTML object>"
      ]
     },
     "metadata": {},
     "output_type": "display_data"
    },
    {
     "name": "stderr",
     "output_type": "stream",
     "text": [
      "/Users/feri/.local/share/virtualenvs/DP-WWU-SXFb/lib/python3.8/site-packages/xgboost/training.py:17: UserWarning: Old style callback is deprecated.  See: https://xgboost.readthedocs.io/en/latest/python/callbacks.html\n",
      "  warnings.warn(f'Old style callback is deprecated.  See: {link}', UserWarning)\n"
     ]
    },
    {
     "name": "stdout",
     "output_type": "stream",
     "text": [
      "Multiple eval metrics have been passed: 'valid-logloss' will be used for early stopping.\n",
      "Will train until valid-logloss hasn't improved in 10 rounds.\n",
      "0\ttrain-logloss:0.68110\tvalid-logloss:0.67226\n",
      "10\ttrain-logloss:0.52744\tvalid-logloss:0.52479\n",
      "20\ttrain-logloss:0.40623\tvalid-logloss:0.40613\n",
      "30\ttrain-logloss:0.32536\tvalid-logloss:0.32539\n",
      "40\ttrain-logloss:0.25789\tvalid-logloss:0.25785\n",
      "50\ttrain-logloss:0.20502\tvalid-logloss:0.20575\n",
      "60\ttrain-logloss:0.16859\tvalid-logloss:0.16826\n",
      "70\ttrain-logloss:0.13606\tvalid-logloss:0.13624\n",
      "80\ttrain-logloss:0.11072\tvalid-logloss:0.11068\n",
      "90\ttrain-logloss:0.09310\tvalid-logloss:0.09303\n",
      "100\ttrain-logloss:0.07845\tvalid-logloss:0.07841\n",
      "110\ttrain-logloss:0.06376\tvalid-logloss:0.06375\n",
      "120\ttrain-logloss:0.05190\tvalid-logloss:0.05188\n",
      "130\ttrain-logloss:0.04227\tvalid-logloss:0.04226\n",
      "140\ttrain-logloss:0.03462\tvalid-logloss:0.03463\n",
      "150\ttrain-logloss:0.02825\tvalid-logloss:0.02826\n",
      "160\ttrain-logloss:0.02333\tvalid-logloss:0.02332\n",
      "170\ttrain-logloss:0.01939\tvalid-logloss:0.01939\n",
      "180\ttrain-logloss:0.01614\tvalid-logloss:0.01613\n",
      "190\ttrain-logloss:0.01342\tvalid-logloss:0.01343\n",
      "200\ttrain-logloss:0.01117\tvalid-logloss:0.01117\n",
      "210\ttrain-logloss:0.00914\tvalid-logloss:0.00914\n",
      "220\ttrain-logloss:0.00751\tvalid-logloss:0.00751\n",
      "230\ttrain-logloss:0.00626\tvalid-logloss:0.00626\n",
      "240\ttrain-logloss:0.00512\tvalid-logloss:0.00512\n",
      "250\ttrain-logloss:0.00426\tvalid-logloss:0.00427\n",
      "260\ttrain-logloss:0.00349\tvalid-logloss:0.00349\n",
      "270\ttrain-logloss:0.00287\tvalid-logloss:0.00287\n",
      "280\ttrain-logloss:0.00235\tvalid-logloss:0.00235\n",
      "290\ttrain-logloss:0.00193\tvalid-logloss:0.00193\n",
      "299\ttrain-logloss:0.00164\tvalid-logloss:0.00164\n"
     ]
    }
   ],
   "source": [
    "params={\n",
    "  'eta': 0.02, \n",
    "  'booster': 'gbtree',\n",
    "  'tree_method':'hist',\n",
    "  'max_leaves': 350,\n",
    "  'max_depth': 10,\n",
    "  'nthread': -1,\n",
    "  'subsample': 0.9,\n",
    "  'colsample_bytree': 0.8,\n",
    "  'colsample_bylevel': 0.8,\n",
    "  'min_child_weight': 2,\n",
    "  'alpha': 1,\n",
    "  'objective': 'binary:logistic',\n",
    "  'eval_metric': 'logloss',\n",
    "  'random_state': 5478,\n",
    "  'verbosity': 0,\n",
    "}\n",
    "\n",
    "\n",
    "run = 1\n",
    "notes ='Initial training'\n",
    "wandb_run = wandb.init(project=\"dp-xgboost-rec\",name=f'run_{run}', notes=notes)\n",
    "wandb_run.config.update(params)\n",
    "\n",
    "clf = xgb.train(\n",
    "    params=params,\n",
    "    dtrain=dm_train,\n",
    "    num_boost_round=300, #11927\n",
    "    early_stopping_rounds=10,\n",
    "    evals=[ (dm_train, 'train'), (dm_valid, 'valid')],\n",
    "    verbose_eval=10,\n",
    "    callbacks=[wandb_callback()]\n",
    ")"
   ]
  },
  {
   "cell_type": "markdown",
   "id": "460a1153",
   "metadata": {},
   "source": [
    "Vypočítame si MRR na dátach"
   ]
  },
  {
   "cell_type": "code",
   "execution_count": 57,
   "id": "a9ce9297",
   "metadata": {},
   "outputs": [
    {
     "name": "stdout",
     "output_type": "stream",
     "text": [
      "MRR score:  0.3660414119012581\n"
     ]
    }
   ],
   "source": [
    "def compute_mean_reciprocal_rank(rs):\n",
    "    rs = (np.asarray(r).nonzero()[0] for r in rs)\n",
    "    return np.mean([1. / (r[0] + 1) if r.size else 0. for r in rs])\n",
    "\n",
    "def evaluate(df_valid, dm_valid, label, clf):\n",
    "    df_valid.loc[:,'scores'] = clf.predict(dm_valid)[:df_valid.shape[0]]\n",
    "    groups = df_valid.groupby(by=['session_id'])\n",
    "    rss = []\n",
    "    \n",
    "    for _, g in groups:\n",
    "        scores = g.scores\n",
    "        sorted_arg = np.flip(np.argsort(scores))\n",
    "        rss.append(g[label].values[sorted_arg])\n",
    "\n",
    "    mrr = compute_mean_reciprocal_rank(rss)\n",
    "    return mrr\n",
    "\n",
    "mrr = evaluate(df_valid, dm_valid, label, clf)\n",
    "\n",
    "print(\"MRR score: \", mrr)\n",
    "wandb.log({\"mrr\":mrr})"
   ]
  },
  {
   "cell_type": "markdown",
   "id": "db243381",
   "metadata": {},
   "source": [
    "Zobrazíme si dôležitosť jednotlivých atribútov na rozhodovanie algoritmu XGBoost"
   ]
  },
  {
   "cell_type": "code",
   "execution_count": 61,
   "id": "be731ecb",
   "metadata": {},
   "outputs": [
    {
     "name": "stdout",
     "output_type": "stream",
     "text": [
      "               name     importance\n",
      "7    device_desktop  637333.250000\n",
      "8     device_mobile  422360.437500\n",
      "9     device_tablet   76941.710938\n",
      "0         timestamp     154.500259\n",
      "2          platform     133.275635\n",
      "1       action_type      82.746422\n",
      "6        mean_price      79.039299\n",
      "5             price      35.720272\n",
      "3              city      12.827970\n",
      "4  impression_index       5.405089\n"
     ]
    }
   ],
   "source": [
    "imp = clf.get_score( importance_type='gain')\n",
    "imp_df = pd.DataFrame.from_dict(imp, orient='index').reset_index()\n",
    "\n",
    "imp_df.columns=['name','importance']\n",
    "imp_df.sort_values('importance', ascending=False, inplace=True)\n",
    "\n",
    "print(imp_df.head(20))\n",
    "wandb.log({\"importance\":dict(imp_df[:10].values)})"
   ]
  },
  {
   "cell_type": "code",
   "execution_count": 70,
   "id": "0767d1d3",
   "metadata": {},
   "outputs": [],
   "source": [
    "clf.save_model(constants.DATA_DIR / f'run_{run}.model')\n",
    "wandb_run.finish()"
   ]
  }
 ],
 "metadata": {
  "kernelspec": {
   "display_name": "Python 3 (ipykernel)",
   "language": "python",
   "name": "python3"
  },
  "language_info": {
   "codemirror_mode": {
    "name": "ipython",
    "version": 3
   },
   "file_extension": ".py",
   "mimetype": "text/x-python",
   "name": "python",
   "nbconvert_exporter": "python",
   "pygments_lexer": "ipython3",
   "version": "3.8.12"
  }
 },
 "nbformat": 4,
 "nbformat_minor": 5
}