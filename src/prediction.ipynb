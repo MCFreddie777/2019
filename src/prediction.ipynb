{
 "cells": [
  {
   "cell_type": "markdown",
   "id": "b75ec47f",
   "metadata": {},
   "source": [
    "# Odporúčanie"
   ]
  },
  {
   "cell_type": "code",
   "execution_count": 25,
   "outputs": [
    {
     "name": "stdout",
     "output_type": "stream",
     "text": [
      "The autoreload extension is already loaded. To reload it, use:\n",
      "  %reload_ext autoreload\n"
     ]
    }
   ],
   "source": [
    "%load_ext autoreload\n",
    "%autoreload all"
   ],
   "metadata": {
    "collapsed": false,
    "ExecuteTime": {
     "end_time": "2023-05-06T19:57:09.439727700Z",
     "start_time": "2023-05-06T19:57:09.361175Z"
    }
   }
  },
  {
   "cell_type": "code",
   "execution_count": 26,
   "outputs": [],
   "source": [
    "# dependencies\n",
    "import pandas as pd\n",
    "import wandb\n",
    "from dotenv import load_dotenv\n",
    "\n",
    "from _helpers import constants\n",
    "from _helpers.verify_submission.verify_subm import main as verify_subm\n",
    "from _helpers.score_submission.score_subm import main as score_subm\n",
    "from models.model_random import ModelRandom\n",
    "from models.model_nochange import ModelNoChange"
   ],
   "metadata": {
    "collapsed": false,
    "ExecuteTime": {
     "end_time": "2023-05-06T19:57:09.503288700Z",
     "start_time": "2023-05-06T19:57:09.408853600Z"
    }
   }
  },
  {
   "cell_type": "code",
   "execution_count": 27,
   "outputs": [
    {
     "data": {
      "text/plain": "False"
     },
     "execution_count": 27,
     "metadata": {},
     "output_type": "execute_result"
    }
   ],
   "source": [
    "# Load env variables from .env file\n",
    "load_dotenv()"
   ],
   "metadata": {
    "collapsed": false,
    "ExecuteTime": {
     "end_time": "2023-05-06T19:57:09.532168800Z",
     "start_time": "2023-05-06T19:57:09.481051700Z"
    }
   }
  },
  {
   "cell_type": "markdown",
   "id": "5f6b01a1-85ad-4219-993f-0d822f496f66",
   "metadata": {},
   "source": [
    "Nainicializujeme Weights and Biases (logovací nástroj pre strojové učenie)"
   ]
  },
  {
   "cell_type": "code",
   "execution_count": 28,
   "id": "e6e72da6-a422-4787-98d7-f04cd1cf685c",
   "metadata": {
    "ExecuteTime": {
     "end_time": "2023-05-06T19:57:09.579499300Z",
     "start_time": "2023-05-06T19:57:09.523511400Z"
    }
   },
   "outputs": [
    {
     "data": {
      "text/plain": "True"
     },
     "execution_count": 28,
     "metadata": {},
     "output_type": "execute_result"
    }
   ],
   "source": [
    "wandb.login()"
   ]
  },
  {
   "cell_type": "code",
   "execution_count": 29,
   "id": "1f387e92-87f3-405f-85db-6fdd23c5ff56",
   "metadata": {
    "ExecuteTime": {
     "end_time": "2023-05-06T19:57:35.965961600Z",
     "start_time": "2023-05-06T19:57:09.572187800Z"
    }
   },
   "outputs": [],
   "source": [
    "df_train = pd.read_csv(constants.TRAIN)"
   ]
  },
  {
   "cell_type": "markdown",
   "id": "e84d2936-2b31-40db-9dec-a2f2d73abcf4",
   "metadata": {},
   "source": [
    "Spustíme trénovanie"
   ]
  },
  {
   "cell_type": "code",
   "execution_count": 30,
   "outputs": [],
   "source": [
    "models = {\n",
    "    'random': ModelRandom(),\n",
    "    'nochange': ModelNoChange(),\n",
    "}"
   ],
   "metadata": {
    "collapsed": false,
    "ExecuteTime": {
     "end_time": "2023-05-06T19:57:36.021301900Z",
     "start_time": "2023-05-06T19:57:35.970716800Z"
    }
   }
  },
  {
   "cell_type": "code",
   "execution_count": 31,
   "id": "860044ff-35a3-40f9-bf41-434ca6f56ce4",
   "metadata": {
    "ExecuteTime": {
     "end_time": "2023-05-06T19:57:39.718549200Z",
     "start_time": "2023-05-06T19:57:36.027626300Z"
    }
   },
   "outputs": [
    {
     "name": "stderr",
     "output_type": "stream",
     "text": [
      "fatal: stat 'src/prediction.ipynb': No such file or directory\n"
     ]
    },
    {
     "data": {
      "text/plain": "<IPython.core.display.HTML object>",
      "text/html": "wandb version 0.15.2 is available!  To upgrade, please run:\n $ pip install wandb --upgrade"
     },
     "metadata": {},
     "output_type": "display_data"
    },
    {
     "data": {
      "text/plain": "<IPython.core.display.HTML object>",
      "text/html": "Tracking run with wandb version 0.15.1"
     },
     "metadata": {},
     "output_type": "display_data"
    },
    {
     "data": {
      "text/plain": "<IPython.core.display.HTML object>",
      "text/html": "Run data is saved locally in <code>/home/src/wandb/run-20230506_195736-aylx5qld</code>"
     },
     "metadata": {},
     "output_type": "display_data"
    },
    {
     "data": {
      "text/plain": "<IPython.core.display.HTML object>",
      "text/html": "Syncing run <strong><a href='https://wandb.ai/mcfreddie777/dp-recsys/runs/aylx5qld' target=\"_blank\">model_nochange_run_1</a></strong> to <a href='https://wandb.ai/mcfreddie777/dp-recsys' target=\"_blank\">Weights & Biases</a> (<a href='https://wandb.me/run' target=\"_blank\">docs</a>)<br/>"
     },
     "metadata": {},
     "output_type": "display_data"
    },
    {
     "data": {
      "text/plain": "<IPython.core.display.HTML object>",
      "text/html": " View project at <a href='https://wandb.ai/mcfreddie777/dp-recsys' target=\"_blank\">https://wandb.ai/mcfreddie777/dp-recsys</a>"
     },
     "metadata": {},
     "output_type": "display_data"
    },
    {
     "data": {
      "text/plain": "<IPython.core.display.HTML object>",
      "text/html": " View run at <a href='https://wandb.ai/mcfreddie777/dp-recsys/runs/aylx5qld' target=\"_blank\">https://wandb.ai/mcfreddie777/dp-recsys/runs/aylx5qld</a>"
     },
     "metadata": {},
     "output_type": "display_data"
    }
   ],
   "source": [
    "run = 1\n",
    "notes = ''\n",
    "params = {\n",
    "    'model': 'nochange',\n",
    "}\n",
    "\n",
    "wandb_run = wandb.init(entity='mcfreddie777', project=\"dp-recsys\", name=f'model_{params[\"model\"]}_run_{run}', notes=notes)\n",
    "wandb_run.config.update(params)\n",
    "\n",
    "model = models[params['model']]\n",
    "model.update(params)\n",
    "model.fit(df_train)"
   ]
  },
  {
   "cell_type": "markdown",
   "source": [
    "Predikujeme odporúčania"
   ],
   "metadata": {
    "collapsed": false
   }
  },
  {
   "cell_type": "code",
   "execution_count": 32,
   "outputs": [],
   "source": [
    "df_test = pd.read_csv(constants.TEST)\n",
    "df_recommendations = model.predict(df_test)"
   ],
   "metadata": {
    "collapsed": false,
    "ExecuteTime": {
     "end_time": "2023-05-06T19:57:48.710387500Z",
     "start_time": "2023-05-06T19:57:39.696777400Z"
    }
   }
  },
  {
   "cell_type": "markdown",
   "source": [
    "Verifikujeme predikcie"
   ],
   "metadata": {
    "collapsed": false
   }
  },
  {
   "cell_type": "code",
   "execution_count": 33,
   "outputs": [
    {
     "name": "stdout",
     "output_type": "stream",
     "text": [
      "Checking for required columns in the submission file...\n",
      "> check passed\n",
      "Checking for duplicate sessions in the submission file...\n",
      "> check passed\n",
      "Checking that all the required sessions are present in submission...\n",
      "> check passed\n",
      "All checks passed\n"
     ]
    }
   ],
   "source": [
    "verify_subm(df_subm=df_recommendations,df_test=df_test)"
   ],
   "metadata": {
    "collapsed": false,
    "ExecuteTime": {
     "end_time": "2023-05-06T19:57:49.163982500Z",
     "start_time": "2023-05-06T19:57:48.710387500Z"
    }
   }
  },
  {
   "cell_type": "code",
   "execution_count": 34,
   "id": "494b8db7-0508-4dfe-a326-12161eaed2d7",
   "metadata": {
    "ExecuteTime": {
     "end_time": "2023-05-06T19:57:50.604235Z",
     "start_time": "2023-05-06T19:57:49.166713500Z"
    }
   },
   "outputs": [],
   "source": [
    "df_recommendations.to_csv(constants.OUTPUT_DIR / f'submission_popular_{params[\"model\"]}_{run}.csv', index=False)"
   ]
  },
  {
   "cell_type": "markdown",
   "id": "460a1153",
   "metadata": {},
   "source": [
    "Vypočítame si MRR na dátach"
   ]
  },
  {
   "cell_type": "code",
   "execution_count": 35,
   "id": "a9ce9297",
   "metadata": {
    "ExecuteTime": {
     "end_time": "2023-05-06T19:58:05.899868100Z",
     "start_time": "2023-05-06T19:57:50.608426700Z"
    }
   },
   "outputs": [
    {
     "name": "stdout",
     "output_type": "stream",
     "text": [
      "Mean reciprocal rank:      0.2242\n",
      "Mean average precision @3: 0.0668\n"
     ]
    }
   ],
   "source": [
    "df_gt = pd.read_csv(constants.GROUND_TRUTH)\n",
    "mrr,map3 = score_subm(df_subm=df_recommendations,df_gt=df_gt)\n",
    "wandb_run.log({\"mrr\":mrr, \"map3\":map3})"
   ]
  },
  {
   "cell_type": "code",
   "execution_count": 36,
   "id": "0767d1d3",
   "metadata": {
    "ExecuteTime": {
     "end_time": "2023-05-06T19:58:09.976496700Z",
     "start_time": "2023-05-06T19:58:05.900401400Z"
    }
   },
   "outputs": [
    {
     "data": {
      "text/plain": "<IPython.core.display.HTML object>",
      "text/html": "Waiting for W&B process to finish... <strong style=\"color:green\">(success).</strong>"
     },
     "metadata": {},
     "output_type": "display_data"
    },
    {
     "data": {
      "text/plain": "<IPython.core.display.HTML object>",
      "text/html": "<style>\n    table.wandb td:nth-child(1) { padding: 0 10px; text-align: left ; width: auto;} td:nth-child(2) {text-align: left ; width: 100%}\n    .wandb-row { display: flex; flex-direction: row; flex-wrap: wrap; justify-content: flex-start; width: 100% }\n    .wandb-col { display: flex; flex-direction: column; flex-basis: 100%; flex: 1; padding: 10px; }\n    </style>\n<div class=\"wandb-row\"><div class=\"wandb-col\"><h3>Run history:</h3><br/><table class=\"wandb\"><tr><td>map3</td><td>▁</td></tr><tr><td>mrr</td><td>▁</td></tr></table><br/></div><div class=\"wandb-col\"><h3>Run summary:</h3><br/><table class=\"wandb\"><tr><td>map3</td><td>0.0668</td></tr><tr><td>mrr</td><td>0.2242</td></tr></table><br/></div></div>"
     },
     "metadata": {},
     "output_type": "display_data"
    },
    {
     "data": {
      "text/plain": "<IPython.core.display.HTML object>",
      "text/html": " View run <strong style=\"color:#cdcd00\">model_nochange_run_1</strong> at: <a href='https://wandb.ai/mcfreddie777/dp-recsys/runs/aylx5qld' target=\"_blank\">https://wandb.ai/mcfreddie777/dp-recsys/runs/aylx5qld</a><br/>Synced 7 W&B file(s), 0 media file(s), 0 artifact file(s) and 1 other file(s)"
     },
     "metadata": {},
     "output_type": "display_data"
    },
    {
     "data": {
      "text/plain": "<IPython.core.display.HTML object>",
      "text/html": "Find logs at: <code>./wandb/run-20230506_195736-aylx5qld/logs</code>"
     },
     "metadata": {},
     "output_type": "display_data"
    }
   ],
   "source": [
    "wandb_run.finish()\n"
   ]
  }
 ],
 "metadata": {
  "kernelspec": {
   "display_name": "Python 3 (ipykernel)",
   "language": "python",
   "name": "python3"
  },
  "language_info": {
   "codemirror_mode": {
    "name": "ipython",
    "version": 3
   },
   "file_extension": ".py",
   "mimetype": "text/x-python",
   "name": "python",
   "nbconvert_exporter": "python",
   "pygments_lexer": "ipython3",
   "version": "3.10.10"
  }
 },
 "nbformat": 4,
 "nbformat_minor": 5
}
