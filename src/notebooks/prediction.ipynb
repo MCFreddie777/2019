{
 "cells": [
  {
   "cell_type": "markdown",
   "id": "b75ec47f",
   "metadata": {},
   "source": [
    "# Odporúčanie"
   ]
  },
  {
   "cell_type": "code",
   "execution_count": 14,
   "id": "4d68b330",
   "metadata": {
    "collapsed": false,
    "jupyter": {
     "outputs_hidden": false
    },
    "ExecuteTime": {
     "end_time": "2023-05-09T20:16:21.993153800Z",
     "start_time": "2023-05-09T20:16:21.915930Z"
    }
   },
   "outputs": [
    {
     "name": "stdout",
     "output_type": "stream",
     "text": [
      "The autoreload extension is already loaded. To reload it, use:\n",
      "  %reload_ext autoreload\n"
     ]
    }
   ],
   "source": [
    "%load_ext autoreload\n",
    "%autoreload all"
   ]
  },
  {
   "cell_type": "code",
   "execution_count": 15,
   "id": "9aa0c65e",
   "metadata": {
    "collapsed": false,
    "jupyter": {
     "outputs_hidden": false
    },
    "ExecuteTime": {
     "end_time": "2023-05-09T20:16:22.038986500Z",
     "start_time": "2023-05-09T20:16:21.924283800Z"
    }
   },
   "outputs": [],
   "source": [
    "# dependencies\n",
    "import pandas as pd\n",
    "import wandb"
   ]
  },
  {
   "cell_type": "code",
   "execution_count": 16,
   "id": "0817912a",
   "metadata": {
    "collapsed": false,
    "jupyter": {
     "outputs_hidden": false
    },
    "ExecuteTime": {
     "end_time": "2023-05-09T20:16:22.040026300Z",
     "start_time": "2023-05-09T20:16:21.930868600Z"
    }
   },
   "outputs": [],
   "source": [
    "#local modules\n",
    "import sys\n",
    "sys.path.append(\"..\")\n",
    "\n",
    "from _helpers import constants\n",
    "from _helpers.verify_submission.verify_subm import main as verify_subm\n",
    "from _helpers.score_submission.score_subm import main as score_subm\n",
    "\n",
    "from models.model_random import ModelRandom\n",
    "from models.model_nochange import ModelNoChange\n",
    "from models.model_popular import ModelPopular\n",
    "from models.model_log_reg import ModelLogisticRegression\n",
    "from models.model_cheapest import ModelCheapest\n",
    "from models.model_xgboost import ModelXGBoost"
   ]
  },
  {
   "cell_type": "markdown",
   "id": "e6923764",
   "metadata": {},
   "source": [
    "Iitialize wandb - logging tool"
   ]
  },
  {
   "cell_type": "code",
   "execution_count": 17,
   "id": "78ce3bc7",
   "metadata": {
    "collapsed": false,
    "jupyter": {
     "outputs_hidden": false
    },
    "ExecuteTime": {
     "end_time": "2023-05-09T20:16:22.098632600Z",
     "start_time": "2023-05-09T20:16:21.940967400Z"
    }
   },
   "outputs": [
    {
     "data": {
      "text/plain": "True"
     },
     "execution_count": 17,
     "metadata": {},
     "output_type": "execute_result"
    }
   ],
   "source": [
    "wandb.login()"
   ]
  },
  {
   "cell_type": "markdown",
   "id": "261f1bf1",
   "metadata": {},
   "source": [
    "Load the correct data"
   ]
  },
  {
   "cell_type": "code",
   "execution_count": 18,
   "id": "e34d4f6a",
   "metadata": {
    "collapsed": false,
    "jupyter": {
     "outputs_hidden": false
    },
    "ExecuteTime": {
     "end_time": "2023-05-09T20:16:26.359190200Z",
     "start_time": "2023-05-09T20:16:21.954640Z"
    }
   },
   "outputs": [],
   "source": [
    "train_file = constants.DROPPED_TRAIN\n",
    "test_file = constants.DROPPED_TEST\n",
    "\n",
    "if (constants.SUBSET is not None):\n",
    "    train_file = constants.DROPPED_SUBSET(constants.SUBSET, 'train')\n",
    "    test_file = constants.DROPPED_SUBSET(constants.SUBSET, 'test')\n",
    "\n",
    "df_train = pd.read_parquet(train_file)\n",
    "df_test = pd.read_parquet(test_file)"
   ]
  },
  {
   "cell_type": "code",
   "execution_count": 19,
   "id": "78a5d8fa",
   "metadata": {
    "collapsed": false,
    "jupyter": {
     "outputs_hidden": false
    },
    "ExecuteTime": {
     "end_time": "2023-05-09T20:16:26.366092600Z",
     "start_time": "2023-05-09T20:16:26.362316400Z"
    }
   },
   "outputs": [],
   "source": [
    "models = {\n",
    "    'random': ModelRandom(),\n",
    "    'nochange': ModelNoChange(),\n",
    "    'popular': ModelPopular(),\n",
    "    'log-reg': ModelLogisticRegression(),\n",
    "    'cheapest': ModelCheapest(),\n",
    "    'xgboost': ModelXGBoost(),\n",
    "}"
   ]
  },
  {
   "cell_type": "markdown",
   "id": "752c178e",
   "metadata": {},
   "source": [
    "Choose the correct model and setup parameters of the model"
   ]
  },
  {
   "cell_type": "code",
   "execution_count": 20,
   "id": "860044ff-35a3-40f9-bf41-434ca6f56ce4",
   "metadata": {
    "ExecuteTime": {
     "end_time": "2023-05-09T20:16:31.525580900Z",
     "start_time": "2023-05-09T20:16:26.368730200Z"
    }
   },
   "outputs": [
    {
     "data": {
      "text/plain": "<IPython.core.display.HTML object>",
      "text/html": "Tracking run with wandb version 0.15.2"
     },
     "metadata": {},
     "output_type": "display_data"
    },
    {
     "data": {
      "text/plain": "<IPython.core.display.HTML object>",
      "text/html": "Run data is saved locally in <code>/home/src/notebooks/wandb/run-20230509_201626-ytf5fn9b</code>"
     },
     "metadata": {},
     "output_type": "display_data"
    },
    {
     "data": {
      "text/plain": "<IPython.core.display.HTML object>",
      "text/html": "Syncing run <strong><a href='https://wandb.ai/mcfreddie777/dp-recsys/runs/ytf5fn9b' target=\"_blank\">model_xgboost_run_1</a></strong> to <a href='https://wandb.ai/mcfreddie777/dp-recsys' target=\"_blank\">Weights & Biases</a> (<a href='https://wandb.me/run' target=\"_blank\">docs</a>)<br/>"
     },
     "metadata": {},
     "output_type": "display_data"
    },
    {
     "data": {
      "text/plain": "<IPython.core.display.HTML object>",
      "text/html": " View project at <a href='https://wandb.ai/mcfreddie777/dp-recsys' target=\"_blank\">https://wandb.ai/mcfreddie777/dp-recsys</a>"
     },
     "metadata": {},
     "output_type": "display_data"
    },
    {
     "data": {
      "text/plain": "<IPython.core.display.HTML object>",
      "text/html": " View run at <a href='https://wandb.ai/mcfreddie777/dp-recsys/runs/ytf5fn9b' target=\"_blank\">https://wandb.ai/mcfreddie777/dp-recsys/runs/ytf5fn9b</a>"
     },
     "metadata": {},
     "output_type": "display_data"
    }
   ],
   "source": [
    "# Tinker with the parameters\n",
    "run = 1\n",
    "notes = 'Preprocessing from file, memory optimized'\n",
    "params = {\n",
    "    'model': 'xgboost',\n",
    "    'subset': constants.SUBSET,\n",
    "    'features': [\n",
    "        \"impressed_item_position\",\n",
    "        # \"impressed_item_rating\",\n",
    "        # \"user_impressed_item_interaction_count\",\n",
    "        \"price\",\n",
    "        \"price_above_impression_mean\",\n",
    "        \"is_last_interacted\",\n",
    "    ]\n",
    "}\n",
    "\n",
    "wandb_run = wandb.init(entity='mcfreddie777', project=\"dp-recsys\", name=f'model_{params[\"model\"]}_run_{run}',\n",
    "                       notes=notes)\n",
    "wandb_run.config.update(params)\n",
    "\n",
    "model = models[params['model']]\n",
    "model.update(params)\n",
    "model.fit(df_train)"
   ]
  },
  {
   "cell_type": "markdown",
   "id": "3297c8eb",
   "metadata": {},
   "source": [
    "Predikujeme odporúčania"
   ]
  },
  {
   "cell_type": "code",
   "execution_count": 21,
   "id": "a44242a1",
   "metadata": {
    "collapsed": false,
    "jupyter": {
     "outputs_hidden": false
    },
    "ExecuteTime": {
     "end_time": "2023-05-09T20:16:31.600031100Z",
     "start_time": "2023-05-09T20:16:31.525054400Z"
    }
   },
   "outputs": [],
   "source": [
    "df_recommendations = model.predict(df_test)"
   ]
  },
  {
   "cell_type": "markdown",
   "id": "ab336528",
   "metadata": {},
   "source": [
    "Verifikujeme predikcie"
   ]
  },
  {
   "cell_type": "code",
   "execution_count": 22,
   "id": "3afc38b3",
   "metadata": {
    "collapsed": false,
    "jupyter": {
     "outputs_hidden": false
    },
    "ExecuteTime": {
     "end_time": "2023-05-09T20:16:31.612037400Z",
     "start_time": "2023-05-09T20:16:31.601599300Z"
    }
   },
   "outputs": [
    {
     "name": "stdout",
     "output_type": "stream",
     "text": [
      "Checking for required columns in the submission file...\n",
      "> check passed\n",
      "Checking for duplicate sessions in the submission file...\n",
      "> check passed\n",
      "Checking that all the required sessions are present in submission...\n",
      "> check passed\n",
      "All checks passed\n"
     ]
    }
   ],
   "source": [
    "verify_subm(df_subm=df_recommendations, df_test=df_test)"
   ]
  },
  {
   "cell_type": "code",
   "execution_count": 23,
   "id": "494b8db7-0508-4dfe-a326-12161eaed2d7",
   "metadata": {
    "ExecuteTime": {
     "end_time": "2023-05-09T20:16:31.628857800Z",
     "start_time": "2023-05-09T20:16:31.614145100Z"
    }
   },
   "outputs": [],
   "source": [
    "df_recommendations.to_csv(constants.OUTPUT_DIR / f'submission_popular_{params[\"model\"]}_{run}.csv', index=False)"
   ]
  },
  {
   "cell_type": "markdown",
   "id": "460a1153",
   "metadata": {},
   "source": [
    "Vypočítame si MRR na dátach"
   ]
  },
  {
   "cell_type": "code",
   "execution_count": 24,
   "id": "a9ce9297",
   "metadata": {
    "ExecuteTime": {
     "end_time": "2023-05-09T20:16:34.733083200Z",
     "start_time": "2023-05-09T20:16:31.630899800Z"
    }
   },
   "outputs": [
    {
     "name": "stdout",
     "output_type": "stream",
     "text": [
      "Mean reciprocal rank:      0.2238\n",
      "Mean average precision @3: 0.0727\n"
     ]
    }
   ],
   "source": [
    "df_gt = pd.read_csv(constants.GROUND_TRUTH)\n",
    "df_test = pd.read_parquet(test_file)\n",
    "mrr, map3 = score_subm(df_subm=df_recommendations, df_gt=df_gt)\n",
    "wandb_run.log({\"mrr\": mrr, \"map3\": map3})"
   ]
  },
  {
   "cell_type": "code",
   "execution_count": 25,
   "id": "0767d1d3",
   "metadata": {
    "ExecuteTime": {
     "end_time": "2023-05-09T20:16:38.563443600Z",
     "start_time": "2023-05-09T20:16:34.735170600Z"
    }
   },
   "outputs": [
    {
     "data": {
      "text/plain": "<IPython.core.display.HTML object>",
      "text/html": "Waiting for W&B process to finish... <strong style=\"color:green\">(success).</strong>"
     },
     "metadata": {},
     "output_type": "display_data"
    },
    {
     "data": {
      "text/plain": "<IPython.core.display.HTML object>",
      "text/html": "<style>\n    table.wandb td:nth-child(1) { padding: 0 10px; text-align: left ; width: auto;} td:nth-child(2) {text-align: left ; width: 100%}\n    .wandb-row { display: flex; flex-direction: row; flex-wrap: wrap; justify-content: flex-start; width: 100% }\n    .wandb-col { display: flex; flex-direction: column; flex-basis: 100%; flex: 1; padding: 10px; }\n    </style>\n<div class=\"wandb-row\"><div class=\"wandb-col\"><h3>Run history:</h3><br/><table class=\"wandb\"><tr><td>map3</td><td>▁</td></tr><tr><td>mrr</td><td>▁</td></tr></table><br/></div><div class=\"wandb-col\"><h3>Run summary:</h3><br/><table class=\"wandb\"><tr><td>map3</td><td>0.0727</td></tr><tr><td>mrr</td><td>0.2238</td></tr></table><br/></div></div>"
     },
     "metadata": {},
     "output_type": "display_data"
    },
    {
     "data": {
      "text/plain": "<IPython.core.display.HTML object>",
      "text/html": " View run <strong style=\"color:#cdcd00\">model_xgboost_run_1</strong> at: <a href='https://wandb.ai/mcfreddie777/dp-recsys/runs/ytf5fn9b' target=\"_blank\">https://wandb.ai/mcfreddie777/dp-recsys/runs/ytf5fn9b</a><br/>Synced 7 W&B file(s), 0 media file(s), 0 artifact file(s) and 2 other file(s)"
     },
     "metadata": {},
     "output_type": "display_data"
    },
    {
     "data": {
      "text/plain": "<IPython.core.display.HTML object>",
      "text/html": "Find logs at: <code>./wandb/run-20230509_201626-ytf5fn9b/logs</code>"
     },
     "metadata": {},
     "output_type": "display_data"
    }
   ],
   "source": [
    "wandb_run.finish()\n"
   ]
  }
 ],
 "metadata": {
  "kernelspec": {
   "display_name": "Python 3 (ipykernel)",
   "language": "python",
   "name": "python3"
  },
  "language_info": {
   "codemirror_mode": {
    "name": "ipython",
    "version": 3
   },
   "file_extension": ".py",
   "mimetype": "text/x-python",
   "name": "python",
   "nbconvert_exporter": "python",
   "pygments_lexer": "ipython3",
   "version": "3.10.10"
  }
 },
 "nbformat": 4,
 "nbformat_minor": 5
}
