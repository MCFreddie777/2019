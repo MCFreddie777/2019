{
 "cells": [
  {
   "cell_type": "markdown",
   "id": "b75ec47f",
   "metadata": {},
   "source": [
    "# Odporúčanie"
   ]
  },
  {
   "cell_type": "code",
   "execution_count": 1,
   "id": "4d68b330",
   "metadata": {
    "ExecuteTime": {
     "end_time": "2023-05-09T20:39:26.704571Z",
     "start_time": "2023-05-09T20:39:26.599078800Z"
    },
    "collapsed": false,
    "jupyter": {
     "outputs_hidden": false
    }
   },
   "outputs": [],
   "source": [
    "%load_ext autoreload\n",
    "%autoreload all"
   ]
  },
  {
   "cell_type": "code",
   "execution_count": 2,
   "id": "9aa0c65e",
   "metadata": {
    "ExecuteTime": {
     "end_time": "2023-05-09T21:11:03.611392300Z",
     "start_time": "2023-05-09T21:11:03.498315600Z"
    },
    "collapsed": false,
    "jupyter": {
     "outputs_hidden": false
    }
   },
   "outputs": [],
   "source": [
    "# dependencies\n",
    "import pandas as pd\n",
    "import wandb"
   ]
  },
  {
   "cell_type": "code",
   "execution_count": 3,
   "id": "0817912a",
   "metadata": {
    "ExecuteTime": {
     "end_time": "2023-05-09T21:11:03.652213900Z",
     "start_time": "2023-05-09T21:11:03.512101Z"
    },
    "collapsed": false,
    "jupyter": {
     "outputs_hidden": false
    }
   },
   "outputs": [
    {
     "ename": "ModuleNotFoundError",
     "evalue": "No module named 'mdoels'",
     "output_type": "error",
     "traceback": [
      "\u001b[0;31m---------------------------------------------------------------------------\u001b[0m",
      "\u001b[0;31mModuleNotFoundError\u001b[0m                       Traceback (most recent call last)",
      "\u001b[0;32m/tmp/ipykernel_84/1415291012.py\u001b[0m in \u001b[0;36m<module>\u001b[0;34m\u001b[0m\n\u001b[1;32m     14\u001b[0m \u001b[0;32mfrom\u001b[0m \u001b[0mmodels\u001b[0m\u001b[0;34m.\u001b[0m\u001b[0mmodel_xgboost\u001b[0m \u001b[0;32mimport\u001b[0m \u001b[0mModelXGBoost\u001b[0m\u001b[0;34m\u001b[0m\u001b[0;34m\u001b[0m\u001b[0m\n\u001b[1;32m     15\u001b[0m \u001b[0;32mfrom\u001b[0m \u001b[0mmodels\u001b[0m\u001b[0;34m.\u001b[0m\u001b[0mmodel_mlp\u001b[0m \u001b[0;32mimport\u001b[0m \u001b[0mModelMLP\u001b[0m\u001b[0;34m\u001b[0m\u001b[0;34m\u001b[0m\u001b[0m\n\u001b[0;32m---> 16\u001b[0;31m \u001b[0;32mfrom\u001b[0m \u001b[0mmdoels\u001b[0m\u001b[0;34m.\u001b[0m\u001b[0mmodel_neural\u001b[0m \u001b[0;32mimport\u001b[0m \u001b[0mModelNeural\u001b[0m\u001b[0;34m\u001b[0m\u001b[0;34m\u001b[0m\u001b[0m\n\u001b[0m",
      "\u001b[0;31mModuleNotFoundError\u001b[0m: No module named 'mdoels'"
     ]
    }
   ],
   "source": [
    "#local modules\n",
    "import sys\n",
    "sys.path.append(\"..\")\n",
    "\n",
    "from _helpers import constants\n",
    "from _helpers.verify_submission.verify_subm import main as verify_subm\n",
    "from _helpers.score_submission.score_subm import main as score_subm\n",
    "\n",
    "from models.model_random import ModelRandom\n",
    "from models.model_nochange import ModelNoChange\n",
    "from models.model_popular import ModelPopular\n",
    "from models.model_log_reg import ModelLogisticRegression\n",
    "from models.model_cheapest import ModelCheapest\n",
    "from models.model_xgboost import ModelXGBoost\n",
    "from models.model_mlp import ModelMLP\n",
    "from models.model_neural import ModelNeural"
   ]
  },
  {
   "cell_type": "markdown",
   "id": "e6923764",
   "metadata": {},
   "source": [
    "Iitialize wandb - logging tool"
   ]
  },
  {
   "cell_type": "code",
   "execution_count": null,
   "id": "78ce3bc7",
   "metadata": {
    "ExecuteTime": {
     "end_time": "2023-05-09T21:11:03.683278700Z",
     "start_time": "2023-05-09T21:11:03.524139700Z"
    },
    "collapsed": false,
    "jupyter": {
     "outputs_hidden": false
    }
   },
   "outputs": [],
   "source": [
    "wandb.login()"
   ]
  },
  {
   "cell_type": "markdown",
   "id": "261f1bf1",
   "metadata": {},
   "source": [
    "Load the correct data"
   ]
  },
  {
   "cell_type": "code",
   "execution_count": null,
   "id": "e34d4f6a",
   "metadata": {
    "ExecuteTime": {
     "end_time": "2023-05-09T21:11:07.466207300Z",
     "start_time": "2023-05-09T21:11:03.538924500Z"
    },
    "collapsed": false,
    "jupyter": {
     "outputs_hidden": false
    }
   },
   "outputs": [],
   "source": [
    "train_file = constants.DROPPED_TRAIN\n",
    "test_file = constants.DROPPED_TEST\n",
    "\n",
    "if (constants.SUBSET is not None):\n",
    "    train_file = constants.DROPPED_SUBSET(constants.SUBSET, 'train')\n",
    "    test_file = constants.DROPPED_SUBSET(constants.SUBSET, 'test')\n",
    "\n",
    "df_train = pd.read_parquet(train_file)\n",
    "df_test = pd.read_parquet(test_file)"
   ]
  },
  {
   "cell_type": "code",
   "execution_count": null,
   "id": "78a5d8fa",
   "metadata": {
    "ExecuteTime": {
     "end_time": "2023-05-09T21:11:07.476295400Z",
     "start_time": "2023-05-09T21:11:07.469894700Z"
    },
    "collapsed": false,
    "jupyter": {
     "outputs_hidden": false
    }
   },
   "outputs": [],
   "source": [
    "models = {\n",
    "    'random': ModelRandom(),\n",
    "    'nochange': ModelNoChange(),\n",
    "    'popular': ModelPopular(),\n",
    "    'log-reg': ModelLogisticRegression(),\n",
    "    'cheapest': ModelCheapest(),\n",
    "    'xgboost': ModelXGBoost(),\n",
    "    'mlp': ModelMLP(),\n",
    "    'neural': ModelNeural(),\n",
    "}"
   ]
  },
  {
   "cell_type": "markdown",
   "id": "752c178e",
   "metadata": {},
   "source": [
    "Choose the correct model and setup parameters of the model"
   ]
  },
  {
   "cell_type": "code",
   "execution_count": 13,
   "id": "860044ff-35a3-40f9-bf41-434ca6f56ce4",
   "metadata": {
    "ExecuteTime": {
     "end_time": "2023-05-09T21:11:28.029062300Z",
     "start_time": "2023-05-09T21:11:07.480475200Z"
    }
   },
   "outputs": [
    {
     "data": {
      "text/html": [
       "Tracking run with wandb version 0.15.2"
      ],
      "text/plain": [
       "<IPython.core.display.HTML object>"
      ]
     },
     "metadata": {},
     "output_type": "display_data"
    },
    {
     "data": {
      "text/html": [
       "Run data is saved locally in <code>/home/src/notebooks/wandb/run-20230509_215739-dqnd655k</code>"
      ],
      "text/plain": [
       "<IPython.core.display.HTML object>"
      ]
     },
     "metadata": {},
     "output_type": "display_data"
    },
    {
     "data": {
      "text/html": [
       "Syncing run <strong><a href='https://wandb.ai/mcfreddie777/dp-recsys/runs/dqnd655k' target=\"_blank\">model_neural_run_2</a></strong> to <a href='https://wandb.ai/mcfreddie777/dp-recsys' target=\"_blank\">Weights & Biases</a> (<a href='https://wandb.me/run' target=\"_blank\">docs</a>)<br/>"
      ],
      "text/plain": [
       "<IPython.core.display.HTML object>"
      ]
     },
     "metadata": {},
     "output_type": "display_data"
    },
    {
     "data": {
      "text/html": [
       " View project at <a href='https://wandb.ai/mcfreddie777/dp-recsys' target=\"_blank\">https://wandb.ai/mcfreddie777/dp-recsys</a>"
      ],
      "text/plain": [
       "<IPython.core.display.HTML object>"
      ]
     },
     "metadata": {},
     "output_type": "display_data"
    },
    {
     "data": {
      "text/html": [
       " View run at <a href='https://wandb.ai/mcfreddie777/dp-recsys/runs/dqnd655k' target=\"_blank\">https://wandb.ai/mcfreddie777/dp-recsys/runs/dqnd655k</a>"
      ],
      "text/plain": [
       "<IPython.core.display.HTML object>"
      ]
     },
     "metadata": {},
     "output_type": "display_data"
    },
    {
     "name": "stdout",
     "output_type": "stream",
     "text": [
      "Epoch 1/10\n",
      "227/227 [==============================] - 1s 2ms/step - loss: 0.2393 - accuracy: 0.9459 - val_loss: 0.1439 - val_accuracy: 0.9602\n",
      "Epoch 2/10\n",
      "227/227 [==============================] - 0s 2ms/step - loss: 0.1570 - accuracy: 0.9564 - val_loss: 0.1410 - val_accuracy: 0.9575\n",
      "Epoch 3/10\n",
      "227/227 [==============================] - 0s 1ms/step - loss: 0.1554 - accuracy: 0.9560 - val_loss: 0.1418 - val_accuracy: 0.9608\n",
      "Epoch 4/10\n",
      "227/227 [==============================] - 0s 2ms/step - loss: 0.1546 - accuracy: 0.9567 - val_loss: 0.1388 - val_accuracy: 0.9613\n",
      "Epoch 5/10\n",
      "227/227 [==============================] - 0s 1ms/step - loss: 0.1544 - accuracy: 0.9568 - val_loss: 0.1405 - val_accuracy: 0.9613\n",
      "Epoch 6/10\n",
      "227/227 [==============================] - 0s 1ms/step - loss: 0.1544 - accuracy: 0.9549 - val_loss: 0.1404 - val_accuracy: 0.9564\n",
      "Epoch 7/10\n",
      "227/227 [==============================] - 1s 2ms/step - loss: 0.1536 - accuracy: 0.9550 - val_loss: 0.1395 - val_accuracy: 0.9569\n",
      "Epoch 8/10\n",
      "227/227 [==============================] - 0s 2ms/step - loss: 0.1539 - accuracy: 0.9557 - val_loss: 0.1393 - val_accuracy: 0.9613\n",
      "Epoch 9/10\n",
      "227/227 [==============================] - 0s 2ms/step - loss: 0.1531 - accuracy: 0.9573 - val_loss: 0.1382 - val_accuracy: 0.9569\n",
      "Epoch 10/10\n",
      "227/227 [==============================] - 1s 2ms/step - loss: 0.1537 - accuracy: 0.9565 - val_loss: 0.1382 - val_accuracy: 0.9597\n"
     ]
    }
   ],
   "source": [
    "# Tinker with the parameters\n",
    "run = 2\n",
    "notes = 'With gridsearch'\n",
    "params = {\n",
    "    'model': 'neural',\n",
    "    'subset': constants.SUBSET,\n",
    "    'features': [\n",
    "        \"impressed_item_position\",\n",
    "        # \"impressed_item_rating\",\n",
    "        # \"user_impressed_item_interaction_count\",\n",
    "        \"price\",\n",
    "        \"price_above_impression_mean\",\n",
    "        \"is_last_interacted\",\n",
    "    ]\n",
    "}\n",
    "\n",
    "wandb_run = wandb.init(entity='mcfreddie777', project=\"dp-recsys\", name=f'model_{params[\"model\"]}_run_{run}',\n",
    "                       notes=notes)\n",
    "wandb_run.config.update(params)\n",
    "\n",
    "model = models[params['model']]\n",
    "model.update(params)\n",
    "model.fit(df_train)"
   ]
  },
  {
   "cell_type": "markdown",
   "id": "3297c8eb",
   "metadata": {},
   "source": [
    "Predikujeme odporúčania"
   ]
  },
  {
   "cell_type": "code",
   "execution_count": 14,
   "id": "a44242a1",
   "metadata": {
    "ExecuteTime": {
     "end_time": "2023-05-09T21:11:28.126745100Z",
     "start_time": "2023-05-09T21:11:28.029567200Z"
    },
    "collapsed": false,
    "jupyter": {
     "outputs_hidden": false
    }
   },
   "outputs": [
    {
     "name": "stdout",
     "output_type": "stream",
     "text": [
      "625/625 [==============================] - 1s 1ms/step\n"
     ]
    }
   ],
   "source": [
    "df_recommendations = model.predict(df_test)"
   ]
  },
  {
   "cell_type": "markdown",
   "id": "ab336528",
   "metadata": {},
   "source": [
    "Verifikujeme predikcie"
   ]
  },
  {
   "cell_type": "code",
   "execution_count": 15,
   "id": "3afc38b3",
   "metadata": {
    "collapsed": false,
    "jupyter": {
     "outputs_hidden": false
    }
   },
   "outputs": [
    {
     "name": "stdout",
     "output_type": "stream",
     "text": [
      "Checking for required columns in the submission file...\n",
      "> check passed\n",
      "Checking for duplicate sessions in the submission file...\n",
      "> check passed\n",
      "Checking that all the required sessions are present in submission...\n",
      "> check passed\n",
      "All checks passed\n"
     ]
    }
   ],
   "source": [
    "verify_subm(df_subm=df_recommendations, df_test=df_test)"
   ]
  },
  {
   "cell_type": "code",
   "execution_count": 16,
   "id": "494b8db7-0508-4dfe-a326-12161eaed2d7",
   "metadata": {},
   "outputs": [],
   "source": [
    "df_recommendations.to_csv(constants.OUTPUT_DIR / f'submission_popular_{params[\"model\"]}_{run}.csv', index=False)"
   ]
  },
  {
   "cell_type": "markdown",
   "id": "460a1153",
   "metadata": {},
   "source": [
    "Vypočítame si MRR na dátach"
   ]
  },
  {
   "cell_type": "code",
   "execution_count": 17,
   "id": "a9ce9297",
   "metadata": {},
   "outputs": [
    {
     "name": "stdout",
     "output_type": "stream",
     "text": [
      "Mean reciprocal rank:      0.161\n",
      "Mean average precision @3: 0.0289\n"
     ]
    }
   ],
   "source": [
    "df_gt = pd.read_csv(constants.GROUND_TRUTH)\n",
    "df_test = pd.read_parquet(test_file)\n",
    "mrr, map3 = score_subm(df_subm=df_recommendations, df_gt=df_gt)\n",
    "wandb_run.log({\"mrr\": mrr, \"map3\": map3})"
   ]
  },
  {
   "cell_type": "code",
   "execution_count": 18,
   "id": "0767d1d3",
   "metadata": {
    "tags": []
   },
   "outputs": [
    {
     "data": {
      "text/html": [
       "Waiting for W&B process to finish... <strong style=\"color:green\">(success).</strong>"
      ],
      "text/plain": [
       "<IPython.core.display.HTML object>"
      ]
     },
     "metadata": {},
     "output_type": "display_data"
    },
    {
     "data": {
      "text/html": [
       "<style>\n",
       "    table.wandb td:nth-child(1) { padding: 0 10px; text-align: left ; width: auto;} td:nth-child(2) {text-align: left ; width: 100%}\n",
       "    .wandb-row { display: flex; flex-direction: row; flex-wrap: wrap; justify-content: flex-start; width: 100% }\n",
       "    .wandb-col { display: flex; flex-direction: column; flex-basis: 100%; flex: 1; padding: 10px; }\n",
       "    </style>\n",
       "<div class=\"wandb-row\"><div class=\"wandb-col\"><h3>Run history:</h3><br/><table class=\"wandb\"><tr><td>map3</td><td>▁</td></tr><tr><td>mrr</td><td>▁</td></tr></table><br/></div><div class=\"wandb-col\"><h3>Run summary:</h3><br/><table class=\"wandb\"><tr><td>map3</td><td>0.0289</td></tr><tr><td>mrr</td><td>0.161</td></tr></table><br/></div></div>"
      ],
      "text/plain": [
       "<IPython.core.display.HTML object>"
      ]
     },
     "metadata": {},
     "output_type": "display_data"
    },
    {
     "data": {
      "text/html": [
       " View run <strong style=\"color:#cdcd00\">model_neural_run_2</strong> at: <a href='https://wandb.ai/mcfreddie777/dp-recsys/runs/dqnd655k' target=\"_blank\">https://wandb.ai/mcfreddie777/dp-recsys/runs/dqnd655k</a><br/>Synced 7 W&B file(s), 0 media file(s), 0 artifact file(s) and 2 other file(s)"
      ],
      "text/plain": [
       "<IPython.core.display.HTML object>"
      ]
     },
     "metadata": {},
     "output_type": "display_data"
    },
    {
     "data": {
      "text/html": [
       "Find logs at: <code>./wandb/run-20230509_215739-dqnd655k/logs</code>"
      ],
      "text/plain": [
       "<IPython.core.display.HTML object>"
      ]
     },
     "metadata": {},
     "output_type": "display_data"
    }
   ],
   "source": [
    "wandb_run.finish()\n"
   ]
  }
 ],
 "metadata": {
  "kernelspec": {
   "display_name": "Python 3 (ipykernel)",
   "language": "python",
   "name": "python3"
  },
  "language_info": {
   "codemirror_mode": {
    "name": "ipython",
    "version": 3
   },
   "file_extension": ".py",
   "mimetype": "text/x-python",
   "name": "python",
   "nbconvert_exporter": "python",
   "pygments_lexer": "ipython3",
   "version": "3.7.16"
  }
 },
 "nbformat": 4,
 "nbformat_minor": 5
}
