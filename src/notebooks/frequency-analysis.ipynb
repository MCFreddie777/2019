{
 "cells": [
  {
   "cell_type": "markdown",
   "metadata": {
    "tags": []
   },
   "source": [
    "# Frequency analysis"
   ]
  },
  {
   "cell_type": "code",
   "execution_count": 1,
   "metadata": {
    "tags": []
   },
   "outputs": [],
   "source": [
    "%load_ext autoreload\n",
    "%autoreload all"
   ]
  },
  {
   "cell_type": "code",
   "execution_count": 2,
   "metadata": {
    "tags": []
   },
   "outputs": [],
   "source": [
    "from datetime import datetime\n",
    "import pandas as pd\n",
    "import numpy as np\n",
    "import matplotlib.pyplot as plt\n",
    "import seaborn as sns"
   ]
  },
  {
   "cell_type": "code",
   "execution_count": 3,
   "metadata": {
    "tags": []
   },
   "outputs": [],
   "source": [
    "# local modules\n",
    "import sys\n",
    "sys.path.append(\"..\")\n",
    "\n",
    "from _helpers import constants"
   ]
  },
  {
   "cell_type": "code",
   "execution_count": 4,
   "metadata": {
    "tags": []
   },
   "outputs": [],
   "source": [
    "# load data\n",
    "df_train = pd.read_csv(constants.TRAIN,sep=\",\")"
   ]
  },
  {
   "cell_type": "markdown",
   "metadata": {
    "jp-MarkdownHeadingCollapsed": true,
    "tags": []
   },
   "source": [
    "## Dataset shape "
   ]
  },
  {
   "cell_type": "markdown",
   "metadata": {},
   "source": [
    "Let's look at the dataset, how many rows and columns it has"
   ]
  },
  {
   "cell_type": "code",
   "execution_count": 5,
   "metadata": {
    "tags": []
   },
   "outputs": [
    {
     "data": {
      "text/plain": [
       "(15932992, 12)"
      ]
     },
     "execution_count": 5,
     "metadata": {},
     "output_type": "execute_result"
    }
   ],
   "source": [
    "df_train.shape"
   ]
  },
  {
   "cell_type": "code",
   "execution_count": 6,
   "metadata": {
    "tags": []
   },
   "outputs": [
    {
     "data": {
      "text/html": [
       "<div>\n",
       "<style scoped>\n",
       "    .dataframe tbody tr th:only-of-type {\n",
       "        vertical-align: middle;\n",
       "    }\n",
       "\n",
       "    .dataframe tbody tr th {\n",
       "        vertical-align: top;\n",
       "    }\n",
       "\n",
       "    .dataframe thead th {\n",
       "        text-align: right;\n",
       "    }\n",
       "</style>\n",
       "<table border=\"1\" class=\"dataframe\">\n",
       "  <thead>\n",
       "    <tr style=\"text-align: right;\">\n",
       "      <th></th>\n",
       "      <th>user_id</th>\n",
       "      <th>session_id</th>\n",
       "      <th>timestamp</th>\n",
       "      <th>step</th>\n",
       "      <th>action_type</th>\n",
       "      <th>reference</th>\n",
       "      <th>platform</th>\n",
       "      <th>city</th>\n",
       "      <th>device</th>\n",
       "      <th>current_filters</th>\n",
       "      <th>impressions</th>\n",
       "      <th>prices</th>\n",
       "    </tr>\n",
       "  </thead>\n",
       "  <tbody>\n",
       "    <tr>\n",
       "      <th>0</th>\n",
       "      <td>00RL8Z82B2Z1</td>\n",
       "      <td>aff3928535f48</td>\n",
       "      <td>1541037460</td>\n",
       "      <td>1</td>\n",
       "      <td>search for poi</td>\n",
       "      <td>Newtown</td>\n",
       "      <td>AU</td>\n",
       "      <td>Sydney, Australia</td>\n",
       "      <td>mobile</td>\n",
       "      <td>NaN</td>\n",
       "      <td>NaN</td>\n",
       "      <td>NaN</td>\n",
       "    </tr>\n",
       "    <tr>\n",
       "      <th>1</th>\n",
       "      <td>00RL8Z82B2Z1</td>\n",
       "      <td>aff3928535f48</td>\n",
       "      <td>1541037522</td>\n",
       "      <td>2</td>\n",
       "      <td>interaction item image</td>\n",
       "      <td>666856</td>\n",
       "      <td>AU</td>\n",
       "      <td>Sydney, Australia</td>\n",
       "      <td>mobile</td>\n",
       "      <td>NaN</td>\n",
       "      <td>NaN</td>\n",
       "      <td>NaN</td>\n",
       "    </tr>\n",
       "    <tr>\n",
       "      <th>2</th>\n",
       "      <td>00RL8Z82B2Z1</td>\n",
       "      <td>aff3928535f48</td>\n",
       "      <td>1541037522</td>\n",
       "      <td>3</td>\n",
       "      <td>interaction item image</td>\n",
       "      <td>666856</td>\n",
       "      <td>AU</td>\n",
       "      <td>Sydney, Australia</td>\n",
       "      <td>mobile</td>\n",
       "      <td>NaN</td>\n",
       "      <td>NaN</td>\n",
       "      <td>NaN</td>\n",
       "    </tr>\n",
       "    <tr>\n",
       "      <th>3</th>\n",
       "      <td>00RL8Z82B2Z1</td>\n",
       "      <td>aff3928535f48</td>\n",
       "      <td>1541037532</td>\n",
       "      <td>4</td>\n",
       "      <td>interaction item image</td>\n",
       "      <td>666856</td>\n",
       "      <td>AU</td>\n",
       "      <td>Sydney, Australia</td>\n",
       "      <td>mobile</td>\n",
       "      <td>NaN</td>\n",
       "      <td>NaN</td>\n",
       "      <td>NaN</td>\n",
       "    </tr>\n",
       "    <tr>\n",
       "      <th>4</th>\n",
       "      <td>00RL8Z82B2Z1</td>\n",
       "      <td>aff3928535f48</td>\n",
       "      <td>1541037532</td>\n",
       "      <td>5</td>\n",
       "      <td>interaction item image</td>\n",
       "      <td>109038</td>\n",
       "      <td>AU</td>\n",
       "      <td>Sydney, Australia</td>\n",
       "      <td>mobile</td>\n",
       "      <td>NaN</td>\n",
       "      <td>NaN</td>\n",
       "      <td>NaN</td>\n",
       "    </tr>\n",
       "    <tr>\n",
       "      <th>5</th>\n",
       "      <td>00RL8Z82B2Z1</td>\n",
       "      <td>aff3928535f48</td>\n",
       "      <td>1541037532</td>\n",
       "      <td>6</td>\n",
       "      <td>interaction item image</td>\n",
       "      <td>666856</td>\n",
       "      <td>AU</td>\n",
       "      <td>Sydney, Australia</td>\n",
       "      <td>mobile</td>\n",
       "      <td>NaN</td>\n",
       "      <td>NaN</td>\n",
       "      <td>NaN</td>\n",
       "    </tr>\n",
       "    <tr>\n",
       "      <th>6</th>\n",
       "      <td>00RL8Z82B2Z1</td>\n",
       "      <td>aff3928535f48</td>\n",
       "      <td>1541037532</td>\n",
       "      <td>7</td>\n",
       "      <td>interaction item image</td>\n",
       "      <td>109038</td>\n",
       "      <td>AU</td>\n",
       "      <td>Sydney, Australia</td>\n",
       "      <td>mobile</td>\n",
       "      <td>NaN</td>\n",
       "      <td>NaN</td>\n",
       "      <td>NaN</td>\n",
       "    </tr>\n",
       "    <tr>\n",
       "      <th>7</th>\n",
       "      <td>00RL8Z82B2Z1</td>\n",
       "      <td>aff3928535f48</td>\n",
       "      <td>1541037532</td>\n",
       "      <td>8</td>\n",
       "      <td>interaction item image</td>\n",
       "      <td>666856</td>\n",
       "      <td>AU</td>\n",
       "      <td>Sydney, Australia</td>\n",
       "      <td>mobile</td>\n",
       "      <td>NaN</td>\n",
       "      <td>NaN</td>\n",
       "      <td>NaN</td>\n",
       "    </tr>\n",
       "    <tr>\n",
       "      <th>8</th>\n",
       "      <td>00RL8Z82B2Z1</td>\n",
       "      <td>aff3928535f48</td>\n",
       "      <td>1541037542</td>\n",
       "      <td>9</td>\n",
       "      <td>interaction item image</td>\n",
       "      <td>109038</td>\n",
       "      <td>AU</td>\n",
       "      <td>Sydney, Australia</td>\n",
       "      <td>mobile</td>\n",
       "      <td>NaN</td>\n",
       "      <td>NaN</td>\n",
       "      <td>NaN</td>\n",
       "    </tr>\n",
       "    <tr>\n",
       "      <th>9</th>\n",
       "      <td>00RL8Z82B2Z1</td>\n",
       "      <td>aff3928535f48</td>\n",
       "      <td>1541037542</td>\n",
       "      <td>10</td>\n",
       "      <td>interaction item image</td>\n",
       "      <td>109038</td>\n",
       "      <td>AU</td>\n",
       "      <td>Sydney, Australia</td>\n",
       "      <td>mobile</td>\n",
       "      <td>NaN</td>\n",
       "      <td>NaN</td>\n",
       "      <td>NaN</td>\n",
       "    </tr>\n",
       "    <tr>\n",
       "      <th>10</th>\n",
       "      <td>00RL8Z82B2Z1</td>\n",
       "      <td>aff3928535f48</td>\n",
       "      <td>1541037542</td>\n",
       "      <td>11</td>\n",
       "      <td>interaction item image</td>\n",
       "      <td>109038</td>\n",
       "      <td>AU</td>\n",
       "      <td>Sydney, Australia</td>\n",
       "      <td>mobile</td>\n",
       "      <td>NaN</td>\n",
       "      <td>NaN</td>\n",
       "      <td>NaN</td>\n",
       "    </tr>\n",
       "    <tr>\n",
       "      <th>11</th>\n",
       "      <td>00RL8Z82B2Z1</td>\n",
       "      <td>aff3928535f48</td>\n",
       "      <td>1541037542</td>\n",
       "      <td>12</td>\n",
       "      <td>interaction item image</td>\n",
       "      <td>109038</td>\n",
       "      <td>AU</td>\n",
       "      <td>Sydney, Australia</td>\n",
       "      <td>mobile</td>\n",
       "      <td>NaN</td>\n",
       "      <td>NaN</td>\n",
       "      <td>NaN</td>\n",
       "    </tr>\n",
       "    <tr>\n",
       "      <th>12</th>\n",
       "      <td>00RL8Z82B2Z1</td>\n",
       "      <td>aff3928535f48</td>\n",
       "      <td>1541037542</td>\n",
       "      <td>13</td>\n",
       "      <td>interaction item image</td>\n",
       "      <td>109038</td>\n",
       "      <td>AU</td>\n",
       "      <td>Sydney, Australia</td>\n",
       "      <td>mobile</td>\n",
       "      <td>NaN</td>\n",
       "      <td>NaN</td>\n",
       "      <td>NaN</td>\n",
       "    </tr>\n",
       "    <tr>\n",
       "      <th>13</th>\n",
       "      <td>00RL8Z82B2Z1</td>\n",
       "      <td>aff3928535f48</td>\n",
       "      <td>1541037543</td>\n",
       "      <td>14</td>\n",
       "      <td>clickout item</td>\n",
       "      <td>109038</td>\n",
       "      <td>AU</td>\n",
       "      <td>Sydney, Australia</td>\n",
       "      <td>mobile</td>\n",
       "      <td>NaN</td>\n",
       "      <td>3400638|1253714|3367857|5100540|1088584|666916...</td>\n",
       "      <td>95|66|501|112|95|100|101|72|82|56|56|143|70|25...</td>\n",
       "    </tr>\n",
       "    <tr>\n",
       "      <th>14</th>\n",
       "      <td>00RL8Z82B2Z1</td>\n",
       "      <td>aff3928535f48</td>\n",
       "      <td>1541038469</td>\n",
       "      <td>15</td>\n",
       "      <td>search for poi</td>\n",
       "      <td>Surry Hills</td>\n",
       "      <td>AU</td>\n",
       "      <td>Sydney, Australia</td>\n",
       "      <td>mobile</td>\n",
       "      <td>NaN</td>\n",
       "      <td>NaN</td>\n",
       "      <td>NaN</td>\n",
       "    </tr>\n",
       "    <tr>\n",
       "      <th>15</th>\n",
       "      <td>00RL8Z82B2Z1</td>\n",
       "      <td>aff3928535f48</td>\n",
       "      <td>1541038485</td>\n",
       "      <td>16</td>\n",
       "      <td>clickout item</td>\n",
       "      <td>1257342</td>\n",
       "      <td>AU</td>\n",
       "      <td>Sydney, Australia</td>\n",
       "      <td>mobile</td>\n",
       "      <td>NaN</td>\n",
       "      <td>55109|129343|54824|2297972|109014|1257342|1031...</td>\n",
       "      <td>162|25|150|143|101|49|118|131|18|100|101|143|5...</td>\n",
       "    </tr>\n",
       "    <tr>\n",
       "      <th>16</th>\n",
       "      <td>02HGRBA06ODU</td>\n",
       "      <td>fa3a53156ae5c</td>\n",
       "      <td>1541030832</td>\n",
       "      <td>1</td>\n",
       "      <td>interaction item info</td>\n",
       "      <td>3377332</td>\n",
       "      <td>BR</td>\n",
       "      <td>Ubatuba, Brazil</td>\n",
       "      <td>mobile</td>\n",
       "      <td>NaN</td>\n",
       "      <td>NaN</td>\n",
       "      <td>NaN</td>\n",
       "    </tr>\n",
       "    <tr>\n",
       "      <th>17</th>\n",
       "      <td>02HGRBA06ODU</td>\n",
       "      <td>fa3a53156ae5c</td>\n",
       "      <td>1541030843</td>\n",
       "      <td>2</td>\n",
       "      <td>interaction item image</td>\n",
       "      <td>3377332</td>\n",
       "      <td>BR</td>\n",
       "      <td>Ubatuba, Brazil</td>\n",
       "      <td>mobile</td>\n",
       "      <td>NaN</td>\n",
       "      <td>NaN</td>\n",
       "      <td>NaN</td>\n",
       "    </tr>\n",
       "    <tr>\n",
       "      <th>18</th>\n",
       "      <td>02HGRBA06ODU</td>\n",
       "      <td>fa3a53156ae5c</td>\n",
       "      <td>1541030843</td>\n",
       "      <td>3</td>\n",
       "      <td>interaction item image</td>\n",
       "      <td>3377332</td>\n",
       "      <td>BR</td>\n",
       "      <td>Ubatuba, Brazil</td>\n",
       "      <td>mobile</td>\n",
       "      <td>NaN</td>\n",
       "      <td>NaN</td>\n",
       "      <td>NaN</td>\n",
       "    </tr>\n",
       "    <tr>\n",
       "      <th>19</th>\n",
       "      <td>02HGRBA06ODU</td>\n",
       "      <td>fa3a53156ae5c</td>\n",
       "      <td>1541030852</td>\n",
       "      <td>4</td>\n",
       "      <td>interaction item info</td>\n",
       "      <td>3377332</td>\n",
       "      <td>BR</td>\n",
       "      <td>Ubatuba, Brazil</td>\n",
       "      <td>mobile</td>\n",
       "      <td>NaN</td>\n",
       "      <td>NaN</td>\n",
       "      <td>NaN</td>\n",
       "    </tr>\n",
       "  </tbody>\n",
       "</table>\n",
       "</div>"
      ],
      "text/plain": [
       "         user_id     session_id   timestamp  step             action_type  \\\n",
       "0   00RL8Z82B2Z1  aff3928535f48  1541037460     1          search for poi   \n",
       "1   00RL8Z82B2Z1  aff3928535f48  1541037522     2  interaction item image   \n",
       "2   00RL8Z82B2Z1  aff3928535f48  1541037522     3  interaction item image   \n",
       "3   00RL8Z82B2Z1  aff3928535f48  1541037532     4  interaction item image   \n",
       "4   00RL8Z82B2Z1  aff3928535f48  1541037532     5  interaction item image   \n",
       "5   00RL8Z82B2Z1  aff3928535f48  1541037532     6  interaction item image   \n",
       "6   00RL8Z82B2Z1  aff3928535f48  1541037532     7  interaction item image   \n",
       "7   00RL8Z82B2Z1  aff3928535f48  1541037532     8  interaction item image   \n",
       "8   00RL8Z82B2Z1  aff3928535f48  1541037542     9  interaction item image   \n",
       "9   00RL8Z82B2Z1  aff3928535f48  1541037542    10  interaction item image   \n",
       "10  00RL8Z82B2Z1  aff3928535f48  1541037542    11  interaction item image   \n",
       "11  00RL8Z82B2Z1  aff3928535f48  1541037542    12  interaction item image   \n",
       "12  00RL8Z82B2Z1  aff3928535f48  1541037542    13  interaction item image   \n",
       "13  00RL8Z82B2Z1  aff3928535f48  1541037543    14           clickout item   \n",
       "14  00RL8Z82B2Z1  aff3928535f48  1541038469    15          search for poi   \n",
       "15  00RL8Z82B2Z1  aff3928535f48  1541038485    16           clickout item   \n",
       "16  02HGRBA06ODU  fa3a53156ae5c  1541030832     1   interaction item info   \n",
       "17  02HGRBA06ODU  fa3a53156ae5c  1541030843     2  interaction item image   \n",
       "18  02HGRBA06ODU  fa3a53156ae5c  1541030843     3  interaction item image   \n",
       "19  02HGRBA06ODU  fa3a53156ae5c  1541030852     4   interaction item info   \n",
       "\n",
       "      reference platform               city  device current_filters  \\\n",
       "0       Newtown       AU  Sydney, Australia  mobile             NaN   \n",
       "1        666856       AU  Sydney, Australia  mobile             NaN   \n",
       "2        666856       AU  Sydney, Australia  mobile             NaN   \n",
       "3        666856       AU  Sydney, Australia  mobile             NaN   \n",
       "4        109038       AU  Sydney, Australia  mobile             NaN   \n",
       "5        666856       AU  Sydney, Australia  mobile             NaN   \n",
       "6        109038       AU  Sydney, Australia  mobile             NaN   \n",
       "7        666856       AU  Sydney, Australia  mobile             NaN   \n",
       "8        109038       AU  Sydney, Australia  mobile             NaN   \n",
       "9        109038       AU  Sydney, Australia  mobile             NaN   \n",
       "10       109038       AU  Sydney, Australia  mobile             NaN   \n",
       "11       109038       AU  Sydney, Australia  mobile             NaN   \n",
       "12       109038       AU  Sydney, Australia  mobile             NaN   \n",
       "13       109038       AU  Sydney, Australia  mobile             NaN   \n",
       "14  Surry Hills       AU  Sydney, Australia  mobile             NaN   \n",
       "15      1257342       AU  Sydney, Australia  mobile             NaN   \n",
       "16      3377332       BR    Ubatuba, Brazil  mobile             NaN   \n",
       "17      3377332       BR    Ubatuba, Brazil  mobile             NaN   \n",
       "18      3377332       BR    Ubatuba, Brazil  mobile             NaN   \n",
       "19      3377332       BR    Ubatuba, Brazil  mobile             NaN   \n",
       "\n",
       "                                          impressions  \\\n",
       "0                                                 NaN   \n",
       "1                                                 NaN   \n",
       "2                                                 NaN   \n",
       "3                                                 NaN   \n",
       "4                                                 NaN   \n",
       "5                                                 NaN   \n",
       "6                                                 NaN   \n",
       "7                                                 NaN   \n",
       "8                                                 NaN   \n",
       "9                                                 NaN   \n",
       "10                                                NaN   \n",
       "11                                                NaN   \n",
       "12                                                NaN   \n",
       "13  3400638|1253714|3367857|5100540|1088584|666916...   \n",
       "14                                                NaN   \n",
       "15  55109|129343|54824|2297972|109014|1257342|1031...   \n",
       "16                                                NaN   \n",
       "17                                                NaN   \n",
       "18                                                NaN   \n",
       "19                                                NaN   \n",
       "\n",
       "                                               prices  \n",
       "0                                                 NaN  \n",
       "1                                                 NaN  \n",
       "2                                                 NaN  \n",
       "3                                                 NaN  \n",
       "4                                                 NaN  \n",
       "5                                                 NaN  \n",
       "6                                                 NaN  \n",
       "7                                                 NaN  \n",
       "8                                                 NaN  \n",
       "9                                                 NaN  \n",
       "10                                                NaN  \n",
       "11                                                NaN  \n",
       "12                                                NaN  \n",
       "13  95|66|501|112|95|100|101|72|82|56|56|143|70|25...  \n",
       "14                                                NaN  \n",
       "15  162|25|150|143|101|49|118|131|18|100|101|143|5...  \n",
       "16                                                NaN  \n",
       "17                                                NaN  \n",
       "18                                                NaN  \n",
       "19                                                NaN  "
      ]
     },
     "execution_count": 6,
     "metadata": {},
     "output_type": "execute_result"
    }
   ],
   "source": [
    "df_train.head(20)"
   ]
  },
  {
   "cell_type": "markdown",
   "metadata": {
    "tags": []
   },
   "source": [
    "## Attributes"
   ]
  },
  {
   "cell_type": "code",
   "execution_count": 7,
   "metadata": {},
   "outputs": [
    {
     "data": {
      "text/plain": [
       "Index(['user_id', 'session_id', 'timestamp', 'step', 'action_type',\n",
       "       'reference', 'platform', 'city', 'device', 'current_filters',\n",
       "       'impressions', 'prices'],\n",
       "      dtype='object')"
      ]
     },
     "execution_count": 7,
     "metadata": {},
     "output_type": "execute_result"
    }
   ],
   "source": [
    "df_train.columns.unique()"
   ]
  },
  {
   "cell_type": "markdown",
   "metadata": {
    "tags": []
   },
   "source": [
    "According to [dataset author\\'s description](https://recsys.trivago.cloud/challenge/dataset/), the columns above contain following:"
   ]
  },
  {
   "cell_type": "markdown",
   "metadata": {},
   "source": [
    "*   `user_id`: identifier of the user\n",
    "*   `session_id`: identifier of each session\n",
    "*   `timestamp`:  UNIX timestamp for the time of the interaction\n",
    "*   `step`: step in the sequence of actions within the session\n",
    "*   `action_type`: identifier of the action that has been taken by the user.\n",
    "    *   **clickout item**: user makes a click-out on the item and gets forwarded to a partner website. The reference value for this action is the item_id. Other items that were displayed to the user and their associated prices are listed under the ‘impressions’ and ‘prices’ column for this action.\n",
    "    *   **interaction item rating**: user interacts with a rating or review of an item. The reference value for this action is the item id.\n",
    "    *   **interaction item info**: user interacts with item information. The reference value for this action is the item id.\n",
    "    *   **interaction item image**: user interacts with an image of an item. The reference value for this action is the item id.\n",
    "    *   **interaction item deals**: user clicks on the view more deals button. The reference value for this action is the item id.\n",
    "    *   **change of sort order**: user changes the sort order. The reference value for this action is the sort order description.\n",
    "    *   **filter selection**: user selects a filter. The reference value for this action is the filter description.\n",
    "    *   **search for item**:  user s user searches for a destination. The reference value for this action is the name of the destination.\n",
    "    *   **search for poi**: user searches for a point of interest (POI). The reference value for this action is the name of the POI.\n",
    "*   `reference`: reference value of the action as described for the different action types\n",
    "*   `platform`: country platform that was used for the search, e.g.  [trivago.de](http://trivago.de) (DE) or [trivago.com](http://trivago.com) (US)\n",
    "*   `city`: name of the current city of the search context\n",
    "*   `device`: device that was used for the search\n",
    "*   `current_filters`: list of pipe-separated filters that were active at the given timestamp\n",
    "*   `impressions`: list of pipe-separated items that were displayed to the user at the time of a click-out (see action_type = clickout_item)\n",
    "*   `prices`:  list of pipe-separated prices of the items that were displayed to the user at the time of a click-out (see action_type = clickout_item)"
   ]
  },
  {
   "cell_type": "markdown",
   "metadata": {
    "jp-MarkdownHeadingCollapsed": true,
    "tags": []
   },
   "source": [
    "### user_id"
   ]
  },
  {
   "cell_type": "markdown",
   "metadata": {},
   "source": [
    "Categorical attribute representing unique identifier of the user, stored with string id"
   ]
  },
  {
   "cell_type": "code",
   "execution_count": 8,
   "metadata": {
    "tags": []
   },
   "outputs": [
    {
     "data": {
      "text/plain": [
       "0    00RL8Z82B2Z1\n",
       "1    00RL8Z82B2Z1\n",
       "2    00RL8Z82B2Z1\n",
       "3    00RL8Z82B2Z1\n",
       "4    00RL8Z82B2Z1\n",
       "5    00RL8Z82B2Z1\n",
       "6    00RL8Z82B2Z1\n",
       "7    00RL8Z82B2Z1\n",
       "8    00RL8Z82B2Z1\n",
       "9    00RL8Z82B2Z1\n",
       "Name: user_id, dtype: object"
      ]
     },
     "execution_count": 8,
     "metadata": {},
     "output_type": "execute_result"
    }
   ],
   "source": [
    "df_train.user_id.head(10)"
   ]
  },
  {
   "cell_type": "code",
   "execution_count": 9,
   "metadata": {
    "tags": []
   },
   "outputs": [
    {
     "data": {
      "text/plain": [
       "15932992"
      ]
     },
     "execution_count": 9,
     "metadata": {},
     "output_type": "execute_result"
    }
   ],
   "source": [
    "df_train.user_id.shape[0]"
   ]
  },
  {
   "cell_type": "code",
   "execution_count": 10,
   "metadata": {
    "tags": []
   },
   "outputs": [
    {
     "data": {
      "text/plain": [
       "730803"
      ]
     },
     "execution_count": 10,
     "metadata": {},
     "output_type": "execute_result"
    }
   ],
   "source": [
    "df_train.user_id.unique().shape[0]"
   ]
  },
  {
   "cell_type": "markdown",
   "metadata": {},
   "source": [
    "#### Number of actions of distinct users"
   ]
  },
  {
   "cell_type": "code",
   "execution_count": 11,
   "metadata": {
    "tags": []
   },
   "outputs": [
    {
     "data": {
      "text/plain": [
       "Text(0.5, 1.0, 'Number of user occurences in dataset (actions)')"
      ]
     },
     "execution_count": 11,
     "metadata": {},
     "output_type": "execute_result"
    },
    {
     "data": {
      "image/png": "[encoded data removed]",
      "text/plain": [
       "<Figure size 640x480 with 1 Axes>"
      ]
     },
     "metadata": {},
     "output_type": "display_data"
    }
   ],
   "source": [
    "user_id_count = df_train.groupby('user_id').agg({'session_id':'first','user_id':'count'}).rename(columns={'user_id': 'count'}).reset_index()[['user_id','session_id','count']]\n",
    "sns.boxplot(data=user_id_count).set_title('Number of user occurences in dataset (actions)')"
   ]
  },
  {
   "cell_type": "code",
   "execution_count": 12,
   "metadata": {
    "tags": []
   },
   "outputs": [
    {
     "data": {
      "text/html": [
       "<div>\n",
       "<style scoped>\n",
       "    .dataframe tbody tr th:only-of-type {\n",
       "        vertical-align: middle;\n",
       "    }\n",
       "\n",
       "    .dataframe tbody tr th {\n",
       "        vertical-align: top;\n",
       "    }\n",
       "\n",
       "    .dataframe thead th {\n",
       "        text-align: right;\n",
       "    }\n",
       "</style>\n",
       "<table border=\"1\" class=\"dataframe\">\n",
       "  <thead>\n",
       "    <tr style=\"text-align: right;\">\n",
       "      <th></th>\n",
       "      <th>count</th>\n",
       "    </tr>\n",
       "  </thead>\n",
       "  <tbody>\n",
       "    <tr>\n",
       "      <th>count</th>\n",
       "      <td>730803.000000</td>\n",
       "    </tr>\n",
       "    <tr>\n",
       "      <th>mean</th>\n",
       "      <td>21.802034</td>\n",
       "    </tr>\n",
       "    <tr>\n",
       "      <th>std</th>\n",
       "      <td>64.406425</td>\n",
       "    </tr>\n",
       "    <tr>\n",
       "      <th>min</th>\n",
       "      <td>1.000000</td>\n",
       "    </tr>\n",
       "    <tr>\n",
       "      <th>25%</th>\n",
       "      <td>2.000000</td>\n",
       "    </tr>\n",
       "    <tr>\n",
       "      <th>50%</th>\n",
       "      <td>5.000000</td>\n",
       "    </tr>\n",
       "    <tr>\n",
       "      <th>75%</th>\n",
       "      <td>17.000000</td>\n",
       "    </tr>\n",
       "    <tr>\n",
       "      <th>max</th>\n",
       "      <td>6230.000000</td>\n",
       "    </tr>\n",
       "  </tbody>\n",
       "</table>\n",
       "</div>"
      ],
      "text/plain": [
       "               count\n",
       "count  730803.000000\n",
       "mean       21.802034\n",
       "std        64.406425\n",
       "min         1.000000\n",
       "25%         2.000000\n",
       "50%         5.000000\n",
       "75%        17.000000\n",
       "max      6230.000000"
      ]
     },
     "execution_count": 12,
     "metadata": {},
     "output_type": "execute_result"
    }
   ],
   "source": [
    "user_id_count.describe()"
   ]
  },
  {
   "cell_type": "code",
   "execution_count": 13,
   "metadata": {
    "tags": []
   },
   "outputs": [
    {
     "data": {
      "text/plain": [
       "Text(0.5, 1.0, 'Number of actions (N) of distinct user in the dataset')"
      ]
     },
     "execution_count": 13,
     "metadata": {},
     "output_type": "execute_result"
    },
    {
     "data": {
      "image/png": "[encoded data removed]",
      "text/plain": [
       "<Figure size 1000x600 with 1 Axes>"
      ]
     },
     "metadata": {},
     "output_type": "display_data"
    }
   ],
   "source": [
    "user_id_groups = pd.DataFrame({\n",
    "    'type': [\n",
    "        'N>1000',\n",
    "        '1000>N>100',\n",
    "        '100>N>10',\n",
    "        '10>N>1',\n",
    "        'N=1'\n",
    "    ],\n",
    "    'count': [\n",
    "        user_id_count[user_id_count['count'] > 1000].count()[0],\n",
    "        user_id_count[(user_id_count['count'] > 100) & (user_id_count['count'] < 1000)].count()[0],\n",
    "        user_id_count[(user_id_count['count'] > 10) & (user_id_count['count'] < 100)].count()[0],\n",
    "        user_id_count[(user_id_count['count'] > 1) & (user_id_count['count'] < 10)].count()[0],\n",
    "        user_id_count[user_id_count['count'] == 1].count()[0]\n",
    "    ]\n",
    "});\n",
    "\n",
    "fig, axes = plt.subplots(figsize = (10,6))\n",
    "axes.pie(x=user_id_groups['count'], labels = user_id_groups['type'], explode=[0.1]*5, autopct=\"%.2f%%\")\n",
    "plt.title(\"Number of actions (N) of distinct user in the dataset\",pad=30)"
   ]
  },
  {
   "cell_type": "markdown",
   "metadata": {},
   "source": [
    "According to the boxplot as well as the pie chart we see that most of the values are in tens, but we do have some outliers with large number of actions. We may deal with them later, in the dropping phase."
   ]
  },
  {
   "cell_type": "markdown",
   "metadata": {
    "tags": []
   },
   "source": [
    "### session_id"
   ]
  },
  {
   "cell_type": "markdown",
   "metadata": {},
   "source": [
    "Categorical attribute representing unique identifier of the session, stored with string id"
   ]
  },
  {
   "cell_type": "code",
   "execution_count": 14,
   "metadata": {
    "tags": []
   },
   "outputs": [
    {
     "data": {
      "text/plain": [
       "0    aff3928535f48\n",
       "1    aff3928535f48\n",
       "2    aff3928535f48\n",
       "3    aff3928535f48\n",
       "4    aff3928535f48\n",
       "5    aff3928535f48\n",
       "6    aff3928535f48\n",
       "7    aff3928535f48\n",
       "8    aff3928535f48\n",
       "9    aff3928535f48\n",
       "Name: session_id, dtype: object"
      ]
     },
     "execution_count": 14,
     "metadata": {},
     "output_type": "execute_result"
    }
   ],
   "source": [
    "df_train.session_id.head(10)"
   ]
  },
  {
   "cell_type": "code",
   "execution_count": 15,
   "metadata": {
    "tags": []
   },
   "outputs": [
    {
     "data": {
      "text/plain": [
       "910683"
      ]
     },
     "execution_count": 15,
     "metadata": {},
     "output_type": "execute_result"
    }
   ],
   "source": [
    "df_train.session_id.unique().shape[0]"
   ]
  },
  {
   "cell_type": "code",
   "execution_count": 16,
   "metadata": {
    "tags": []
   },
   "outputs": [
    {
     "data": {
      "text/plain": [
       "910683"
      ]
     },
     "execution_count": 16,
     "metadata": {},
     "output_type": "execute_result"
    }
   ],
   "source": [
    "df_train.groupby(['user_id','session_id']).agg({'user_id':'first','session_id':'first'}).reset_index(drop=True).shape[0]"
   ]
  },
  {
   "cell_type": "markdown",
   "metadata": {},
   "source": [
    "This shows that the dataset only contains unique user session pairs."
   ]
  },
  {
   "cell_type": "markdown",
   "metadata": {
    "tags": []
   },
   "source": [
    "#### Number of sessions per user"
   ]
  },
  {
   "cell_type": "code",
   "execution_count": 17,
   "metadata": {
    "tags": []
   },
   "outputs": [
    {
     "data": {
      "text/plain": [
       "Text(0.5, 1.0, 'Number of sessions per user')"
      ]
     },
     "execution_count": 17,
     "metadata": {},
     "output_type": "execute_result"
    },
    {
     "data": {
      "image/png": "[encoded data removed]",
      "text/plain": [
       "<Figure size 640x480 with 1 Axes>"
      ]
     },
     "metadata": {},
     "output_type": "display_data"
    }
   ],
   "source": [
    "u_session_count = df_train.groupby(['user_id'])['session_id'].nunique().reset_index(name='count')\n",
    "sns.boxplot(data=u_session_count).set_title('Number of sessions per user')"
   ]
  },
  {
   "cell_type": "code",
   "execution_count": 18,
   "metadata": {
    "tags": []
   },
   "outputs": [
    {
     "data": {
      "text/html": [
       "<div>\n",
       "<style scoped>\n",
       "    .dataframe tbody tr th:only-of-type {\n",
       "        vertical-align: middle;\n",
       "    }\n",
       "\n",
       "    .dataframe tbody tr th {\n",
       "        vertical-align: top;\n",
       "    }\n",
       "\n",
       "    .dataframe thead th {\n",
       "        text-align: right;\n",
       "    }\n",
       "</style>\n",
       "<table border=\"1\" class=\"dataframe\">\n",
       "  <thead>\n",
       "    <tr style=\"text-align: right;\">\n",
       "      <th></th>\n",
       "      <th>count</th>\n",
       "    </tr>\n",
       "  </thead>\n",
       "  <tbody>\n",
       "    <tr>\n",
       "      <th>count</th>\n",
       "      <td>730803.000000</td>\n",
       "    </tr>\n",
       "    <tr>\n",
       "      <th>mean</th>\n",
       "      <td>1.246140</td>\n",
       "    </tr>\n",
       "    <tr>\n",
       "      <th>std</th>\n",
       "      <td>0.750184</td>\n",
       "    </tr>\n",
       "    <tr>\n",
       "      <th>min</th>\n",
       "      <td>1.000000</td>\n",
       "    </tr>\n",
       "    <tr>\n",
       "      <th>25%</th>\n",
       "      <td>1.000000</td>\n",
       "    </tr>\n",
       "    <tr>\n",
       "      <th>50%</th>\n",
       "      <td>1.000000</td>\n",
       "    </tr>\n",
       "    <tr>\n",
       "      <th>75%</th>\n",
       "      <td>1.000000</td>\n",
       "    </tr>\n",
       "    <tr>\n",
       "      <th>max</th>\n",
       "      <td>201.000000</td>\n",
       "    </tr>\n",
       "  </tbody>\n",
       "</table>\n",
       "</div>"
      ],
      "text/plain": [
       "               count\n",
       "count  730803.000000\n",
       "mean        1.246140\n",
       "std         0.750184\n",
       "min         1.000000\n",
       "25%         1.000000\n",
       "50%         1.000000\n",
       "75%         1.000000\n",
       "max       201.000000"
      ]
     },
     "execution_count": 18,
     "metadata": {},
     "output_type": "execute_result"
    }
   ],
   "source": [
    "u_session_count.describe()"
   ]
  },
  {
   "cell_type": "code",
   "execution_count": 19,
   "metadata": {
    "tags": []
   },
   "outputs": [
    {
     "data": {
      "text/plain": [
       "Text(0.5, 1.0, 'Number of sessions (N) of distinct user in the dataset')"
      ]
     },
     "execution_count": 19,
     "metadata": {},
     "output_type": "execute_result"
    },
    {
     "data": {
      "image/png": "[encoded data removed]",
      "text/plain": [
       "<Figure size 1000x600 with 1 Axes>"
      ]
     },
     "metadata": {},
     "output_type": "display_data"
    }
   ],
   "source": [
    "u_session_count_groups = pd.DataFrame({\n",
    "    'type': [\n",
    "        'N>50',\n",
    "        '50>N>15',\n",
    "        '15>N>1',\n",
    "        'N=1'\n",
    "    ],\n",
    "    'count': [\n",
    "        u_session_count[u_session_count['count'] > 50].count()[0],\n",
    "        u_session_count[(u_session_count['count'] > 15) & (u_session_count['count'] < 50)].count()[0],\n",
    "        u_session_count[(u_session_count['count'] > 1) & (u_session_count['count'] < 50)].count()[0],\n",
    "        u_session_count[u_session_count['count'] == 1].count()[0],\n",
    "    ]\n",
    "});\n",
    "\n",
    "fig, axes = plt.subplots(figsize = (10,6))\n",
    "axes.pie(x=u_session_count_groups['count'], labels = u_session_count_groups['type'], explode=[0.1]*4, autopct=\"%.2f%%\")\n",
    "plt.title(\"Number of sessions (N) of distinct user in the dataset\",pad=30)"
   ]
  },
  {
   "cell_type": "markdown",
   "metadata": {},
   "source": [
    "From graph, we might see that majority of the user has a single session."
   ]
  },
  {
   "cell_type": "markdown",
   "metadata": {
    "tags": []
   },
   "source": [
    "### timestamp"
   ]
  },
  {
   "cell_type": "markdown",
   "metadata": {},
   "source": [
    "This attribute represents UNIX timestamp of the users' interaction"
   ]
  },
  {
   "cell_type": "code",
   "execution_count": 20,
   "metadata": {},
   "outputs": [
    {
     "data": {
      "text/plain": [
       "0    1541037460\n",
       "1    1541037522\n",
       "2    1541037522\n",
       "3    1541037532\n",
       "4    1541037532\n",
       "5    1541037532\n",
       "6    1541037532\n",
       "7    1541037532\n",
       "8    1541037542\n",
       "9    1541037542\n",
       "Name: timestamp, dtype: int64"
      ]
     },
     "execution_count": 20,
     "metadata": {},
     "output_type": "execute_result"
    }
   ],
   "source": [
    "df_train.timestamp.head(10)"
   ]
  },
  {
   "cell_type": "code",
   "execution_count": 21,
   "metadata": {},
   "outputs": [
    {
     "name": "stdout",
     "output_type": "stream",
     "text": [
      "2018-11-01 00:00:08 - 2018-11-06 23:59:59\n"
     ]
    }
   ],
   "source": [
    "min_time = datetime.fromtimestamp(df_train.timestamp.min())\n",
    "max_time = datetime.fromtimestamp(df_train.timestamp.max())\n",
    "\n",
    "print(f'{min_time} - {max_time}')"
   ]
  },
  {
   "cell_type": "markdown",
   "metadata": {},
   "source": [
    "The time range from which this data comes from is approximiately 6 days."
   ]
  },
  {
   "cell_type": "markdown",
   "metadata": {
    "jp-MarkdownHeadingCollapsed": true,
    "tags": []
   },
   "source": [
    "#### Length of the sesssion (in minutes)"
   ]
  },
  {
   "cell_type": "code",
   "execution_count": 22,
   "metadata": {},
   "outputs": [
    {
     "data": {
      "text/html": [
       "<div>\n",
       "<style scoped>\n",
       "    .dataframe tbody tr th:only-of-type {\n",
       "        vertical-align: middle;\n",
       "    }\n",
       "\n",
       "    .dataframe tbody tr th {\n",
       "        vertical-align: top;\n",
       "    }\n",
       "\n",
       "    .dataframe thead th {\n",
       "        text-align: right;\n",
       "    }\n",
       "</style>\n",
       "<table border=\"1\" class=\"dataframe\">\n",
       "  <thead>\n",
       "    <tr style=\"text-align: right;\">\n",
       "      <th></th>\n",
       "      <th>user_id</th>\n",
       "      <th>session_id</th>\n",
       "      <th>steps</th>\n",
       "      <th>first_timestamp</th>\n",
       "      <th>last_timestamp</th>\n",
       "      <th>session_length</th>\n",
       "      <th>session_length_minutes</th>\n",
       "      <th>avg_step_duration_seconds</th>\n",
       "    </tr>\n",
       "  </thead>\n",
       "  <tbody>\n",
       "    <tr>\n",
       "      <th>0</th>\n",
       "      <td>0001VQMGUI65</td>\n",
       "      <td>466687f1875ee</td>\n",
       "      <td>18</td>\n",
       "      <td>1541075929</td>\n",
       "      <td>1541076413</td>\n",
       "      <td>484</td>\n",
       "      <td>8.07</td>\n",
       "      <td>26.888889</td>\n",
       "    </tr>\n",
       "    <tr>\n",
       "      <th>1</th>\n",
       "      <td>0003QTCX5MJX</td>\n",
       "      <td>6e81f1bdeb75d</td>\n",
       "      <td>4</td>\n",
       "      <td>1541441455</td>\n",
       "      <td>1541441472</td>\n",
       "      <td>17</td>\n",
       "      <td>0.28</td>\n",
       "      <td>4.250000</td>\n",
       "    </tr>\n",
       "    <tr>\n",
       "      <th>2</th>\n",
       "      <td>0004IOZI7CKF</td>\n",
       "      <td>0146f7cb014ba</td>\n",
       "      <td>5</td>\n",
       "      <td>1541266717</td>\n",
       "      <td>1541266868</td>\n",
       "      <td>151</td>\n",
       "      <td>2.52</td>\n",
       "      <td>30.200000</td>\n",
       "    </tr>\n",
       "    <tr>\n",
       "      <th>3</th>\n",
       "      <td>0004WCFRV3FB</td>\n",
       "      <td>b47e1ccca2b97</td>\n",
       "      <td>2</td>\n",
       "      <td>1541421780</td>\n",
       "      <td>1541421814</td>\n",
       "      <td>34</td>\n",
       "      <td>0.57</td>\n",
       "      <td>17.000000</td>\n",
       "    </tr>\n",
       "    <tr>\n",
       "      <th>4</th>\n",
       "      <td>0006W0R5A5V8</td>\n",
       "      <td>85501a9f27263</td>\n",
       "      <td>1</td>\n",
       "      <td>1541385464</td>\n",
       "      <td>1541385464</td>\n",
       "      <td>0</td>\n",
       "      <td>0.00</td>\n",
       "      <td>0.000000</td>\n",
       "    </tr>\n",
       "    <tr>\n",
       "      <th>...</th>\n",
       "      <td>...</td>\n",
       "      <td>...</td>\n",
       "      <td>...</td>\n",
       "      <td>...</td>\n",
       "      <td>...</td>\n",
       "      <td>...</td>\n",
       "      <td>...</td>\n",
       "      <td>...</td>\n",
       "    </tr>\n",
       "    <tr>\n",
       "      <th>910678</th>\n",
       "      <td>ZZZPKIEICNT9</td>\n",
       "      <td>3d1050e3a9443</td>\n",
       "      <td>1</td>\n",
       "      <td>1541065271</td>\n",
       "      <td>1541065271</td>\n",
       "      <td>0</td>\n",
       "      <td>0.00</td>\n",
       "      <td>0.000000</td>\n",
       "    </tr>\n",
       "    <tr>\n",
       "      <th>910679</th>\n",
       "      <td>ZZZPQ336U50Y</td>\n",
       "      <td>064c82a3bcbbd</td>\n",
       "      <td>12</td>\n",
       "      <td>1541252236</td>\n",
       "      <td>1541255539</td>\n",
       "      <td>3303</td>\n",
       "      <td>55.05</td>\n",
       "      <td>275.250000</td>\n",
       "    </tr>\n",
       "    <tr>\n",
       "      <th>910680</th>\n",
       "      <td>ZZZRFN2DZ2BV</td>\n",
       "      <td>2af5b0a2ba2f8</td>\n",
       "      <td>34</td>\n",
       "      <td>1541165368</td>\n",
       "      <td>1541167476</td>\n",
       "      <td>2108</td>\n",
       "      <td>35.13</td>\n",
       "      <td>62.000000</td>\n",
       "    </tr>\n",
       "    <tr>\n",
       "      <th>910681</th>\n",
       "      <td>ZZZRTATPZ6I4</td>\n",
       "      <td>037a55441944f</td>\n",
       "      <td>1</td>\n",
       "      <td>1541342506</td>\n",
       "      <td>1541342506</td>\n",
       "      <td>0</td>\n",
       "      <td>0.00</td>\n",
       "      <td>0.000000</td>\n",
       "    </tr>\n",
       "    <tr>\n",
       "      <th>910682</th>\n",
       "      <td>ZZZSKOPW9P49</td>\n",
       "      <td>6058707f0eff6</td>\n",
       "      <td>13</td>\n",
       "      <td>1541541481</td>\n",
       "      <td>1541542040</td>\n",
       "      <td>559</td>\n",
       "      <td>9.32</td>\n",
       "      <td>43.000000</td>\n",
       "    </tr>\n",
       "  </tbody>\n",
       "</table>\n",
       "<p>910683 rows × 8 columns</p>\n",
       "</div>"
      ],
      "text/plain": [
       "             user_id     session_id  steps  first_timestamp  last_timestamp  \\\n",
       "0       0001VQMGUI65  466687f1875ee     18       1541075929      1541076413   \n",
       "1       0003QTCX5MJX  6e81f1bdeb75d      4       1541441455      1541441472   \n",
       "2       0004IOZI7CKF  0146f7cb014ba      5       1541266717      1541266868   \n",
       "3       0004WCFRV3FB  b47e1ccca2b97      2       1541421780      1541421814   \n",
       "4       0006W0R5A5V8  85501a9f27263      1       1541385464      1541385464   \n",
       "...              ...            ...    ...              ...             ...   \n",
       "910678  ZZZPKIEICNT9  3d1050e3a9443      1       1541065271      1541065271   \n",
       "910679  ZZZPQ336U50Y  064c82a3bcbbd     12       1541252236      1541255539   \n",
       "910680  ZZZRFN2DZ2BV  2af5b0a2ba2f8     34       1541165368      1541167476   \n",
       "910681  ZZZRTATPZ6I4  037a55441944f      1       1541342506      1541342506   \n",
       "910682  ZZZSKOPW9P49  6058707f0eff6     13       1541541481      1541542040   \n",
       "\n",
       "        session_length  session_length_minutes  avg_step_duration_seconds  \n",
       "0                  484                    8.07                  26.888889  \n",
       "1                   17                    0.28                   4.250000  \n",
       "2                  151                    2.52                  30.200000  \n",
       "3                   34                    0.57                  17.000000  \n",
       "4                    0                    0.00                   0.000000  \n",
       "...                ...                     ...                        ...  \n",
       "910678               0                    0.00                   0.000000  \n",
       "910679            3303                   55.05                 275.250000  \n",
       "910680            2108                   35.13                  62.000000  \n",
       "910681               0                    0.00                   0.000000  \n",
       "910682             559                    9.32                  43.000000  \n",
       "\n",
       "[910683 rows x 8 columns]"
      ]
     },
     "execution_count": 22,
     "metadata": {},
     "output_type": "execute_result"
    }
   ],
   "source": [
    "u_actions_per_session = df_train.groupby(['user_id','session_id'],as_index=False) \\\n",
    ".agg(\n",
    "    steps=('step','count'),\n",
    "    first_timestamp=('timestamp','first'),\n",
    "    last_timestamp=('timestamp','last'),\n",
    "    session_length=('timestamp', lambda x: (x.max()-x.min())),\n",
    ")\n",
    "\n",
    "def avg_step_duration(row):\n",
    "    return row['session_length'] / row['steps']\n",
    "\n",
    "def seconds_to_minutes(seconds):\n",
    "    return round(seconds/60,2)\n",
    "\n",
    "# transform session length into minutes\n",
    "u_actions_per_session['session_length_minutes'] = u_actions_per_session['session_length'].apply(seconds_to_minutes);\n",
    "\n",
    "# calculate avergate duration of step\n",
    "u_actions_per_session['avg_step_duration_seconds'] = u_actions_per_session.apply(avg_step_duration,axis=1);\n",
    "\n",
    "u_actions_per_session"
   ]
  },
  {
   "cell_type": "code",
   "execution_count": 23,
   "metadata": {},
   "outputs": [
    {
     "data": {
      "text/plain": [
       "[Text(0.5, 1.0, 'Length of the session'), Text(0, 0.5, 'Time (min)')]"
      ]
     },
     "execution_count": 23,
     "metadata": {},
     "output_type": "execute_result"
    },
    {
     "data": {
      "image/png": "[encoded data removed]",
      "text/plain": [
       "<Figure size 640x480 with 1 Axes>"
      ]
     },
     "metadata": {},
     "output_type": "display_data"
    }
   ],
   "source": [
    "sns.boxplot(data=u_actions_per_session.session_length_minutes).set(title='Length of the session',ylabel=\"Time (min)\")"
   ]
  },
  {
   "cell_type": "markdown",
   "metadata": {},
   "source": [
    "7000 minutes is a long session. We might look what session it is."
   ]
  },
  {
   "cell_type": "code",
   "execution_count": 24,
   "metadata": {},
   "outputs": [
    {
     "data": {
      "text/html": [
       "<div>\n",
       "<style scoped>\n",
       "    .dataframe tbody tr th:only-of-type {\n",
       "        vertical-align: middle;\n",
       "    }\n",
       "\n",
       "    .dataframe tbody tr th {\n",
       "        vertical-align: top;\n",
       "    }\n",
       "\n",
       "    .dataframe thead th {\n",
       "        text-align: right;\n",
       "    }\n",
       "</style>\n",
       "<table border=\"1\" class=\"dataframe\">\n",
       "  <thead>\n",
       "    <tr style=\"text-align: right;\">\n",
       "      <th></th>\n",
       "      <th>user_id</th>\n",
       "      <th>session_id</th>\n",
       "      <th>steps</th>\n",
       "      <th>first_timestamp</th>\n",
       "      <th>last_timestamp</th>\n",
       "      <th>session_length</th>\n",
       "      <th>session_length_minutes</th>\n",
       "      <th>avg_step_duration_seconds</th>\n",
       "    </tr>\n",
       "  </thead>\n",
       "  <tbody>\n",
       "    <tr>\n",
       "      <th>73721</th>\n",
       "      <td>2DQ7VEGMWKMC</td>\n",
       "      <td>907cb2db5cec5</td>\n",
       "      <td>3</td>\n",
       "      <td>1541100192</td>\n",
       "      <td>1541504595</td>\n",
       "      <td>404403</td>\n",
       "      <td>6740.05</td>\n",
       "      <td>134801.000000</td>\n",
       "    </tr>\n",
       "    <tr>\n",
       "      <th>240205</th>\n",
       "      <td>7X4FZTVRCDQA</td>\n",
       "      <td>2a181b2125efe</td>\n",
       "      <td>3</td>\n",
       "      <td>1541329853</td>\n",
       "      <td>1541103586</td>\n",
       "      <td>402729</td>\n",
       "      <td>6712.15</td>\n",
       "      <td>134243.000000</td>\n",
       "    </tr>\n",
       "    <tr>\n",
       "      <th>382463</th>\n",
       "      <td>DBCXN9ORT7JR</td>\n",
       "      <td>c0c2730fdde6c</td>\n",
       "      <td>243</td>\n",
       "      <td>1541041823</td>\n",
       "      <td>1541211511</td>\n",
       "      <td>311043</td>\n",
       "      <td>5184.05</td>\n",
       "      <td>1280.012346</td>\n",
       "    </tr>\n",
       "    <tr>\n",
       "      <th>112562</th>\n",
       "      <td>3O0IAI6ZFBGH</td>\n",
       "      <td>7a37b2c63a02f</td>\n",
       "      <td>141</td>\n",
       "      <td>1541292154</td>\n",
       "      <td>1541451149</td>\n",
       "      <td>283968</td>\n",
       "      <td>4732.80</td>\n",
       "      <td>2013.957447</td>\n",
       "    </tr>\n",
       "    <tr>\n",
       "      <th>694449</th>\n",
       "      <td>QP6XR22469XE</td>\n",
       "      <td>4cd200e050285</td>\n",
       "      <td>9</td>\n",
       "      <td>1541348915</td>\n",
       "      <td>1541080205</td>\n",
       "      <td>282081</td>\n",
       "      <td>4701.35</td>\n",
       "      <td>31342.333333</td>\n",
       "    </tr>\n",
       "    <tr>\n",
       "      <th>797705</th>\n",
       "      <td>V3P76U5ZAW70</td>\n",
       "      <td>a0163701c3369</td>\n",
       "      <td>375</td>\n",
       "      <td>1541170709</td>\n",
       "      <td>1541443671</td>\n",
       "      <td>272962</td>\n",
       "      <td>4549.37</td>\n",
       "      <td>727.898667</td>\n",
       "    </tr>\n",
       "    <tr>\n",
       "      <th>663069</th>\n",
       "      <td>PBIZWRQOUBVE</td>\n",
       "      <td>8c41f0b873b0b</td>\n",
       "      <td>78</td>\n",
       "      <td>1541544799</td>\n",
       "      <td>1541273981</td>\n",
       "      <td>270955</td>\n",
       "      <td>4515.92</td>\n",
       "      <td>3473.782051</td>\n",
       "    </tr>\n",
       "    <tr>\n",
       "      <th>240267</th>\n",
       "      <td>7X60B4XQ9F9A</td>\n",
       "      <td>1892588e0a4fc</td>\n",
       "      <td>199</td>\n",
       "      <td>1541089881</td>\n",
       "      <td>1541355226</td>\n",
       "      <td>265345</td>\n",
       "      <td>4422.42</td>\n",
       "      <td>1333.391960</td>\n",
       "    </tr>\n",
       "    <tr>\n",
       "      <th>552897</th>\n",
       "      <td>KM9M1H6OUC8V</td>\n",
       "      <td>14ffe9351be7c</td>\n",
       "      <td>2</td>\n",
       "      <td>1541147752</td>\n",
       "      <td>1541405239</td>\n",
       "      <td>257487</td>\n",
       "      <td>4291.45</td>\n",
       "      <td>128743.500000</td>\n",
       "    </tr>\n",
       "    <tr>\n",
       "      <th>889713</th>\n",
       "      <td>Z318E4ELCZDN</td>\n",
       "      <td>0187dfe7f029a</td>\n",
       "      <td>2</td>\n",
       "      <td>1541419153</td>\n",
       "      <td>1541194025</td>\n",
       "      <td>225128</td>\n",
       "      <td>3752.13</td>\n",
       "      <td>112564.000000</td>\n",
       "    </tr>\n",
       "  </tbody>\n",
       "</table>\n",
       "</div>"
      ],
      "text/plain": [
       "             user_id     session_id  steps  first_timestamp  last_timestamp  \\\n",
       "73721   2DQ7VEGMWKMC  907cb2db5cec5      3       1541100192      1541504595   \n",
       "240205  7X4FZTVRCDQA  2a181b2125efe      3       1541329853      1541103586   \n",
       "382463  DBCXN9ORT7JR  c0c2730fdde6c    243       1541041823      1541211511   \n",
       "112562  3O0IAI6ZFBGH  7a37b2c63a02f    141       1541292154      1541451149   \n",
       "694449  QP6XR22469XE  4cd200e050285      9       1541348915      1541080205   \n",
       "797705  V3P76U5ZAW70  a0163701c3369    375       1541170709      1541443671   \n",
       "663069  PBIZWRQOUBVE  8c41f0b873b0b     78       1541544799      1541273981   \n",
       "240267  7X60B4XQ9F9A  1892588e0a4fc    199       1541089881      1541355226   \n",
       "552897  KM9M1H6OUC8V  14ffe9351be7c      2       1541147752      1541405239   \n",
       "889713  Z318E4ELCZDN  0187dfe7f029a      2       1541419153      1541194025   \n",
       "\n",
       "        session_length  session_length_minutes  avg_step_duration_seconds  \n",
       "73721           404403                 6740.05              134801.000000  \n",
       "240205          402729                 6712.15              134243.000000  \n",
       "382463          311043                 5184.05                1280.012346  \n",
       "112562          283968                 4732.80                2013.957447  \n",
       "694449          282081                 4701.35               31342.333333  \n",
       "797705          272962                 4549.37                 727.898667  \n",
       "663069          270955                 4515.92                3473.782051  \n",
       "240267          265345                 4422.42                1333.391960  \n",
       "552897          257487                 4291.45              128743.500000  \n",
       "889713          225128                 3752.13              112564.000000  "
      ]
     },
     "execution_count": 24,
     "metadata": {},
     "output_type": "execute_result"
    }
   ],
   "source": [
    "longest_sessions = u_actions_per_session.sort_values(by=\"session_length_minutes\",ascending=False).head(10)\n",
    "longest_sessions"
   ]
  },
  {
   "cell_type": "code",
   "execution_count": 25,
   "metadata": {},
   "outputs": [
    {
     "data": {
      "text/html": [
       "<div>\n",
       "<style scoped>\n",
       "    .dataframe tbody tr th:only-of-type {\n",
       "        vertical-align: middle;\n",
       "    }\n",
       "\n",
       "    .dataframe tbody tr th {\n",
       "        vertical-align: top;\n",
       "    }\n",
       "\n",
       "    .dataframe thead th {\n",
       "        text-align: right;\n",
       "    }\n",
       "</style>\n",
       "<table border=\"1\" class=\"dataframe\">\n",
       "  <thead>\n",
       "    <tr style=\"text-align: right;\">\n",
       "      <th></th>\n",
       "      <th>user_id</th>\n",
       "      <th>session_id</th>\n",
       "      <th>timestamp</th>\n",
       "      <th>step</th>\n",
       "      <th>action_type</th>\n",
       "      <th>reference</th>\n",
       "      <th>platform</th>\n",
       "      <th>city</th>\n",
       "      <th>device</th>\n",
       "      <th>current_filters</th>\n",
       "      <th>impressions</th>\n",
       "      <th>prices</th>\n",
       "    </tr>\n",
       "  </thead>\n",
       "  <tbody>\n",
       "    <tr>\n",
       "      <th>1195332</th>\n",
       "      <td>2DQ7VEGMWKMC</td>\n",
       "      <td>907cb2db5cec5</td>\n",
       "      <td>1541100192</td>\n",
       "      <td>1</td>\n",
       "      <td>clickout item</td>\n",
       "      <td>14893</td>\n",
       "      <td>DE</td>\n",
       "      <td>Cologne, Germany</td>\n",
       "      <td>mobile</td>\n",
       "      <td>NaN</td>\n",
       "      <td>14893|6477|13714|6446|6435|6468|14944|51543|52...</td>\n",
       "      <td>136|134|169|167|178|81|139|89|84|84|187|110|84...</td>\n",
       "    </tr>\n",
       "    <tr>\n",
       "      <th>15841494</th>\n",
       "      <td>2DQ7VEGMWKMC</td>\n",
       "      <td>907cb2db5cec5</td>\n",
       "      <td>1541504562</td>\n",
       "      <td>1</td>\n",
       "      <td>clickout item</td>\n",
       "      <td>51051</td>\n",
       "      <td>DE</td>\n",
       "      <td>Oberstaufen, Germany</td>\n",
       "      <td>mobile</td>\n",
       "      <td>NaN</td>\n",
       "      <td>141398|51612|51272|137554|3478570|51051|121851...</td>\n",
       "      <td>180|172|160|122|120|120|229|274|135|129|89|97|...</td>\n",
       "    </tr>\n",
       "    <tr>\n",
       "      <th>15841495</th>\n",
       "      <td>2DQ7VEGMWKMC</td>\n",
       "      <td>907cb2db5cec5</td>\n",
       "      <td>1541504595</td>\n",
       "      <td>2</td>\n",
       "      <td>clickout item</td>\n",
       "      <td>51272</td>\n",
       "      <td>DE</td>\n",
       "      <td>Oberstaufen, Germany</td>\n",
       "      <td>mobile</td>\n",
       "      <td>NaN</td>\n",
       "      <td>141398|51612|51272|137554|3478570|51051|121851...</td>\n",
       "      <td>180|172|160|122|120|120|229|274|135|129|89|97|...</td>\n",
       "    </tr>\n",
       "  </tbody>\n",
       "</table>\n",
       "</div>"
      ],
      "text/plain": [
       "               user_id     session_id   timestamp  step    action_type  \\\n",
       "1195332   2DQ7VEGMWKMC  907cb2db5cec5  1541100192     1  clickout item   \n",
       "15841494  2DQ7VEGMWKMC  907cb2db5cec5  1541504562     1  clickout item   \n",
       "15841495  2DQ7VEGMWKMC  907cb2db5cec5  1541504595     2  clickout item   \n",
       "\n",
       "         reference platform                  city  device current_filters  \\\n",
       "1195332      14893       DE      Cologne, Germany  mobile             NaN   \n",
       "15841494     51051       DE  Oberstaufen, Germany  mobile             NaN   \n",
       "15841495     51272       DE  Oberstaufen, Germany  mobile             NaN   \n",
       "\n",
       "                                                impressions  \\\n",
       "1195332   14893|6477|13714|6446|6435|6468|14944|51543|52...   \n",
       "15841494  141398|51612|51272|137554|3478570|51051|121851...   \n",
       "15841495  141398|51612|51272|137554|3478570|51051|121851...   \n",
       "\n",
       "                                                     prices  \n",
       "1195332   136|134|169|167|178|81|139|89|84|84|187|110|84...  \n",
       "15841494  180|172|160|122|120|120|229|274|135|129|89|97|...  \n",
       "15841495  180|172|160|122|120|120|229|274|135|129|89|97|...  "
      ]
     },
     "execution_count": 25,
     "metadata": {},
     "output_type": "execute_result"
    }
   ],
   "source": [
    "df_train[df_train.session_id == longest_sessions['session_id'].iloc[0]]"
   ]
  },
  {
   "cell_type": "code",
   "execution_count": 26,
   "metadata": {},
   "outputs": [
    {
     "data": {
      "text/html": [
       "<div>\n",
       "<style scoped>\n",
       "    .dataframe tbody tr th:only-of-type {\n",
       "        vertical-align: middle;\n",
       "    }\n",
       "\n",
       "    .dataframe tbody tr th {\n",
       "        vertical-align: top;\n",
       "    }\n",
       "\n",
       "    .dataframe thead th {\n",
       "        text-align: right;\n",
       "    }\n",
       "</style>\n",
       "<table border=\"1\" class=\"dataframe\">\n",
       "  <thead>\n",
       "    <tr style=\"text-align: right;\">\n",
       "      <th></th>\n",
       "      <th>user_id</th>\n",
       "      <th>session_id</th>\n",
       "      <th>timestamp</th>\n",
       "      <th>step</th>\n",
       "      <th>action_type</th>\n",
       "      <th>reference</th>\n",
       "      <th>platform</th>\n",
       "      <th>city</th>\n",
       "      <th>device</th>\n",
       "      <th>current_filters</th>\n",
       "      <th>impressions</th>\n",
       "      <th>prices</th>\n",
       "    </tr>\n",
       "  </thead>\n",
       "  <tbody>\n",
       "    <tr>\n",
       "      <th>5054814</th>\n",
       "      <td>7X4FZTVRCDQA</td>\n",
       "      <td>2a181b2125efe</td>\n",
       "      <td>1541329853</td>\n",
       "      <td>1</td>\n",
       "      <td>search for destination</td>\n",
       "      <td>Rimini, Italy</td>\n",
       "      <td>IT</td>\n",
       "      <td>Rimini, Italy</td>\n",
       "      <td>mobile</td>\n",
       "      <td>NaN</td>\n",
       "      <td>NaN</td>\n",
       "      <td>NaN</td>\n",
       "    </tr>\n",
       "    <tr>\n",
       "      <th>6267791</th>\n",
       "      <td>7X4FZTVRCDQA</td>\n",
       "      <td>2a181b2125efe</td>\n",
       "      <td>1541506315</td>\n",
       "      <td>1</td>\n",
       "      <td>search for destination</td>\n",
       "      <td>Milan, Italy</td>\n",
       "      <td>IT</td>\n",
       "      <td>Milan, Italy</td>\n",
       "      <td>mobile</td>\n",
       "      <td>NaN</td>\n",
       "      <td>NaN</td>\n",
       "      <td>NaN</td>\n",
       "    </tr>\n",
       "    <tr>\n",
       "      <th>8324291</th>\n",
       "      <td>7X4FZTVRCDQA</td>\n",
       "      <td>2a181b2125efe</td>\n",
       "      <td>1541103586</td>\n",
       "      <td>1</td>\n",
       "      <td>clickout item</td>\n",
       "      <td>94907</td>\n",
       "      <td>IT</td>\n",
       "      <td>Giardini-Naxos, Italy</td>\n",
       "      <td>mobile</td>\n",
       "      <td>NaN</td>\n",
       "      <td>94907|101278|82654|23607|23610|45848|1203406|2...</td>\n",
       "      <td>82|55|87|187|85|98|184|94|86|111|144|87|223|49...</td>\n",
       "    </tr>\n",
       "  </tbody>\n",
       "</table>\n",
       "</div>"
      ],
      "text/plain": [
       "              user_id     session_id   timestamp  step  \\\n",
       "5054814  7X4FZTVRCDQA  2a181b2125efe  1541329853     1   \n",
       "6267791  7X4FZTVRCDQA  2a181b2125efe  1541506315     1   \n",
       "8324291  7X4FZTVRCDQA  2a181b2125efe  1541103586     1   \n",
       "\n",
       "                    action_type      reference platform  \\\n",
       "5054814  search for destination  Rimini, Italy       IT   \n",
       "6267791  search for destination   Milan, Italy       IT   \n",
       "8324291           clickout item          94907       IT   \n",
       "\n",
       "                          city  device current_filters  \\\n",
       "5054814          Rimini, Italy  mobile             NaN   \n",
       "6267791           Milan, Italy  mobile             NaN   \n",
       "8324291  Giardini-Naxos, Italy  mobile             NaN   \n",
       "\n",
       "                                               impressions  \\\n",
       "5054814                                                NaN   \n",
       "6267791                                                NaN   \n",
       "8324291  94907|101278|82654|23607|23610|45848|1203406|2...   \n",
       "\n",
       "                                                    prices  \n",
       "5054814                                                NaN  \n",
       "6267791                                                NaN  \n",
       "8324291  82|55|87|187|85|98|184|94|86|111|144|87|223|49...  "
      ]
     },
     "execution_count": 26,
     "metadata": {},
     "output_type": "execute_result"
    }
   ],
   "source": [
    "df_train[df_train.session_id == longest_sessions['session_id'].iloc[1]]"
   ]
  },
  {
   "cell_type": "markdown",
   "metadata": {},
   "source": [
    "There's some dirty data in there. Possible candidate for dropping duplicated session_id - step pairs"
   ]
  },
  {
   "cell_type": "markdown",
   "metadata": {
    "jp-MarkdownHeadingCollapsed": true,
    "tags": []
   },
   "source": [
    "### step"
   ]
  },
  {
   "cell_type": "markdown",
   "metadata": {},
   "source": [
    "Step is a attribute representing step order number in the sequence of actions within the session"
   ]
  },
  {
   "cell_type": "markdown",
   "metadata": {
    "jp-MarkdownHeadingCollapsed": true,
    "tags": []
   },
   "source": [
    "#### Number of steps in distinct sessions"
   ]
  },
  {
   "cell_type": "code",
   "execution_count": 27,
   "metadata": {},
   "outputs": [
    {
     "data": {
      "image/png": "[encoded data removed]",
      "text/plain": [
       "<Figure size 640x480 with 1 Axes>"
      ]
     },
     "metadata": {},
     "output_type": "display_data"
    }
   ],
   "source": [
    "session_action_count = df_train.groupby(['session_id'])['step'].count().reset_index(name=\"count\")\n",
    "sns.boxplot(data=session_action_count).set(title=\"Number of steps per session\");"
   ]
  },
  {
   "cell_type": "code",
   "execution_count": 28,
   "metadata": {},
   "outputs": [
    {
     "data": {
      "text/html": [
       "<div>\n",
       "<style scoped>\n",
       "    .dataframe tbody tr th:only-of-type {\n",
       "        vertical-align: middle;\n",
       "    }\n",
       "\n",
       "    .dataframe tbody tr th {\n",
       "        vertical-align: top;\n",
       "    }\n",
       "\n",
       "    .dataframe thead th {\n",
       "        text-align: right;\n",
       "    }\n",
       "</style>\n",
       "<table border=\"1\" class=\"dataframe\">\n",
       "  <thead>\n",
       "    <tr style=\"text-align: right;\">\n",
       "      <th></th>\n",
       "      <th>count</th>\n",
       "    </tr>\n",
       "  </thead>\n",
       "  <tbody>\n",
       "    <tr>\n",
       "      <th>count</th>\n",
       "      <td>910683.000000</td>\n",
       "    </tr>\n",
       "    <tr>\n",
       "      <th>mean</th>\n",
       "      <td>17.495651</td>\n",
       "    </tr>\n",
       "    <tr>\n",
       "      <th>std</th>\n",
       "      <td>48.181687</td>\n",
       "    </tr>\n",
       "    <tr>\n",
       "      <th>min</th>\n",
       "      <td>1.000000</td>\n",
       "    </tr>\n",
       "    <tr>\n",
       "      <th>25%</th>\n",
       "      <td>2.000000</td>\n",
       "    </tr>\n",
       "    <tr>\n",
       "      <th>50%</th>\n",
       "      <td>4.000000</td>\n",
       "    </tr>\n",
       "    <tr>\n",
       "      <th>75%</th>\n",
       "      <td>13.000000</td>\n",
       "    </tr>\n",
       "    <tr>\n",
       "      <th>max</th>\n",
       "      <td>3522.000000</td>\n",
       "    </tr>\n",
       "  </tbody>\n",
       "</table>\n",
       "</div>"
      ],
      "text/plain": [
       "               count\n",
       "count  910683.000000\n",
       "mean       17.495651\n",
       "std        48.181687\n",
       "min         1.000000\n",
       "25%         2.000000\n",
       "50%         4.000000\n",
       "75%        13.000000\n",
       "max      3522.000000"
      ]
     },
     "execution_count": 28,
     "metadata": {},
     "output_type": "execute_result"
    }
   ],
   "source": [
    "session_action_count.describe()"
   ]
  },
  {
   "cell_type": "code",
   "execution_count": 29,
   "metadata": {},
   "outputs": [
    {
     "data": {
      "text/plain": [
       "Text(0.5, 1.0, 'Number of steps (N) of distinct sessions')"
      ]
     },
     "execution_count": 29,
     "metadata": {},
     "output_type": "execute_result"
    },
    {
     "data": {
      "image/png": "[encoded data removed]",
      "text/plain": [
       "<Figure size 1000x600 with 1 Axes>"
      ]
     },
     "metadata": {},
     "output_type": "display_data"
    }
   ],
   "source": [
    "session_action_count_groups = pd.DataFrame({\n",
    "   'type': [\n",
    "        'N>1000',\n",
    "        '1000>N>100',\n",
    "        '100>N>10',\n",
    "        '10>N>1',\n",
    "        'N=1'\n",
    "    ],\n",
    "    'count': [\n",
    "        session_action_count[session_action_count['count'] > 1000].count()[0],\n",
    "        session_action_count[(session_action_count['count'] > 100) & (session_action_count['count'] < 1000)].count()[0],\n",
    "        session_action_count[(session_action_count['count'] > 10) & (session_action_count['count'] < 100)].count()[0],\n",
    "        session_action_count[(session_action_count['count'] > 1) & (session_action_count['count'] < 10)].count()[0],\n",
    "        session_action_count[session_action_count['count'] == 1].count()[0]\n",
    "    ]\n",
    "});\n",
    "\n",
    "fig, axes = plt.subplots(figsize = (10,6))\n",
    "axes.pie(x=session_action_count_groups['count'], labels = session_action_count_groups['type'], explode=[0.1]*5, autopct=\"%.2f%%\")\n",
    "plt.title(\"Number of steps (N) of distinct sessions\",pad=30)"
   ]
  },
  {
   "cell_type": "markdown",
   "metadata": {},
   "source": [
    "The data is distributed relatively good. In the graph above we might see that almost half of the sessions are under 10 steps. A quarter is under 100 and the other quarter are single-step sessions."
   ]
  },
  {
   "cell_type": "markdown",
   "metadata": {
    "tags": []
   },
   "source": [
    "### action_type"
   ]
  },
  {
   "cell_type": "markdown",
   "metadata": {},
   "source": [
    "Identifier of the action that has been taken by the user. As descibed in the introduction, it can contain following values:"
   ]
  },
  {
   "cell_type": "code",
   "execution_count": 30,
   "metadata": {},
   "outputs": [
    {
     "data": {
      "text/plain": [
       "array(['search for poi', 'interaction item image', 'clickout item',\n",
       "       'interaction item info', 'interaction item deals',\n",
       "       'search for destination', 'filter selection',\n",
       "       'interaction item rating', 'search for item',\n",
       "       'change of sort order'], dtype=object)"
      ]
     },
     "execution_count": 30,
     "metadata": {},
     "output_type": "execute_result"
    }
   ],
   "source": [
    "df_train.action_type.unique()"
   ]
  },
  {
   "cell_type": "markdown",
   "metadata": {},
   "source": [
    "Let's count them:"
   ]
  },
  {
   "cell_type": "code",
   "execution_count": 31,
   "metadata": {},
   "outputs": [
    {
     "data": {
      "text/html": [
       "<div>\n",
       "<style scoped>\n",
       "    .dataframe tbody tr th:only-of-type {\n",
       "        vertical-align: middle;\n",
       "    }\n",
       "\n",
       "    .dataframe tbody tr th {\n",
       "        vertical-align: top;\n",
       "    }\n",
       "\n",
       "    .dataframe thead th {\n",
       "        text-align: right;\n",
       "    }\n",
       "</style>\n",
       "<table border=\"1\" class=\"dataframe\">\n",
       "  <thead>\n",
       "    <tr style=\"text-align: right;\">\n",
       "      <th></th>\n",
       "      <th>action_type</th>\n",
       "      <th>count</th>\n",
       "    </tr>\n",
       "  </thead>\n",
       "  <tbody>\n",
       "    <tr>\n",
       "      <th>0</th>\n",
       "      <td>interaction item image</td>\n",
       "      <td>11860750</td>\n",
       "    </tr>\n",
       "    <tr>\n",
       "      <th>1</th>\n",
       "      <td>clickout item</td>\n",
       "      <td>1586586</td>\n",
       "    </tr>\n",
       "    <tr>\n",
       "      <th>2</th>\n",
       "      <td>filter selection</td>\n",
       "      <td>695917</td>\n",
       "    </tr>\n",
       "    <tr>\n",
       "      <th>3</th>\n",
       "      <td>search for destination</td>\n",
       "      <td>403066</td>\n",
       "    </tr>\n",
       "    <tr>\n",
       "      <th>4</th>\n",
       "      <td>change of sort order</td>\n",
       "      <td>400584</td>\n",
       "    </tr>\n",
       "    <tr>\n",
       "      <th>5</th>\n",
       "      <td>interaction item info</td>\n",
       "      <td>285402</td>\n",
       "    </tr>\n",
       "    <tr>\n",
       "      <th>6</th>\n",
       "      <td>interaction item rating</td>\n",
       "      <td>217246</td>\n",
       "    </tr>\n",
       "    <tr>\n",
       "      <th>7</th>\n",
       "      <td>interaction item deals</td>\n",
       "      <td>193794</td>\n",
       "    </tr>\n",
       "    <tr>\n",
       "      <th>8</th>\n",
       "      <td>search for item</td>\n",
       "      <td>152203</td>\n",
       "    </tr>\n",
       "    <tr>\n",
       "      <th>9</th>\n",
       "      <td>search for poi</td>\n",
       "      <td>137444</td>\n",
       "    </tr>\n",
       "  </tbody>\n",
       "</table>\n",
       "</div>"
      ],
      "text/plain": [
       "               action_type     count\n",
       "0   interaction item image  11860750\n",
       "1            clickout item   1586586\n",
       "2         filter selection    695917\n",
       "3   search for destination    403066\n",
       "4     change of sort order    400584\n",
       "5    interaction item info    285402\n",
       "6  interaction item rating    217246\n",
       "7   interaction item deals    193794\n",
       "8          search for item    152203\n",
       "9           search for poi    137444"
      ]
     },
     "execution_count": 31,
     "metadata": {},
     "output_type": "execute_result"
    }
   ],
   "source": [
    "actions_count = df_train['action_type'].value_counts().reset_index(name=\"count\").rename(columns={'index':'action_type'})\n",
    "actions_count"
   ]
  },
  {
   "cell_type": "code",
   "execution_count": 32,
   "metadata": {},
   "outputs": [
    {
     "name": "stderr",
     "output_type": "stream",
     "text": [
      "/tmp/ipykernel_25074/2572850263.py:3: UserWarning: You have mixed positional and keyword arguments, some input may be discarded.\n",
      "  plt.legend(patches,labels=actions_count['action_type'].array.to_numpy(),loc='upper right')\n"
     ]
    },
    {
     "data": {
      "image/png": "[encoded data removed]",
      "text/plain": [
       "<Figure size 1000x600 with 1 Axes>"
      ]
     },
     "metadata": {},
     "output_type": "display_data"
    }
   ],
   "source": [
    "fig, axes = plt.subplots(figsize = (10,6))\n",
    "patches = axes.pie(x=actions_count['count'], explode=[0.1]*actions_count.shape[0], autopct=\"%.2f%%\")\n",
    "plt.legend(patches,labels=actions_count['action_type'].array.to_numpy(),loc='upper right')\n",
    "plt.tight_layout()\n",
    "plt.title(\"Percentage of action types in the dataset\",pad=30)\n",
    "plt.show()"
   ]
  },
  {
   "cell_type": "markdown",
   "metadata": {},
   "source": [
    "#### What steps are there before clickout?"
   ]
  },
  {
   "cell_type": "code",
   "execution_count": 33,
   "metadata": {},
   "outputs": [
    {
     "data": {
      "text/plain": [
       "array(['interaction item deals', 'interaction item image',\n",
       "       'clickout item', 'interaction item rating',\n",
       "       'interaction item info', 'change of sort order',\n",
       "       'filter selection', 'search for destination', 'search for poi',\n",
       "       'search for item'], dtype=object)"
      ]
     },
     "execution_count": 33,
     "metadata": {},
     "output_type": "execute_result"
    }
   ],
   "source": [
    "clickout_prec_rows = df_train.sort_values(by=[\"user_id\", \"session_id\", \"timestamp\", \"step\"]).groupby(['user_id','session_id'])[\"action_type\"].shift(1).dropna()\n",
    "clickout_prec_rows.unique()"
   ]
  },
  {
   "cell_type": "markdown",
   "metadata": {},
   "source": [
    "### reference"
   ]
  },
  {
   "cell_type": "markdown",
   "metadata": {},
   "source": [
    "Reference value of the action as described for the different action types. This column is missing in the test dataset and is the goal of the prediction."
   ]
  },
  {
   "cell_type": "markdown",
   "metadata": {},
   "source": [
    "It is present in all action types and contains various values, according to the action_type."
   ]
  },
  {
   "cell_type": "code",
   "execution_count": 34,
   "metadata": {},
   "outputs": [
    {
     "data": {
      "text/html": [
       "<div>\n",
       "<style scoped>\n",
       "    .dataframe tbody tr th:only-of-type {\n",
       "        vertical-align: middle;\n",
       "    }\n",
       "\n",
       "    .dataframe tbody tr th {\n",
       "        vertical-align: top;\n",
       "    }\n",
       "\n",
       "    .dataframe thead th {\n",
       "        text-align: right;\n",
       "    }\n",
       "</style>\n",
       "<table border=\"1\" class=\"dataframe\">\n",
       "  <thead>\n",
       "    <tr style=\"text-align: right;\">\n",
       "      <th></th>\n",
       "      <th>reference</th>\n",
       "    </tr>\n",
       "    <tr>\n",
       "      <th>action_type</th>\n",
       "      <th></th>\n",
       "    </tr>\n",
       "  </thead>\n",
       "  <tbody>\n",
       "    <tr>\n",
       "      <th>change of sort order</th>\n",
       "      <td>interaction sort button</td>\n",
       "    </tr>\n",
       "    <tr>\n",
       "      <th>clickout item</th>\n",
       "      <td>109038</td>\n",
       "    </tr>\n",
       "    <tr>\n",
       "      <th>filter selection</th>\n",
       "      <td>Very Good Rating</td>\n",
       "    </tr>\n",
       "    <tr>\n",
       "      <th>interaction item deals</th>\n",
       "      <td>3066244</td>\n",
       "    </tr>\n",
       "    <tr>\n",
       "      <th>interaction item image</th>\n",
       "      <td>666856</td>\n",
       "    </tr>\n",
       "    <tr>\n",
       "      <th>interaction item info</th>\n",
       "      <td>3377332</td>\n",
       "    </tr>\n",
       "    <tr>\n",
       "      <th>interaction item rating</th>\n",
       "      <td>749441</td>\n",
       "    </tr>\n",
       "    <tr>\n",
       "      <th>search for destination</th>\n",
       "      <td>London, United Kingdom</td>\n",
       "    </tr>\n",
       "    <tr>\n",
       "      <th>search for item</th>\n",
       "      <td>1258184</td>\n",
       "    </tr>\n",
       "    <tr>\n",
       "      <th>search for poi</th>\n",
       "      <td>Newtown</td>\n",
       "    </tr>\n",
       "  </tbody>\n",
       "</table>\n",
       "</div>"
      ],
      "text/plain": [
       "                                       reference\n",
       "action_type                                     \n",
       "change of sort order     interaction sort button\n",
       "clickout item                             109038\n",
       "filter selection                Very Good Rating\n",
       "interaction item deals                   3066244\n",
       "interaction item image                    666856\n",
       "interaction item info                    3377332\n",
       "interaction item rating                   749441\n",
       "search for destination    London, United Kingdom\n",
       "search for item                          1258184\n",
       "search for poi                           Newtown"
      ]
     },
     "execution_count": 34,
     "metadata": {},
     "output_type": "execute_result"
    }
   ],
   "source": [
    "df_train.groupby(['action_type']).agg({'reference':'first'})"
   ]
  },
  {
   "cell_type": "markdown",
   "metadata": {},
   "source": [
    "### platform"
   ]
  },
  {
   "cell_type": "markdown",
   "metadata": {},
   "source": [
    "Categorical atribute representing comuntry platform that was used for the search, e.g.  [trivago.de](http://trivago.de) (DE) or [trivago.com](http://trivago.com) (US)."
   ]
  },
  {
   "cell_type": "code",
   "execution_count": 35,
   "metadata": {},
   "outputs": [
    {
     "data": {
      "text/plain": [
       "array(['AU', 'BR', 'FI', 'UK', 'US', 'MX', 'FR', 'IT', 'AT', 'HK', 'RU',\n",
       "       'IN', 'CO', 'ES', 'CL', 'CH', 'BE', 'AR', 'NL', 'CA', 'JP', 'IE',\n",
       "       'SE', 'DE', 'TH', 'MY', 'HU', 'PH', 'ZA', 'PE', 'ID', 'NZ', 'CZ',\n",
       "       'KR', 'RS', 'BG', 'DK', 'HR', 'TR', 'IL', 'SG', 'EC', 'SK', 'PL',\n",
       "       'NO', 'AA', 'TW', 'PT', 'RO', 'UY', 'GR', 'AE', 'SI', 'CN', 'VN'],\n",
       "      dtype=object)"
      ]
     },
     "execution_count": 35,
     "metadata": {},
     "output_type": "execute_result"
    }
   ],
   "source": [
    "df_train['platform'].unique()"
   ]
  },
  {
   "cell_type": "markdown",
   "metadata": {},
   "source": [
    "### city"
   ]
  },
  {
   "cell_type": "markdown",
   "metadata": {},
   "source": [
    "Categorical atribute representing name of the current city of the search context"
   ]
  },
  {
   "cell_type": "code",
   "execution_count": 36,
   "metadata": {},
   "outputs": [
    {
     "data": {
      "text/plain": [
       "array(['Sydney, Australia', 'Ubatuba, Brazil', 'Krakow, Poland',\n",
       "       'London, United Kingdom', 'Bakersfield, USA',\n",
       "       'Seminyak, Indonesia', 'Legian, Indonesia', 'Mazamitla, Mexico',\n",
       "       'Alicante, Spain', 'Bolzano, Italy'], dtype=object)"
      ]
     },
     "execution_count": 36,
     "metadata": {},
     "output_type": "execute_result"
    }
   ],
   "source": [
    "df_train['city'].unique()[:10]"
   ]
  },
  {
   "cell_type": "code",
   "execution_count": 37,
   "metadata": {},
   "outputs": [
    {
     "data": {
      "text/plain": [
       "34752"
      ]
     },
     "execution_count": 37,
     "metadata": {},
     "output_type": "execute_result"
    }
   ],
   "source": [
    "df_train['city'].unique().shape[0]"
   ]
  },
  {
   "cell_type": "markdown",
   "metadata": {},
   "source": [
    "### device"
   ]
  },
  {
   "cell_type": "markdown",
   "metadata": {},
   "source": [
    "Categorical attribute representing the device that was used for the search"
   ]
  },
  {
   "cell_type": "code",
   "execution_count": 38,
   "metadata": {},
   "outputs": [
    {
     "data": {
      "text/plain": [
       "array(['mobile', 'desktop', 'tablet'], dtype=object)"
      ]
     },
     "execution_count": 38,
     "metadata": {},
     "output_type": "execute_result"
    }
   ],
   "source": [
    "df_train['device'].unique()"
   ]
  },
  {
   "cell_type": "markdown",
   "metadata": {
    "tags": []
   },
   "source": [
    "### current_filters"
   ]
  },
  {
   "cell_type": "markdown",
   "metadata": {},
   "source": [
    "A list of pipe-separated filters that were active at the given timestamp. It is present only in some action types. Example values may be:"
   ]
  },
  {
   "cell_type": "code",
   "execution_count": 39,
   "metadata": {},
   "outputs": [
    {
     "data": {
      "text/html": [
       "<div>\n",
       "<style scoped>\n",
       "    .dataframe tbody tr th:only-of-type {\n",
       "        vertical-align: middle;\n",
       "    }\n",
       "\n",
       "    .dataframe tbody tr th {\n",
       "        vertical-align: top;\n",
       "    }\n",
       "\n",
       "    .dataframe thead th {\n",
       "        text-align: right;\n",
       "    }\n",
       "</style>\n",
       "<table border=\"1\" class=\"dataframe\">\n",
       "  <thead>\n",
       "    <tr style=\"text-align: right;\">\n",
       "      <th></th>\n",
       "      <th>current_filters</th>\n",
       "    </tr>\n",
       "    <tr>\n",
       "      <th>action_type</th>\n",
       "      <th></th>\n",
       "    </tr>\n",
       "  </thead>\n",
       "  <tbody>\n",
       "    <tr>\n",
       "      <th>change of sort order</th>\n",
       "      <td>Sort by Price</td>\n",
       "    </tr>\n",
       "    <tr>\n",
       "      <th>clickout item</th>\n",
       "      <td>Very Good Rating|5 Star|4 Star|Hotel|Motel|Res...</td>\n",
       "    </tr>\n",
       "    <tr>\n",
       "      <th>filter selection</th>\n",
       "      <td>Very Good Rating</td>\n",
       "    </tr>\n",
       "    <tr>\n",
       "      <th>interaction item deals</th>\n",
       "      <td>None</td>\n",
       "    </tr>\n",
       "    <tr>\n",
       "      <th>interaction item image</th>\n",
       "      <td>Cheap</td>\n",
       "    </tr>\n",
       "    <tr>\n",
       "      <th>interaction item info</th>\n",
       "      <td>None</td>\n",
       "    </tr>\n",
       "    <tr>\n",
       "      <th>interaction item rating</th>\n",
       "      <td>None</td>\n",
       "    </tr>\n",
       "    <tr>\n",
       "      <th>search for destination</th>\n",
       "      <td>5 Star|4 Star</td>\n",
       "    </tr>\n",
       "    <tr>\n",
       "      <th>search for item</th>\n",
       "      <td>Hotel Chain</td>\n",
       "    </tr>\n",
       "    <tr>\n",
       "      <th>search for poi</th>\n",
       "      <td>5 Star|Hotel|Resort|4 Star|3 Star|Focus on Dis...</td>\n",
       "    </tr>\n",
       "  </tbody>\n",
       "</table>\n",
       "</div>"
      ],
      "text/plain": [
       "                                                           current_filters\n",
       "action_type                                                               \n",
       "change of sort order                                         Sort by Price\n",
       "clickout item            Very Good Rating|5 Star|4 Star|Hotel|Motel|Res...\n",
       "filter selection                                          Very Good Rating\n",
       "interaction item deals                                                None\n",
       "interaction item image                                               Cheap\n",
       "interaction item info                                                 None\n",
       "interaction item rating                                               None\n",
       "search for destination                                       5 Star|4 Star\n",
       "search for item                                                Hotel Chain\n",
       "search for poi           5 Star|Hotel|Resort|4 Star|3 Star|Focus on Dis..."
      ]
     },
     "execution_count": 39,
     "metadata": {},
     "output_type": "execute_result"
    }
   ],
   "source": [
    "df_train.groupby(['action_type']).agg({'current_filters':'first'})"
   ]
  },
  {
   "cell_type": "markdown",
   "metadata": {},
   "source": [
    "### impressions and prices"
   ]
  },
  {
   "cell_type": "markdown",
   "metadata": {},
   "source": [
    "According to the author, impressions and prices are both list of pipe-separated columns that were displayed to the user at the time of a click-out."
   ]
  },
  {
   "cell_type": "markdown",
   "metadata": {},
   "source": [
    "#### When are those two attributes present?"
   ]
  },
  {
   "cell_type": "code",
   "execution_count": 40,
   "metadata": {},
   "outputs": [
    {
     "data": {
      "text/plain": [
       "array(['clickout item'], dtype=object)"
      ]
     },
     "execution_count": 40,
     "metadata": {},
     "output_type": "execute_result"
    }
   ],
   "source": [
    "df_train[df_train['prices'].notna() | df_train['impressions'].notna()]['action_type'].unique()"
   ]
  },
  {
   "cell_type": "markdown",
   "metadata": {},
   "source": [
    "#### Are they the same?"
   ]
  },
  {
   "cell_type": "code",
   "execution_count": 41,
   "metadata": {},
   "outputs": [
    {
     "data": {
      "text/plain": [
       "True"
      ]
     },
     "execution_count": 41,
     "metadata": {},
     "output_type": "execute_result"
    }
   ],
   "source": [
    "not_na_prices = df_train[df_train['prices'].notna()].copy()\n",
    "not_na_impressions = df_train[df_train['impressions'].notna()].copy()\n",
    "not_na_impressions.equals(not_na_prices)"
   ]
  },
  {
   "cell_type": "markdown",
   "metadata": {},
   "source": [
    "#### What is the number of impressions?"
   ]
  },
  {
   "cell_type": "code",
   "execution_count": 42,
   "metadata": {},
   "outputs": [],
   "source": [
    "not_na_impressions.loc[:, 'impressions'] = not_na_impressions.loc[:, 'impressions'].str.split(\"|\")"
   ]
  },
  {
   "cell_type": "code",
   "execution_count": 43,
   "metadata": {},
   "outputs": [
    {
     "data": {
      "text/plain": [
       "array([25,  4, 12, 16,  7, 10, 24,  8, 18, 20,  2, 21, 13,  9, 19, 14,  5,\n",
       "       22, 23, 11, 15, 17,  3,  1,  6])"
      ]
     },
     "execution_count": 43,
     "metadata": {},
     "output_type": "execute_result"
    }
   ],
   "source": [
    "not_na_impressions['impressions'].apply(len).unique()"
   ]
  },
  {
   "cell_type": "markdown",
   "metadata": {},
   "source": [
    "So we see that the number of impressions might vary."
   ]
  },
  {
   "cell_type": "markdown",
   "metadata": {},
   "source": [
    "#### Do we have clean data? Is the number of impressions and prices in distinct rows equal?"
   ]
  },
  {
   "cell_type": "code",
   "execution_count": 44,
   "metadata": {},
   "outputs": [],
   "source": [
    "not_na_prices.loc[:, 'prices'] = not_na_prices.loc[:, 'prices'].str.split(\"|\")"
   ]
  },
  {
   "cell_type": "code",
   "execution_count": 45,
   "metadata": {},
   "outputs": [
    {
     "data": {
      "text/plain": [
       "False"
      ]
     },
     "execution_count": 45,
     "metadata": {},
     "output_type": "execute_result"
    }
   ],
   "source": [
    "not_na_impressions.equals(not_na_prices)"
   ]
  },
  {
   "cell_type": "markdown",
   "metadata": {},
   "source": [
    "## Single-user analysis"
   ]
  },
  {
   "cell_type": "markdown",
   "metadata": {
    "tags": []
   },
   "source": [
    "#### Most frequent user in dataset"
   ]
  },
  {
   "cell_type": "code",
   "execution_count": 46,
   "metadata": {},
   "outputs": [
    {
     "data": {
      "text/html": [
       "<div>\n",
       "<style scoped>\n",
       "    .dataframe tbody tr th:only-of-type {\n",
       "        vertical-align: middle;\n",
       "    }\n",
       "\n",
       "    .dataframe tbody tr th {\n",
       "        vertical-align: top;\n",
       "    }\n",
       "\n",
       "    .dataframe thead th {\n",
       "        text-align: right;\n",
       "    }\n",
       "</style>\n",
       "<table border=\"1\" class=\"dataframe\">\n",
       "  <thead>\n",
       "    <tr style=\"text-align: right;\">\n",
       "      <th></th>\n",
       "      <th>user_id</th>\n",
       "      <th>session_id</th>\n",
       "      <th>timestamp</th>\n",
       "      <th>step</th>\n",
       "      <th>action_type</th>\n",
       "      <th>reference</th>\n",
       "      <th>platform</th>\n",
       "      <th>city</th>\n",
       "      <th>device</th>\n",
       "      <th>current_filters</th>\n",
       "      <th>impressions</th>\n",
       "      <th>prices</th>\n",
       "    </tr>\n",
       "  </thead>\n",
       "  <tbody>\n",
       "    <tr>\n",
       "      <th>3197870</th>\n",
       "      <td>086K0G3R63E6</td>\n",
       "      <td>cd511030a1b05</td>\n",
       "      <td>1541279976</td>\n",
       "      <td>1</td>\n",
       "      <td>interaction item image</td>\n",
       "      <td>998473</td>\n",
       "      <td>BR</td>\n",
       "      <td>Barreirinhas, Brazil</td>\n",
       "      <td>desktop</td>\n",
       "      <td>NaN</td>\n",
       "      <td>NaN</td>\n",
       "      <td>NaN</td>\n",
       "    </tr>\n",
       "    <tr>\n",
       "      <th>3197871</th>\n",
       "      <td>086K0G3R63E6</td>\n",
       "      <td>cd511030a1b05</td>\n",
       "      <td>1541279976</td>\n",
       "      <td>2</td>\n",
       "      <td>interaction item image</td>\n",
       "      <td>998473</td>\n",
       "      <td>BR</td>\n",
       "      <td>Barreirinhas, Brazil</td>\n",
       "      <td>desktop</td>\n",
       "      <td>NaN</td>\n",
       "      <td>NaN</td>\n",
       "      <td>NaN</td>\n",
       "    </tr>\n",
       "    <tr>\n",
       "      <th>3197872</th>\n",
       "      <td>086K0G3R63E6</td>\n",
       "      <td>cd511030a1b05</td>\n",
       "      <td>1541279986</td>\n",
       "      <td>3</td>\n",
       "      <td>interaction item image</td>\n",
       "      <td>998473</td>\n",
       "      <td>BR</td>\n",
       "      <td>Barreirinhas, Brazil</td>\n",
       "      <td>desktop</td>\n",
       "      <td>NaN</td>\n",
       "      <td>NaN</td>\n",
       "      <td>NaN</td>\n",
       "    </tr>\n",
       "    <tr>\n",
       "      <th>3197873</th>\n",
       "      <td>086K0G3R63E6</td>\n",
       "      <td>cd511030a1b05</td>\n",
       "      <td>1541279986</td>\n",
       "      <td>4</td>\n",
       "      <td>interaction item image</td>\n",
       "      <td>998473</td>\n",
       "      <td>BR</td>\n",
       "      <td>Barreirinhas, Brazil</td>\n",
       "      <td>desktop</td>\n",
       "      <td>NaN</td>\n",
       "      <td>NaN</td>\n",
       "      <td>NaN</td>\n",
       "    </tr>\n",
       "    <tr>\n",
       "      <th>3197874</th>\n",
       "      <td>086K0G3R63E6</td>\n",
       "      <td>cd511030a1b05</td>\n",
       "      <td>1541279986</td>\n",
       "      <td>5</td>\n",
       "      <td>interaction item image</td>\n",
       "      <td>998473</td>\n",
       "      <td>BR</td>\n",
       "      <td>Barreirinhas, Brazil</td>\n",
       "      <td>desktop</td>\n",
       "      <td>NaN</td>\n",
       "      <td>NaN</td>\n",
       "      <td>NaN</td>\n",
       "    </tr>\n",
       "    <tr>\n",
       "      <th>...</th>\n",
       "      <td>...</td>\n",
       "      <td>...</td>\n",
       "      <td>...</td>\n",
       "      <td>...</td>\n",
       "      <td>...</td>\n",
       "      <td>...</td>\n",
       "      <td>...</td>\n",
       "      <td>...</td>\n",
       "      <td>...</td>\n",
       "      <td>...</td>\n",
       "      <td>...</td>\n",
       "      <td>...</td>\n",
       "    </tr>\n",
       "    <tr>\n",
       "      <th>11236739</th>\n",
       "      <td>086K0G3R63E6</td>\n",
       "      <td>cd8fa64f0df37</td>\n",
       "      <td>1541462392</td>\n",
       "      <td>271</td>\n",
       "      <td>interaction item image</td>\n",
       "      <td>2813719</td>\n",
       "      <td>BR</td>\n",
       "      <td>Porto Seguro, Brazil</td>\n",
       "      <td>desktop</td>\n",
       "      <td>NaN</td>\n",
       "      <td>NaN</td>\n",
       "      <td>NaN</td>\n",
       "    </tr>\n",
       "    <tr>\n",
       "      <th>11236740</th>\n",
       "      <td>086K0G3R63E6</td>\n",
       "      <td>cd8fa64f0df37</td>\n",
       "      <td>1541462392</td>\n",
       "      <td>272</td>\n",
       "      <td>interaction item image</td>\n",
       "      <td>2813719</td>\n",
       "      <td>BR</td>\n",
       "      <td>Porto Seguro, Brazil</td>\n",
       "      <td>desktop</td>\n",
       "      <td>NaN</td>\n",
       "      <td>NaN</td>\n",
       "      <td>NaN</td>\n",
       "    </tr>\n",
       "    <tr>\n",
       "      <th>11236741</th>\n",
       "      <td>086K0G3R63E6</td>\n",
       "      <td>cd8fa64f0df37</td>\n",
       "      <td>1541462392</td>\n",
       "      <td>273</td>\n",
       "      <td>interaction item image</td>\n",
       "      <td>2813719</td>\n",
       "      <td>BR</td>\n",
       "      <td>Porto Seguro, Brazil</td>\n",
       "      <td>desktop</td>\n",
       "      <td>NaN</td>\n",
       "      <td>NaN</td>\n",
       "      <td>NaN</td>\n",
       "    </tr>\n",
       "    <tr>\n",
       "      <th>11236742</th>\n",
       "      <td>086K0G3R63E6</td>\n",
       "      <td>cd8fa64f0df37</td>\n",
       "      <td>1541462392</td>\n",
       "      <td>274</td>\n",
       "      <td>interaction item image</td>\n",
       "      <td>2813719</td>\n",
       "      <td>BR</td>\n",
       "      <td>Porto Seguro, Brazil</td>\n",
       "      <td>desktop</td>\n",
       "      <td>NaN</td>\n",
       "      <td>NaN</td>\n",
       "      <td>NaN</td>\n",
       "    </tr>\n",
       "    <tr>\n",
       "      <th>11332282</th>\n",
       "      <td>086K0G3R63E6</td>\n",
       "      <td>2b5e1740aec75</td>\n",
       "      <td>1541507006</td>\n",
       "      <td>1</td>\n",
       "      <td>clickout item</td>\n",
       "      <td>503361</td>\n",
       "      <td>BR</td>\n",
       "      <td>Porto Seguro, Brazil</td>\n",
       "      <td>desktop</td>\n",
       "      <td>NaN</td>\n",
       "      <td>503361|326846|477936|745041|1326068|401201|151...</td>\n",
       "      <td>245|131|70|41|71|149|69|111|186|98|45|415|83|1...</td>\n",
       "    </tr>\n",
       "  </tbody>\n",
       "</table>\n",
       "<p>3070 rows × 12 columns</p>\n",
       "</div>"
      ],
      "text/plain": [
       "               user_id     session_id   timestamp  step  \\\n",
       "3197870   086K0G3R63E6  cd511030a1b05  1541279976     1   \n",
       "3197871   086K0G3R63E6  cd511030a1b05  1541279976     2   \n",
       "3197872   086K0G3R63E6  cd511030a1b05  1541279986     3   \n",
       "3197873   086K0G3R63E6  cd511030a1b05  1541279986     4   \n",
       "3197874   086K0G3R63E6  cd511030a1b05  1541279986     5   \n",
       "...                ...            ...         ...   ...   \n",
       "11236739  086K0G3R63E6  cd8fa64f0df37  1541462392   271   \n",
       "11236740  086K0G3R63E6  cd8fa64f0df37  1541462392   272   \n",
       "11236741  086K0G3R63E6  cd8fa64f0df37  1541462392   273   \n",
       "11236742  086K0G3R63E6  cd8fa64f0df37  1541462392   274   \n",
       "11332282  086K0G3R63E6  2b5e1740aec75  1541507006     1   \n",
       "\n",
       "                     action_type reference platform                  city  \\\n",
       "3197870   interaction item image    998473       BR  Barreirinhas, Brazil   \n",
       "3197871   interaction item image    998473       BR  Barreirinhas, Brazil   \n",
       "3197872   interaction item image    998473       BR  Barreirinhas, Brazil   \n",
       "3197873   interaction item image    998473       BR  Barreirinhas, Brazil   \n",
       "3197874   interaction item image    998473       BR  Barreirinhas, Brazil   \n",
       "...                          ...       ...      ...                   ...   \n",
       "11236739  interaction item image   2813719       BR  Porto Seguro, Brazil   \n",
       "11236740  interaction item image   2813719       BR  Porto Seguro, Brazil   \n",
       "11236741  interaction item image   2813719       BR  Porto Seguro, Brazil   \n",
       "11236742  interaction item image   2813719       BR  Porto Seguro, Brazil   \n",
       "11332282           clickout item    503361       BR  Porto Seguro, Brazil   \n",
       "\n",
       "           device current_filters  \\\n",
       "3197870   desktop             NaN   \n",
       "3197871   desktop             NaN   \n",
       "3197872   desktop             NaN   \n",
       "3197873   desktop             NaN   \n",
       "3197874   desktop             NaN   \n",
       "...           ...             ...   \n",
       "11236739  desktop             NaN   \n",
       "11236740  desktop             NaN   \n",
       "11236741  desktop             NaN   \n",
       "11236742  desktop             NaN   \n",
       "11332282  desktop             NaN   \n",
       "\n",
       "                                                impressions  \\\n",
       "3197870                                                 NaN   \n",
       "3197871                                                 NaN   \n",
       "3197872                                                 NaN   \n",
       "3197873                                                 NaN   \n",
       "3197874                                                 NaN   \n",
       "...                                                     ...   \n",
       "11236739                                                NaN   \n",
       "11236740                                                NaN   \n",
       "11236741                                                NaN   \n",
       "11236742                                                NaN   \n",
       "11332282  503361|326846|477936|745041|1326068|401201|151...   \n",
       "\n",
       "                                                     prices  \n",
       "3197870                                                 NaN  \n",
       "3197871                                                 NaN  \n",
       "3197872                                                 NaN  \n",
       "3197873                                                 NaN  \n",
       "3197874                                                 NaN  \n",
       "...                                                     ...  \n",
       "11236739                                                NaN  \n",
       "11236740                                                NaN  \n",
       "11236741                                                NaN  \n",
       "11236742                                                NaN  \n",
       "11332282  245|131|70|41|71|149|69|111|186|98|45|415|83|1...  \n",
       "\n",
       "[3070 rows x 12 columns]"
      ]
     },
     "execution_count": 46,
     "metadata": {},
     "output_type": "execute_result"
    }
   ],
   "source": [
    "u_id = user_id_count[user_id_count['count'] > 1000].iloc[0]['user_id'];\n",
    "u_actions = df_train[df_train['user_id'] == u_id];\n",
    "u_actions"
   ]
  },
  {
   "cell_type": "markdown",
   "metadata": {
    "tags": []
   },
   "source": [
    "#### Number of steps in users' sessions"
   ]
  },
  {
   "cell_type": "code",
   "execution_count": 47,
   "metadata": {},
   "outputs": [
    {
     "data": {
      "text/html": [
       "<div>\n",
       "<style scoped>\n",
       "    .dataframe tbody tr th:only-of-type {\n",
       "        vertical-align: middle;\n",
       "    }\n",
       "\n",
       "    .dataframe tbody tr th {\n",
       "        vertical-align: top;\n",
       "    }\n",
       "\n",
       "    .dataframe thead th {\n",
       "        text-align: right;\n",
       "    }\n",
       "</style>\n",
       "<table border=\"1\" class=\"dataframe\">\n",
       "  <thead>\n",
       "    <tr style=\"text-align: right;\">\n",
       "      <th></th>\n",
       "      <th>session_id</th>\n",
       "      <th>step</th>\n",
       "    </tr>\n",
       "  </thead>\n",
       "  <tbody>\n",
       "    <tr>\n",
       "      <th>0</th>\n",
       "      <td>2b5e1740aec75</td>\n",
       "      <td>1</td>\n",
       "    </tr>\n",
       "    <tr>\n",
       "      <th>1</th>\n",
       "      <td>789929800f908</td>\n",
       "      <td>1089</td>\n",
       "    </tr>\n",
       "    <tr>\n",
       "      <th>2</th>\n",
       "      <td>801fa2040a9e9</td>\n",
       "      <td>143</td>\n",
       "    </tr>\n",
       "    <tr>\n",
       "      <th>3</th>\n",
       "      <td>b8b9be6a62a12</td>\n",
       "      <td>292</td>\n",
       "    </tr>\n",
       "    <tr>\n",
       "      <th>4</th>\n",
       "      <td>cd511030a1b05</td>\n",
       "      <td>1150</td>\n",
       "    </tr>\n",
       "    <tr>\n",
       "      <th>5</th>\n",
       "      <td>cd8fa64f0df37</td>\n",
       "      <td>274</td>\n",
       "    </tr>\n",
       "    <tr>\n",
       "      <th>6</th>\n",
       "      <td>d87faa0e93242</td>\n",
       "      <td>121</td>\n",
       "    </tr>\n",
       "  </tbody>\n",
       "</table>\n",
       "</div>"
      ],
      "text/plain": [
       "      session_id  step\n",
       "0  2b5e1740aec75     1\n",
       "1  789929800f908  1089\n",
       "2  801fa2040a9e9   143\n",
       "3  b8b9be6a62a12   292\n",
       "4  cd511030a1b05  1150\n",
       "5  cd8fa64f0df37   274\n",
       "6  d87faa0e93242   121"
      ]
     },
     "execution_count": 47,
     "metadata": {},
     "output_type": "execute_result"
    }
   ],
   "source": [
    "u_actions_grouped = u_actions.groupby('session_id',as_index=False)\n",
    "u_actions_grouped['step'].last()"
   ]
  },
  {
   "cell_type": "markdown",
   "metadata": {},
   "source": [
    "User has a lot of actions in the dataset, but it's just a mere number of long (lot of steps) sessions. Some of the sessions seems to be really fast - doing more actions in the same second. \n",
    "We think it's a bot. We can test this hypothesis by calculating average time of that session."
   ]
  },
  {
   "cell_type": "markdown",
   "metadata": {
    "tags": []
   },
   "source": [
    "#### Time of the session and average step time"
   ]
  },
  {
   "cell_type": "code",
   "execution_count": 48,
   "metadata": {},
   "outputs": [
    {
     "data": {
      "text/html": [
       "<div>\n",
       "<style scoped>\n",
       "    .dataframe tbody tr th:only-of-type {\n",
       "        vertical-align: middle;\n",
       "    }\n",
       "\n",
       "    .dataframe tbody tr th {\n",
       "        vertical-align: top;\n",
       "    }\n",
       "\n",
       "    .dataframe thead th {\n",
       "        text-align: right;\n",
       "    }\n",
       "</style>\n",
       "<table border=\"1\" class=\"dataframe\">\n",
       "  <thead>\n",
       "    <tr style=\"text-align: right;\">\n",
       "      <th></th>\n",
       "      <th>first</th>\n",
       "      <th>last</th>\n",
       "    </tr>\n",
       "    <tr>\n",
       "      <th>session_id</th>\n",
       "      <th></th>\n",
       "      <th></th>\n",
       "    </tr>\n",
       "  </thead>\n",
       "  <tbody>\n",
       "    <tr>\n",
       "      <th>2b5e1740aec75</th>\n",
       "      <td>1541507006</td>\n",
       "      <td>1541507006</td>\n",
       "    </tr>\n",
       "    <tr>\n",
       "      <th>789929800f908</th>\n",
       "      <td>1541517868</td>\n",
       "      <td>1541526845</td>\n",
       "    </tr>\n",
       "    <tr>\n",
       "      <th>801fa2040a9e9</th>\n",
       "      <td>1541540180</td>\n",
       "      <td>1541540479</td>\n",
       "    </tr>\n",
       "    <tr>\n",
       "      <th>b8b9be6a62a12</th>\n",
       "      <td>1541450680</td>\n",
       "      <td>1541456101</td>\n",
       "    </tr>\n",
       "    <tr>\n",
       "      <th>cd511030a1b05</th>\n",
       "      <td>1541279976</td>\n",
       "      <td>1541289593</td>\n",
       "    </tr>\n",
       "    <tr>\n",
       "      <th>cd8fa64f0df37</th>\n",
       "      <td>1541461377</td>\n",
       "      <td>1541462392</td>\n",
       "    </tr>\n",
       "    <tr>\n",
       "      <th>d87faa0e93242</th>\n",
       "      <td>1541033927</td>\n",
       "      <td>1541034103</td>\n",
       "    </tr>\n",
       "  </tbody>\n",
       "</table>\n",
       "</div>"
      ],
      "text/plain": [
       "                    first        last\n",
       "session_id                           \n",
       "2b5e1740aec75  1541507006  1541507006\n",
       "789929800f908  1541517868  1541526845\n",
       "801fa2040a9e9  1541540180  1541540479\n",
       "b8b9be6a62a12  1541450680  1541456101\n",
       "cd511030a1b05  1541279976  1541289593\n",
       "cd8fa64f0df37  1541461377  1541462392\n",
       "d87faa0e93242  1541033927  1541034103"
      ]
     },
     "execution_count": 48,
     "metadata": {},
     "output_type": "execute_result"
    }
   ],
   "source": [
    "u_actions_grouped['timestamp']\\\n",
    ".agg(['first','last'])"
   ]
  },
  {
   "cell_type": "code",
   "execution_count": 49,
   "metadata": {},
   "outputs": [
    {
     "data": {
      "text/html": [
       "<div>\n",
       "<style scoped>\n",
       "    .dataframe tbody tr th:only-of-type {\n",
       "        vertical-align: middle;\n",
       "    }\n",
       "\n",
       "    .dataframe tbody tr th {\n",
       "        vertical-align: top;\n",
       "    }\n",
       "\n",
       "    .dataframe thead th {\n",
       "        text-align: right;\n",
       "    }\n",
       "</style>\n",
       "<table border=\"1\" class=\"dataframe\">\n",
       "  <thead>\n",
       "    <tr style=\"text-align: right;\">\n",
       "      <th></th>\n",
       "      <th>session_id</th>\n",
       "      <th>steps</th>\n",
       "      <th>first_timestamp</th>\n",
       "      <th>last_timestamp</th>\n",
       "      <th>session_length</th>\n",
       "      <th>session_length_minutes</th>\n",
       "      <th>avg_step_duration_seconds</th>\n",
       "    </tr>\n",
       "  </thead>\n",
       "  <tbody>\n",
       "    <tr>\n",
       "      <th>0</th>\n",
       "      <td>2b5e1740aec75</td>\n",
       "      <td>1</td>\n",
       "      <td>1541507006</td>\n",
       "      <td>1541507006</td>\n",
       "      <td>0</td>\n",
       "      <td>0.00</td>\n",
       "      <td>0.000000</td>\n",
       "    </tr>\n",
       "    <tr>\n",
       "      <th>1</th>\n",
       "      <td>789929800f908</td>\n",
       "      <td>1089</td>\n",
       "      <td>1541517868</td>\n",
       "      <td>1541526845</td>\n",
       "      <td>8977</td>\n",
       "      <td>149.62</td>\n",
       "      <td>8.243343</td>\n",
       "    </tr>\n",
       "    <tr>\n",
       "      <th>2</th>\n",
       "      <td>801fa2040a9e9</td>\n",
       "      <td>143</td>\n",
       "      <td>1541540180</td>\n",
       "      <td>1541540479</td>\n",
       "      <td>299</td>\n",
       "      <td>4.98</td>\n",
       "      <td>2.090909</td>\n",
       "    </tr>\n",
       "    <tr>\n",
       "      <th>3</th>\n",
       "      <td>b8b9be6a62a12</td>\n",
       "      <td>292</td>\n",
       "      <td>1541450680</td>\n",
       "      <td>1541456101</td>\n",
       "      <td>5421</td>\n",
       "      <td>90.35</td>\n",
       "      <td>18.565068</td>\n",
       "    </tr>\n",
       "    <tr>\n",
       "      <th>4</th>\n",
       "      <td>cd511030a1b05</td>\n",
       "      <td>1150</td>\n",
       "      <td>1541279976</td>\n",
       "      <td>1541289593</td>\n",
       "      <td>9617</td>\n",
       "      <td>160.28</td>\n",
       "      <td>8.362609</td>\n",
       "    </tr>\n",
       "    <tr>\n",
       "      <th>5</th>\n",
       "      <td>cd8fa64f0df37</td>\n",
       "      <td>274</td>\n",
       "      <td>1541461377</td>\n",
       "      <td>1541462392</td>\n",
       "      <td>1015</td>\n",
       "      <td>16.92</td>\n",
       "      <td>3.704380</td>\n",
       "    </tr>\n",
       "    <tr>\n",
       "      <th>6</th>\n",
       "      <td>d87faa0e93242</td>\n",
       "      <td>121</td>\n",
       "      <td>1541033927</td>\n",
       "      <td>1541034103</td>\n",
       "      <td>176</td>\n",
       "      <td>2.93</td>\n",
       "      <td>1.454545</td>\n",
       "    </tr>\n",
       "  </tbody>\n",
       "</table>\n",
       "</div>"
      ],
      "text/plain": [
       "      session_id  steps  first_timestamp  last_timestamp  session_length  \\\n",
       "0  2b5e1740aec75      1       1541507006      1541507006               0   \n",
       "1  789929800f908   1089       1541517868      1541526845            8977   \n",
       "2  801fa2040a9e9    143       1541540180      1541540479             299   \n",
       "3  b8b9be6a62a12    292       1541450680      1541456101            5421   \n",
       "4  cd511030a1b05   1150       1541279976      1541289593            9617   \n",
       "5  cd8fa64f0df37    274       1541461377      1541462392            1015   \n",
       "6  d87faa0e93242    121       1541033927      1541034103             176   \n",
       "\n",
       "   session_length_minutes  avg_step_duration_seconds  \n",
       "0                    0.00                   0.000000  \n",
       "1                  149.62                   8.243343  \n",
       "2                    4.98                   2.090909  \n",
       "3                   90.35                  18.565068  \n",
       "4                  160.28                   8.362609  \n",
       "5                   16.92                   3.704380  \n",
       "6                    2.93                   1.454545  "
      ]
     },
     "execution_count": 49,
     "metadata": {},
     "output_type": "execute_result"
    }
   ],
   "source": [
    "u_actions_per_session = u_actions_grouped \\\n",
    ".agg(\n",
    "    steps=('step','count'),\n",
    "    first_timestamp=('timestamp','first'),\n",
    "    last_timestamp=('timestamp','last'),\n",
    "    session_length=('timestamp', lambda x: (x.max()-x.min())),\n",
    ")\n",
    "\n",
    "def avg_step_duration(row):\n",
    "    return row['session_length'] / row['steps']\n",
    "\n",
    "def seconds_to_minutes(seconds):\n",
    "    return round(seconds/60,2)\n",
    "\n",
    "# transform session length into minutes\n",
    "u_actions_per_session['session_length_minutes'] = u_actions_per_session['session_length'].apply(seconds_to_minutes);\n",
    "\n",
    "# calculate avergate duration of step\n",
    "u_actions_per_session['avg_step_duration_seconds'] = u_actions_per_session.apply(avg_step_duration,axis=1);\n",
    "\n",
    "u_actions_per_session"
   ]
  },
  {
   "cell_type": "markdown",
   "metadata": {
    "tags": []
   },
   "source": [
    "#### Parallel actions"
   ]
  },
  {
   "cell_type": "markdown",
   "metadata": {},
   "source": [
    "Users sessions are long but average time is under second, which may support our hypothesis about that user_id being a bot.\n",
    "Let's look at the actions with the same timestamp"
   ]
  },
  {
   "cell_type": "code",
   "execution_count": 50,
   "metadata": {},
   "outputs": [
    {
     "data": {
      "text/html": [
       "<div>\n",
       "<style scoped>\n",
       "    .dataframe tbody tr th:only-of-type {\n",
       "        vertical-align: middle;\n",
       "    }\n",
       "\n",
       "    .dataframe tbody tr th {\n",
       "        vertical-align: top;\n",
       "    }\n",
       "\n",
       "    .dataframe thead th {\n",
       "        text-align: right;\n",
       "    }\n",
       "</style>\n",
       "<table border=\"1\" class=\"dataframe\">\n",
       "  <thead>\n",
       "    <tr style=\"text-align: right;\">\n",
       "      <th></th>\n",
       "      <th>user_id</th>\n",
       "      <th>session_id</th>\n",
       "      <th>timestamp</th>\n",
       "      <th>action_type</th>\n",
       "      <th>count</th>\n",
       "    </tr>\n",
       "  </thead>\n",
       "  <tbody>\n",
       "    <tr>\n",
       "      <th>6</th>\n",
       "      <td>086K0G3R63E6</td>\n",
       "      <td>789929800f908</td>\n",
       "      <td>1541518711</td>\n",
       "      <td>change of sort order</td>\n",
       "      <td>2</td>\n",
       "    </tr>\n",
       "    <tr>\n",
       "      <th>7</th>\n",
       "      <td>086K0G3R63E6</td>\n",
       "      <td>789929800f908</td>\n",
       "      <td>1541518768</td>\n",
       "      <td>interaction item image</td>\n",
       "      <td>2</td>\n",
       "    </tr>\n",
       "    <tr>\n",
       "      <th>13</th>\n",
       "      <td>086K0G3R63E6</td>\n",
       "      <td>789929800f908</td>\n",
       "      <td>1541519432</td>\n",
       "      <td>interaction item image</td>\n",
       "      <td>2</td>\n",
       "    </tr>\n",
       "    <tr>\n",
       "      <th>14</th>\n",
       "      <td>086K0G3R63E6</td>\n",
       "      <td>789929800f908</td>\n",
       "      <td>1541519442</td>\n",
       "      <td>interaction item image</td>\n",
       "      <td>4</td>\n",
       "    </tr>\n",
       "    <tr>\n",
       "      <th>16</th>\n",
       "      <td>086K0G3R63E6</td>\n",
       "      <td>789929800f908</td>\n",
       "      <td>1541519452</td>\n",
       "      <td>interaction item image</td>\n",
       "      <td>7</td>\n",
       "    </tr>\n",
       "    <tr>\n",
       "      <th>...</th>\n",
       "      <td>...</td>\n",
       "      <td>...</td>\n",
       "      <td>...</td>\n",
       "      <td>...</td>\n",
       "      <td>...</td>\n",
       "    </tr>\n",
       "    <tr>\n",
       "      <th>637</th>\n",
       "      <td>086K0G3R63E6</td>\n",
       "      <td>d87faa0e93242</td>\n",
       "      <td>1541034053</td>\n",
       "      <td>interaction item image</td>\n",
       "      <td>2</td>\n",
       "    </tr>\n",
       "    <tr>\n",
       "      <th>638</th>\n",
       "      <td>086K0G3R63E6</td>\n",
       "      <td>d87faa0e93242</td>\n",
       "      <td>1541034063</td>\n",
       "      <td>interaction item image</td>\n",
       "      <td>4</td>\n",
       "    </tr>\n",
       "    <tr>\n",
       "      <th>640</th>\n",
       "      <td>086K0G3R63E6</td>\n",
       "      <td>d87faa0e93242</td>\n",
       "      <td>1541034083</td>\n",
       "      <td>interaction item image</td>\n",
       "      <td>6</td>\n",
       "    </tr>\n",
       "    <tr>\n",
       "      <th>641</th>\n",
       "      <td>086K0G3R63E6</td>\n",
       "      <td>d87faa0e93242</td>\n",
       "      <td>1541034093</td>\n",
       "      <td>interaction item image</td>\n",
       "      <td>12</td>\n",
       "    </tr>\n",
       "    <tr>\n",
       "      <th>642</th>\n",
       "      <td>086K0G3R63E6</td>\n",
       "      <td>d87faa0e93242</td>\n",
       "      <td>1541034103</td>\n",
       "      <td>interaction item image</td>\n",
       "      <td>9</td>\n",
       "    </tr>\n",
       "  </tbody>\n",
       "</table>\n",
       "<p>452 rows × 5 columns</p>\n",
       "</div>"
      ],
      "text/plain": [
       "          user_id     session_id   timestamp             action_type  count\n",
       "6    086K0G3R63E6  789929800f908  1541518711    change of sort order      2\n",
       "7    086K0G3R63E6  789929800f908  1541518768  interaction item image      2\n",
       "13   086K0G3R63E6  789929800f908  1541519432  interaction item image      2\n",
       "14   086K0G3R63E6  789929800f908  1541519442  interaction item image      4\n",
       "16   086K0G3R63E6  789929800f908  1541519452  interaction item image      7\n",
       "..            ...            ...         ...                     ...    ...\n",
       "637  086K0G3R63E6  d87faa0e93242  1541034053  interaction item image      2\n",
       "638  086K0G3R63E6  d87faa0e93242  1541034063  interaction item image      4\n",
       "640  086K0G3R63E6  d87faa0e93242  1541034083  interaction item image      6\n",
       "641  086K0G3R63E6  d87faa0e93242  1541034093  interaction item image     12\n",
       "642  086K0G3R63E6  d87faa0e93242  1541034103  interaction item image      9\n",
       "\n",
       "[452 rows x 5 columns]"
      ]
     },
     "execution_count": 50,
     "metadata": {},
     "output_type": "execute_result"
    }
   ],
   "source": [
    "parallel_actions = u_actions.groupby(['user_id', 'session_id', 'timestamp'])\\\n",
    ".agg(action_type=('action_type', 'first'),count=('timestamp', 'count'))\\\n",
    ".reset_index()\n",
    "\n",
    "parallel_actions[parallel_actions['count'] > 1]"
   ]
  },
  {
   "cell_type": "code",
   "execution_count": 51,
   "metadata": {},
   "outputs": [
    {
     "data": {
      "text/plain": [
       "array(['change of sort order', 'interaction item image',\n",
       "       'interaction item info', 'interaction item rating'], dtype=object)"
      ]
     },
     "execution_count": 51,
     "metadata": {},
     "output_type": "execute_result"
    }
   ],
   "source": [
    "parallel_actions[parallel_actions['count'] > 1]['action_type'].unique()"
   ]
  },
  {
   "cell_type": "markdown",
   "metadata": {},
   "source": [
    "We don't certainly know what `interaction with image` and other action types mean, but we might assume that these actions cannot be done parallelly. We assume this user_id may represent not a human being."
   ]
  }
 ],
 "metadata": {
  "kernelspec": {
   "display_name": "Python 3 (ipykernel)",
   "language": "python",
   "name": "python3"
  },
  "language_info": {
   "codemirror_mode": {
    "name": "ipython",
    "version": 3
   },
   "file_extension": ".py",
   "mimetype": "text/x-python",
   "name": "python",
   "nbconvert_exporter": "python",
   "pygments_lexer": "ipython3",
   "version": "3.10.10"
  }
 },
 "nbformat": 4,
 "nbformat_minor": 4
}
