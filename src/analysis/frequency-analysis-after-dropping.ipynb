{
 "cells": [
  {
   "cell_type": "markdown",
   "metadata": {},
   "source": [
    "## Frekvenčná analýza"
   ]
  },
  {
   "cell_type": "code",
   "execution_count": 1,
   "metadata": {},
   "outputs": [],
   "source": [
    "# dependencies\n",
    "import pandas as pd\n",
    "import os.path as path\n",
    "import seaborn as sns\n",
    "import numpy as np\n",
    "from collections import Counter\n",
    "from sklearn.utils import shuffle\n",
    "import pickle\n",
    "from sortedcontainers import SortedList\n",
    "import time\n",
    "import matplotlib.pyplot as plt"
   ]
  },
  {
   "cell_type": "code",
   "execution_count": 2,
   "metadata": {},
   "outputs": [],
   "source": [
    "# local modules\n",
    "import sys\n",
    "sys.path.append(\"..\")\n",
    "from _ import constants"
   ]
  },
  {
   "cell_type": "code",
   "execution_count": 3,
   "metadata": {},
   "outputs": [],
   "source": [
    "# load data\n",
    "df_train = pd.read_parquet(constants.TRAIN_DROPPED)"
   ]
  },
  {
   "cell_type": "code",
   "execution_count": 4,
   "metadata": {},
   "outputs": [
    {
     "data": {
      "text/plain": [
       "9379460"
      ]
     },
     "execution_count": 4,
     "metadata": {},
     "output_type": "execute_result"
    }
   ],
   "source": [
    "len(df_train)"
   ]
  },
  {
   "cell_type": "markdown",
   "metadata": {},
   "source": [
    "## Analýza atribútov"
   ]
  },
  {
   "cell_type": "code",
   "execution_count": 5,
   "metadata": {},
   "outputs": [
    {
     "data": {
      "text/plain": [
       "Index(['user_id', 'session_id', 'timestamp', 'step', 'action_type',\n",
       "       'reference', 'platform', 'city', 'device', 'current_filters',\n",
       "       'impressions', 'prices'],\n",
       "      dtype='object')"
      ]
     },
     "execution_count": 5,
     "metadata": {},
     "output_type": "execute_result"
    }
   ],
   "source": [
    "df_train.columns.unique()"
   ]
  },
  {
   "cell_type": "markdown",
   "metadata": {},
   "source": [
    "Vypísaním stĺpcov atribútu sme identifikovali nasledovné stĺpce v datasete.\n",
    "\n",
    "*   `user_id`: id používateľa\n",
    "*   `session_id`: id relácie\n",
    "*   `timestamp`: UNIX timestamp akcie\n",
    "*   `step`: poradové číslo kroku v rámci session\n",
    "*   `action_type`: typ akcie\n",
    "    *   **clickout item**: používateľ sa preklikne a je presmerovaný na webstránku partnera. Referencia je v tomto prílade item_id. Ostatné položky, ktoré boli v tomto momente zobrazené a ich ceny sú v atribúte \"impressions\" a \"prices\"\n",
    "    *   **interaction item rating**: používateľ interaguje s ratingom alebo reviewuje položku. Referencia je dané item_id.\n",
    "    *   **interaction item info**: používateľ interaguje s informáciami o položke. Referencia je dané item_id.\n",
    "    *   **interaction item image**: používateľ interaguje s obrázkom položky. Referencia je dané item_id.\n",
    "    *   **interaction item deals**: používateľ klikne na \"view more deals\" tlačítko. Referencia je dané item_id.\n",
    "    *   **change of sort order**: používateľ zmení poradie položiek. Referencia je popis atribútu zoradenia.\n",
    "    *   **filter selection**: Používateľ použije filter. Referencia je popis filtra.\n",
    "    *   **search for item**: používateľ vyhľadáva konkrétnu položku. Referencia je dané item_id.\n",
    "    *   **search for destination**: používateľ hľadá destináciu. Referencia je desstinácia.\n",
    "    *   **search for poi**: používateľ hľadá pre POI - point of interest. Referencia je názov POI.\n",
    "*   `reference`: referencia, cieľ danej akcie\n",
    "*   `platform`: krajina platformy, napr. [trivago.de](http://trivago.de) (DE) alebo [trivago.com](http://trivago.com) (US)\n",
    "*   `city`: názov mesta kontextu vyhľadávania\n",
    "*   `device`: zariadenie používateľa použité na vyhľadávanie\n",
    "*   `current_filters`: zoznam filtrov ktoré boli aktívne\n",
    "*   `impressions`: zoznam položiek, ktoré boli zobrazené používateľovi (prítomné iba pri action_type == clickout_item\n",
    "*   `prices`: zoznam cien položiek, uvedené v atribúte \"impressions\" (prítomné iba pri action_type == clickout_item"
   ]
  },
  {
   "cell_type": "markdown",
   "metadata": {},
   "source": [
    "### Atribút user_id"
   ]
  },
  {
   "cell_type": "markdown",
   "metadata": {},
   "source": [
    "Ide o kategorický atribút vyjadrujúci unikátny identifikátor používateľa v databáze."
   ]
  },
  {
   "cell_type": "code",
   "execution_count": 6,
   "metadata": {},
   "outputs": [
    {
     "data": {
      "text/plain": [
       "9379460"
      ]
     },
     "execution_count": 6,
     "metadata": {},
     "output_type": "execute_result"
    }
   ],
   "source": [
    "len(df_train.user_id)"
   ]
  },
  {
   "cell_type": "code",
   "execution_count": 7,
   "metadata": {},
   "outputs": [
    {
     "data": {
      "text/plain": [
       "563725"
      ]
     },
     "execution_count": 7,
     "metadata": {},
     "output_type": "execute_result"
    }
   ],
   "source": [
    "len(df_train.user_id.unique())"
   ]
  },
  {
   "cell_type": "markdown",
   "metadata": {},
   "source": [
    "#### Počet záznamov user_id v datasete (počet akcií vykonaných daným používateľom)"
   ]
  },
  {
   "cell_type": "markdown",
   "metadata": {},
   "source": [
    "Pozrieme sa na outlierov, chceme vidieť či tu nemáme nejakých používateľov príliš veľa alebo málo krát."
   ]
  },
  {
   "cell_type": "code",
   "execution_count": 8,
   "metadata": {},
   "outputs": [
    {
     "data": {
      "text/plain": [
       "[Text(0.5, 1.0, 'Number of user occurences in dataset (actions)')]"
      ]
     },
     "execution_count": 8,
     "metadata": {},
     "output_type": "execute_result"
    },
    {
     "data": {
      "image/png": "[encoded data removed]",
      "text/plain": [
       "<Figure size 432x288 with 1 Axes>"
      ]
     },
     "metadata": {
      "needs_background": "light"
     },
     "output_type": "display_data"
    }
   ],
   "source": [
    "user_id_count = df_train.user_id.value_counts().reset_index(name=\"count\").rename(columns={'index': 'user_id'})\n",
    "sns.boxplot(data=user_id_count).set(title='Number of user occurences in dataset (actions)')"
   ]
  },
  {
   "cell_type": "code",
   "execution_count": 9,
   "metadata": {},
   "outputs": [
    {
     "data": {
      "text/html": [
       "<div>\n",
       "<style scoped>\n",
       "    .dataframe tbody tr th:only-of-type {\n",
       "        vertical-align: middle;\n",
       "    }\n",
       "\n",
       "    .dataframe tbody tr th {\n",
       "        vertical-align: top;\n",
       "    }\n",
       "\n",
       "    .dataframe thead th {\n",
       "        text-align: right;\n",
       "    }\n",
       "</style>\n",
       "<table border=\"1\" class=\"dataframe\">\n",
       "  <thead>\n",
       "    <tr style=\"text-align: right;\">\n",
       "      <th></th>\n",
       "      <th>count</th>\n",
       "    </tr>\n",
       "  </thead>\n",
       "  <tbody>\n",
       "    <tr>\n",
       "      <th>count</th>\n",
       "      <td>563725.000000</td>\n",
       "    </tr>\n",
       "    <tr>\n",
       "      <th>mean</th>\n",
       "      <td>16.638361</td>\n",
       "    </tr>\n",
       "    <tr>\n",
       "      <th>std</th>\n",
       "      <td>23.612366</td>\n",
       "    </tr>\n",
       "    <tr>\n",
       "      <th>min</th>\n",
       "      <td>1.000000</td>\n",
       "    </tr>\n",
       "    <tr>\n",
       "      <th>25%</th>\n",
       "      <td>3.000000</td>\n",
       "    </tr>\n",
       "    <tr>\n",
       "      <th>50%</th>\n",
       "      <td>7.000000</td>\n",
       "    </tr>\n",
       "    <tr>\n",
       "      <th>75%</th>\n",
       "      <td>20.000000</td>\n",
       "    </tr>\n",
       "    <tr>\n",
       "      <th>max</th>\n",
       "      <td>632.000000</td>\n",
       "    </tr>\n",
       "  </tbody>\n",
       "</table>\n",
       "</div>"
      ],
      "text/plain": [
       "               count\n",
       "count  563725.000000\n",
       "mean       16.638361\n",
       "std        23.612366\n",
       "min         1.000000\n",
       "25%         3.000000\n",
       "50%         7.000000\n",
       "75%        20.000000\n",
       "max       632.000000"
      ]
     },
     "execution_count": 9,
     "metadata": {},
     "output_type": "execute_result"
    }
   ],
   "source": [
    "user_id_count.describe()"
   ]
  },
  {
   "cell_type": "code",
   "execution_count": 10,
   "metadata": {},
   "outputs": [
    {
     "name": "stderr",
     "output_type": "stream",
     "text": [
      "/var/folders/r8/3c5wqhdd503c57q35gcyk3b80000gn/T/ipykernel_84569/2490869866.py:22: UserWarning: You have mixed positional and keyword arguments, some input may be discarded.\n",
      "  plt.legend(patches, labels=user_id_groups['type'])\n"
     ]
    },
    {
     "data": {
      "image/png": "[encoded data removed]",
      "text/plain": [
       "<Figure size 720x432 with 1 Axes>"
      ]
     },
     "metadata": {},
     "output_type": "display_data"
    }
   ],
   "source": [
    "user_id_groups = pd.DataFrame({\n",
    "    'type': [\n",
    "        'N>1000',\n",
    "        '1000>N>100',\n",
    "        '100>N>10',\n",
    "        '10>N>1',\n",
    "        'N=1'\n",
    "    ],\n",
    "    'count': [\n",
    "        user_id_count[user_id_count['count'] > 1000].count()[0],\n",
    "        user_id_count[(user_id_count['count'] > 100) & (user_id_count['count'] < 1000)].count()[0],\n",
    "        user_id_count[(user_id_count['count'] > 10) & (user_id_count['count'] < 100)].count()[0],\n",
    "        user_id_count[(user_id_count['count'] > 1) & (user_id_count['count'] < 10)].count()[0],\n",
    "        user_id_count[user_id_count['count'] == 1].count()[0]\n",
    "    ]\n",
    "});\n",
    "\n",
    "\n",
    "pi,ax = plt.subplots(figsize=[10,6]);\n",
    "plt.title(\"N - počet akcií unikátneho používateľa\")\n",
    "patches = plt.pie(x=user_id_groups['count'], explode=[0.1]*5, autopct=\"%.2f%%\");\n",
    "plt.legend(patches, labels=user_id_groups['type'])\n",
    "plt.tight_layout();\n",
    "plt.show();\n"
   ]
  },
  {
   "cell_type": "markdown",
   "metadata": {},
   "source": [
    "Vidíme, že hodnoty sú distribuované dosť nízko, v jednotkách. Máme tu však aj outlierov, ktorí nám štatistiky ohýňajú. Väčšina používateľov však má len do 10 záznamov."
   ]
  },
  {
   "cell_type": "markdown",
   "metadata": {},
   "source": [
    "### Atribút session"
   ]
  },
  {
   "cell_type": "markdown",
   "metadata": {},
   "source": [
    "Opäť ide o kategorický atribút. Vyjadruje unikátny identifikátor session."
   ]
  },
  {
   "cell_type": "code",
   "execution_count": 11,
   "metadata": {},
   "outputs": [
    {
     "data": {
      "text/plain": [
       "681715"
      ]
     },
     "execution_count": 11,
     "metadata": {},
     "output_type": "execute_result"
    }
   ],
   "source": [
    "len(df_train.session_id.unique())"
   ]
  },
  {
   "cell_type": "markdown",
   "metadata": {},
   "source": [
    "Zaujímavou štatistikou je napríklad, koľko má ktorý používateľ sessions, a určiť outlierov."
   ]
  },
  {
   "cell_type": "code",
   "execution_count": 12,
   "metadata": {},
   "outputs": [
    {
     "data": {
      "text/html": [
       "<div>\n",
       "<style scoped>\n",
       "    .dataframe tbody tr th:only-of-type {\n",
       "        vertical-align: middle;\n",
       "    }\n",
       "\n",
       "    .dataframe tbody tr th {\n",
       "        vertical-align: top;\n",
       "    }\n",
       "\n",
       "    .dataframe thead th {\n",
       "        text-align: right;\n",
       "    }\n",
       "</style>\n",
       "<table border=\"1\" class=\"dataframe\">\n",
       "  <thead>\n",
       "    <tr style=\"text-align: right;\">\n",
       "      <th></th>\n",
       "      <th>user_id</th>\n",
       "      <th>count</th>\n",
       "    </tr>\n",
       "  </thead>\n",
       "  <tbody>\n",
       "    <tr>\n",
       "      <th>0</th>\n",
       "      <td>0001VQMGUI65</td>\n",
       "      <td>1</td>\n",
       "    </tr>\n",
       "    <tr>\n",
       "      <th>1</th>\n",
       "      <td>0003QTCX5MJX</td>\n",
       "      <td>1</td>\n",
       "    </tr>\n",
       "    <tr>\n",
       "      <th>2</th>\n",
       "      <td>0004IOZI7CKF</td>\n",
       "      <td>1</td>\n",
       "    </tr>\n",
       "    <tr>\n",
       "      <th>3</th>\n",
       "      <td>0004WCFRV3FB</td>\n",
       "      <td>1</td>\n",
       "    </tr>\n",
       "    <tr>\n",
       "      <th>4</th>\n",
       "      <td>0008BO33KUQ0</td>\n",
       "      <td>3</td>\n",
       "    </tr>\n",
       "    <tr>\n",
       "      <th>...</th>\n",
       "      <td>...</td>\n",
       "      <td>...</td>\n",
       "    </tr>\n",
       "    <tr>\n",
       "      <th>563720</th>\n",
       "      <td>ZZZMUHLO5WBG</td>\n",
       "      <td>1</td>\n",
       "    </tr>\n",
       "    <tr>\n",
       "      <th>563721</th>\n",
       "      <td>ZZZOZKON2HVJ</td>\n",
       "      <td>1</td>\n",
       "    </tr>\n",
       "    <tr>\n",
       "      <th>563722</th>\n",
       "      <td>ZZZPQ336U50Y</td>\n",
       "      <td>1</td>\n",
       "    </tr>\n",
       "    <tr>\n",
       "      <th>563723</th>\n",
       "      <td>ZZZRFN2DZ2BV</td>\n",
       "      <td>1</td>\n",
       "    </tr>\n",
       "    <tr>\n",
       "      <th>563724</th>\n",
       "      <td>ZZZSKOPW9P49</td>\n",
       "      <td>1</td>\n",
       "    </tr>\n",
       "  </tbody>\n",
       "</table>\n",
       "<p>563725 rows × 2 columns</p>\n",
       "</div>"
      ],
      "text/plain": [
       "             user_id  count\n",
       "0       0001VQMGUI65      1\n",
       "1       0003QTCX5MJX      1\n",
       "2       0004IOZI7CKF      1\n",
       "3       0004WCFRV3FB      1\n",
       "4       0008BO33KUQ0      3\n",
       "...              ...    ...\n",
       "563720  ZZZMUHLO5WBG      1\n",
       "563721  ZZZOZKON2HVJ      1\n",
       "563722  ZZZPQ336U50Y      1\n",
       "563723  ZZZRFN2DZ2BV      1\n",
       "563724  ZZZSKOPW9P49      1\n",
       "\n",
       "[563725 rows x 2 columns]"
      ]
     },
     "execution_count": 12,
     "metadata": {},
     "output_type": "execute_result"
    }
   ],
   "source": [
    "u_session_count = df_train.groupby(['user_id'])['session_id'].nunique().reset_index(name='count')\n",
    "u_session_count"
   ]
  },
  {
   "cell_type": "code",
   "execution_count": 13,
   "metadata": {},
   "outputs": [
    {
     "data": {
      "text/html": [
       "<div>\n",
       "<style scoped>\n",
       "    .dataframe tbody tr th:only-of-type {\n",
       "        vertical-align: middle;\n",
       "    }\n",
       "\n",
       "    .dataframe tbody tr th {\n",
       "        vertical-align: top;\n",
       "    }\n",
       "\n",
       "    .dataframe thead th {\n",
       "        text-align: right;\n",
       "    }\n",
       "</style>\n",
       "<table border=\"1\" class=\"dataframe\">\n",
       "  <thead>\n",
       "    <tr style=\"text-align: right;\">\n",
       "      <th></th>\n",
       "      <th>count</th>\n",
       "    </tr>\n",
       "  </thead>\n",
       "  <tbody>\n",
       "    <tr>\n",
       "      <th>count</th>\n",
       "      <td>563725.000000</td>\n",
       "    </tr>\n",
       "    <tr>\n",
       "      <th>mean</th>\n",
       "      <td>1.209304</td>\n",
       "    </tr>\n",
       "    <tr>\n",
       "      <th>std</th>\n",
       "      <td>0.637925</td>\n",
       "    </tr>\n",
       "    <tr>\n",
       "      <th>min</th>\n",
       "      <td>1.000000</td>\n",
       "    </tr>\n",
       "    <tr>\n",
       "      <th>25%</th>\n",
       "      <td>1.000000</td>\n",
       "    </tr>\n",
       "    <tr>\n",
       "      <th>50%</th>\n",
       "      <td>1.000000</td>\n",
       "    </tr>\n",
       "    <tr>\n",
       "      <th>75%</th>\n",
       "      <td>1.000000</td>\n",
       "    </tr>\n",
       "    <tr>\n",
       "      <th>max</th>\n",
       "      <td>51.000000</td>\n",
       "    </tr>\n",
       "  </tbody>\n",
       "</table>\n",
       "</div>"
      ],
      "text/plain": [
       "               count\n",
       "count  563725.000000\n",
       "mean        1.209304\n",
       "std         0.637925\n",
       "min         1.000000\n",
       "25%         1.000000\n",
       "50%         1.000000\n",
       "75%         1.000000\n",
       "max        51.000000"
      ]
     },
     "execution_count": 13,
     "metadata": {},
     "output_type": "execute_result"
    }
   ],
   "source": [
    "u_session_count.describe()"
   ]
  },
  {
   "cell_type": "code",
   "execution_count": 14,
   "metadata": {},
   "outputs": [
    {
     "data": {
      "image/png": "[encoded data removed]",
      "text/plain": [
       "<Figure size 432x288 with 1 Axes>"
      ]
     },
     "metadata": {
      "needs_background": "light"
     },
     "output_type": "display_data"
    }
   ],
   "source": [
    "sns.boxplot(data=u_session_count).set(title=\"Number of sessions per user\");"
   ]
  },
  {
   "cell_type": "code",
   "execution_count": 15,
   "metadata": {},
   "outputs": [
    {
     "name": "stderr",
     "output_type": "stream",
     "text": [
      "/var/folders/r8/3c5wqhdd503c57q35gcyk3b80000gn/T/ipykernel_84569/1737651595.py:19: UserWarning: You have mixed positional and keyword arguments, some input may be discarded.\n",
      "  patches = plt.legend(patches, labels=u_session_count_groups['type'])\n"
     ]
    },
    {
     "data": {
      "image/png": "[encoded data removed]",
      "text/plain": [
       "<Figure size 720x432 with 1 Axes>"
      ]
     },
     "metadata": {},
     "output_type": "display_data"
    }
   ],
   "source": [
    "u_session_count_groups = pd.DataFrame({\n",
    "    'type': [\n",
    "        'N>50',\n",
    "        '50>N>15',\n",
    "        '15>N>1',\n",
    "        'N=1'\n",
    "    ],\n",
    "    'count': [\n",
    "        u_session_count[u_session_count['count'] > 50].count()[0],\n",
    "        u_session_count[(u_session_count['count'] > 15) & (u_session_count['count'] < 50)].count()[0],\n",
    "        u_session_count[(u_session_count['count'] > 1) & (u_session_count['count'] < 50)].count()[0],\n",
    "        u_session_count[u_session_count['count'] == 1].count()[0],\n",
    "    ]\n",
    "});\n",
    "\n",
    "pi,ax = plt.subplots(figsize=[10,6]);\n",
    "\n",
    "plt.pie(x=u_session_count_groups['count'], explode=[0.1]*4, autopct=\"%.2f%%\");\n",
    "patches = plt.legend(patches, labels=u_session_count_groups['type'])\n",
    "plt.title('N - počet relácií unikátneho používateľa')\n",
    "plt.tight_layout()\n",
    "plt.show()"
   ]
  },
  {
   "cell_type": "markdown",
   "metadata": {},
   "source": [
    "Z grafu vidíme, že väčšina používateľov má jednu session."
   ]
  },
  {
   "cell_type": "markdown",
   "metadata": {},
   "source": [
    "#### Počet akcií (krokov) v jednej session"
   ]
  },
  {
   "cell_type": "markdown",
   "metadata": {},
   "source": [
    "Zaujímalo by nás, koľko akcií je v priemere v jednej session."
   ]
  },
  {
   "cell_type": "code",
   "execution_count": 16,
   "metadata": {},
   "outputs": [],
   "source": [
    "session_action_count = df_train.groupby(['session_id'])['action_type'].count().reset_index(name=\"count\")"
   ]
  },
  {
   "cell_type": "code",
   "execution_count": 17,
   "metadata": {},
   "outputs": [
    {
     "data": {
      "text/html": [
       "<div>\n",
       "<style scoped>\n",
       "    .dataframe tbody tr th:only-of-type {\n",
       "        vertical-align: middle;\n",
       "    }\n",
       "\n",
       "    .dataframe tbody tr th {\n",
       "        vertical-align: top;\n",
       "    }\n",
       "\n",
       "    .dataframe thead th {\n",
       "        text-align: right;\n",
       "    }\n",
       "</style>\n",
       "<table border=\"1\" class=\"dataframe\">\n",
       "  <thead>\n",
       "    <tr style=\"text-align: right;\">\n",
       "      <th></th>\n",
       "      <th>count</th>\n",
       "    </tr>\n",
       "  </thead>\n",
       "  <tbody>\n",
       "    <tr>\n",
       "      <th>count</th>\n",
       "      <td>681715.000000</td>\n",
       "    </tr>\n",
       "    <tr>\n",
       "      <th>mean</th>\n",
       "      <td>13.758623</td>\n",
       "    </tr>\n",
       "    <tr>\n",
       "      <th>std</th>\n",
       "      <td>18.224146</td>\n",
       "    </tr>\n",
       "    <tr>\n",
       "      <th>min</th>\n",
       "      <td>1.000000</td>\n",
       "    </tr>\n",
       "    <tr>\n",
       "      <th>25%</th>\n",
       "      <td>3.000000</td>\n",
       "    </tr>\n",
       "    <tr>\n",
       "      <th>50%</th>\n",
       "      <td>6.000000</td>\n",
       "    </tr>\n",
       "    <tr>\n",
       "      <th>75%</th>\n",
       "      <td>16.000000</td>\n",
       "    </tr>\n",
       "    <tr>\n",
       "      <th>max</th>\n",
       "      <td>100.000000</td>\n",
       "    </tr>\n",
       "  </tbody>\n",
       "</table>\n",
       "</div>"
      ],
      "text/plain": [
       "               count\n",
       "count  681715.000000\n",
       "mean       13.758623\n",
       "std        18.224146\n",
       "min         1.000000\n",
       "25%         3.000000\n",
       "50%         6.000000\n",
       "75%        16.000000\n",
       "max       100.000000"
      ]
     },
     "execution_count": 17,
     "metadata": {},
     "output_type": "execute_result"
    }
   ],
   "source": [
    "session_action_count.describe()"
   ]
  },
  {
   "cell_type": "code",
   "execution_count": 18,
   "metadata": {},
   "outputs": [
    {
     "data": {
      "image/png": "[encoded data removed]",
      "text/plain": [
       "<Figure size 432x288 with 1 Axes>"
      ]
     },
     "metadata": {
      "needs_background": "light"
     },
     "output_type": "display_data"
    }
   ],
   "source": [
    "sns.boxplot(data=session_action_count).set(title=\"Number of actions per session\");"
   ]
  },
  {
   "cell_type": "code",
   "execution_count": 19,
   "metadata": {},
   "outputs": [
    {
     "name": "stderr",
     "output_type": "stream",
     "text": [
      "/var/folders/r8/3c5wqhdd503c57q35gcyk3b80000gn/T/ipykernel_84569/3703885777.py:22: UserWarning: You have mixed positional and keyword arguments, some input may be discarded.\n",
      "  plt.legend(patches, labels=session_action_count_groups['type'])\n"
     ]
    },
    {
     "data": {
      "image/png": "[encoded data removed]",
      "text/plain": [
       "<Figure size 720x432 with 1 Axes>"
      ]
     },
     "metadata": {},
     "output_type": "display_data"
    }
   ],
   "source": [
    "session_action_count_groups = pd.DataFrame({\n",
    "   'type': [\n",
    "        'N>1000',\n",
    "        '1000>N>100',\n",
    "        '100>N>10',\n",
    "        '10>N>1',\n",
    "        'N=1'\n",
    "    ],\n",
    "    'count': [\n",
    "        session_action_count[session_action_count['count'] > 1000].count()[0],\n",
    "        session_action_count[(session_action_count['count'] > 100) & (session_action_count['count'] < 1000)].count()[0],\n",
    "        session_action_count[(session_action_count['count'] > 10) & (session_action_count['count'] < 100)].count()[0],\n",
    "        session_action_count[(session_action_count['count'] > 1) & (session_action_count['count'] < 10)].count()[0],\n",
    "        session_action_count[session_action_count['count'] == 1].count()[0]\n",
    "    ]\n",
    "});\n",
    "\n",
    "pi,ax = plt.subplots(figsize=[10,6]);\n",
    "\n",
    "plt.pie(x=session_action_count_groups['count'], explode=[0.1]*5, autopct=\"%.2f%%\");\n",
    "plt.title('N - počet akcií v jednotlivých reláciach ')\n",
    "plt.legend(patches, labels=session_action_count_groups['type'])\n",
    "plt.tight_layout()\n",
    "plt.show();"
   ]
  },
  {
   "cell_type": "markdown",
   "metadata": {},
   "source": [
    "Vidíme, že tu su už dáta pomerne pekne distribuované. Na grafe môžme vidieť, že necelá polovica sessions má od 1-10 akcií. Vyše štvrtina je v rozpätií 10-100. Necelá štvrtina sú single-step sessions. "
   ]
  },
  {
   "cell_type": "markdown",
   "metadata": {},
   "source": [
    "#### Dĺžka sessions"
   ]
  },
  {
   "cell_type": "code",
   "execution_count": 20,
   "metadata": {},
   "outputs": [
    {
     "data": {
      "text/html": [
       "<div>\n",
       "<style scoped>\n",
       "    .dataframe tbody tr th:only-of-type {\n",
       "        vertical-align: middle;\n",
       "    }\n",
       "\n",
       "    .dataframe tbody tr th {\n",
       "        vertical-align: top;\n",
       "    }\n",
       "\n",
       "    .dataframe thead th {\n",
       "        text-align: right;\n",
       "    }\n",
       "</style>\n",
       "<table border=\"1\" class=\"dataframe\">\n",
       "  <thead>\n",
       "    <tr style=\"text-align: right;\">\n",
       "      <th></th>\n",
       "      <th>first</th>\n",
       "      <th>last</th>\n",
       "    </tr>\n",
       "    <tr>\n",
       "      <th>session_id</th>\n",
       "      <th></th>\n",
       "      <th></th>\n",
       "    </tr>\n",
       "  </thead>\n",
       "  <tbody>\n",
       "    <tr>\n",
       "      <th>000056cd97ce2</th>\n",
       "      <td>1541483846</td>\n",
       "      <td>1541484101</td>\n",
       "    </tr>\n",
       "    <tr>\n",
       "      <th>000066611146f</th>\n",
       "      <td>1541332305</td>\n",
       "      <td>1541332330</td>\n",
       "    </tr>\n",
       "    <tr>\n",
       "      <th>00008c1f39c46</th>\n",
       "      <td>1541302205</td>\n",
       "      <td>1541302405</td>\n",
       "    </tr>\n",
       "    <tr>\n",
       "      <th>0000be39860d7</th>\n",
       "      <td>1541102752</td>\n",
       "      <td>1541104090</td>\n",
       "    </tr>\n",
       "    <tr>\n",
       "      <th>0000c0fb51e11</th>\n",
       "      <td>1541240881</td>\n",
       "      <td>1541240932</td>\n",
       "    </tr>\n",
       "    <tr>\n",
       "      <th>...</th>\n",
       "      <td>...</td>\n",
       "      <td>...</td>\n",
       "    </tr>\n",
       "    <tr>\n",
       "      <th>ptob1c1ag7444</th>\n",
       "      <td>1541438844</td>\n",
       "      <td>1541438888</td>\n",
       "    </tr>\n",
       "    <tr>\n",
       "      <th>qjhb1uuit1bda</th>\n",
       "      <td>1541431964</td>\n",
       "      <td>1541432134</td>\n",
       "    </tr>\n",
       "    <tr>\n",
       "      <th>s8u671odd7ckk</th>\n",
       "      <td>1541376805</td>\n",
       "      <td>1541376865</td>\n",
       "    </tr>\n",
       "    <tr>\n",
       "      <th>udmhn71cn8500</th>\n",
       "      <td>1541245078</td>\n",
       "      <td>1541245315</td>\n",
       "    </tr>\n",
       "    <tr>\n",
       "      <th>vg1t2qc04afrt</th>\n",
       "      <td>1541171155</td>\n",
       "      <td>1541171169</td>\n",
       "    </tr>\n",
       "  </tbody>\n",
       "</table>\n",
       "<p>681715 rows × 2 columns</p>\n",
       "</div>"
      ],
      "text/plain": [
       "                    first        last\n",
       "session_id                           \n",
       "000056cd97ce2  1541483846  1541484101\n",
       "000066611146f  1541332305  1541332330\n",
       "00008c1f39c46  1541302205  1541302405\n",
       "0000be39860d7  1541102752  1541104090\n",
       "0000c0fb51e11  1541240881  1541240932\n",
       "...                   ...         ...\n",
       "ptob1c1ag7444  1541438844  1541438888\n",
       "qjhb1uuit1bda  1541431964  1541432134\n",
       "s8u671odd7ckk  1541376805  1541376865\n",
       "udmhn71cn8500  1541245078  1541245315\n",
       "vg1t2qc04afrt  1541171155  1541171169\n",
       "\n",
       "[681715 rows x 2 columns]"
      ]
     },
     "execution_count": 20,
     "metadata": {},
     "output_type": "execute_result"
    }
   ],
   "source": [
    "sessions_grouped = df_train.groupby(['session_id'])\n",
    "sessions_grouped['timestamp'].agg(['first','last'])"
   ]
  },
  {
   "cell_type": "code",
   "execution_count": 21,
   "metadata": {},
   "outputs": [],
   "source": [
    "def min_max_diff(x):\n",
    "    return x.max()-x.min()\n",
    "\n",
    "def avg_step_duration(row):\n",
    "    return row['session_length'] / row['steps']\n",
    "\n",
    "def seconds_to_minutes(seconds):\n",
    "    return round(seconds/60,2)\n",
    "\n",
    "session_steps_length = sessions_grouped\\\n",
    ".agg(\n",
    "    steps=('step','last'),\n",
    "    session_length=('timestamp',min_max_diff),\n",
    ")"
   ]
  },
  {
   "cell_type": "code",
   "execution_count": 22,
   "metadata": {},
   "outputs": [
    {
     "data": {
      "text/html": [
       "<div>\n",
       "<style scoped>\n",
       "    .dataframe tbody tr th:only-of-type {\n",
       "        vertical-align: middle;\n",
       "    }\n",
       "\n",
       "    .dataframe tbody tr th {\n",
       "        vertical-align: top;\n",
       "    }\n",
       "\n",
       "    .dataframe thead th {\n",
       "        text-align: right;\n",
       "    }\n",
       "</style>\n",
       "<table border=\"1\" class=\"dataframe\">\n",
       "  <thead>\n",
       "    <tr style=\"text-align: right;\">\n",
       "      <th></th>\n",
       "      <th>steps</th>\n",
       "      <th>session_length</th>\n",
       "      <th>avg_step_duration_seconds</th>\n",
       "    </tr>\n",
       "    <tr>\n",
       "      <th>session_id</th>\n",
       "      <th></th>\n",
       "      <th></th>\n",
       "      <th></th>\n",
       "    </tr>\n",
       "  </thead>\n",
       "  <tbody>\n",
       "    <tr>\n",
       "      <th>000056cd97ce2</th>\n",
       "      <td>4</td>\n",
       "      <td>4.25</td>\n",
       "      <td>63.750000</td>\n",
       "    </tr>\n",
       "    <tr>\n",
       "      <th>000066611146f</th>\n",
       "      <td>3</td>\n",
       "      <td>0.42</td>\n",
       "      <td>8.333333</td>\n",
       "    </tr>\n",
       "    <tr>\n",
       "      <th>00008c1f39c46</th>\n",
       "      <td>4</td>\n",
       "      <td>3.33</td>\n",
       "      <td>50.000000</td>\n",
       "    </tr>\n",
       "    <tr>\n",
       "      <th>0000be39860d7</th>\n",
       "      <td>53</td>\n",
       "      <td>22.30</td>\n",
       "      <td>25.245283</td>\n",
       "    </tr>\n",
       "    <tr>\n",
       "      <th>0000c0fb51e11</th>\n",
       "      <td>5</td>\n",
       "      <td>0.85</td>\n",
       "      <td>10.200000</td>\n",
       "    </tr>\n",
       "    <tr>\n",
       "      <th>...</th>\n",
       "      <td>...</td>\n",
       "      <td>...</td>\n",
       "      <td>...</td>\n",
       "    </tr>\n",
       "    <tr>\n",
       "      <th>ptob1c1ag7444</th>\n",
       "      <td>20</td>\n",
       "      <td>0.73</td>\n",
       "      <td>2.200000</td>\n",
       "    </tr>\n",
       "    <tr>\n",
       "      <th>qjhb1uuit1bda</th>\n",
       "      <td>15</td>\n",
       "      <td>2.83</td>\n",
       "      <td>11.333333</td>\n",
       "    </tr>\n",
       "    <tr>\n",
       "      <th>s8u671odd7ckk</th>\n",
       "      <td>16</td>\n",
       "      <td>1.00</td>\n",
       "      <td>3.750000</td>\n",
       "    </tr>\n",
       "    <tr>\n",
       "      <th>udmhn71cn8500</th>\n",
       "      <td>11</td>\n",
       "      <td>3.95</td>\n",
       "      <td>21.545455</td>\n",
       "    </tr>\n",
       "    <tr>\n",
       "      <th>vg1t2qc04afrt</th>\n",
       "      <td>4</td>\n",
       "      <td>0.23</td>\n",
       "      <td>3.500000</td>\n",
       "    </tr>\n",
       "  </tbody>\n",
       "</table>\n",
       "<p>681715 rows × 3 columns</p>\n",
       "</div>"
      ],
      "text/plain": [
       "               steps  session_length  avg_step_duration_seconds\n",
       "session_id                                                     \n",
       "000056cd97ce2      4            4.25                  63.750000\n",
       "000066611146f      3            0.42                   8.333333\n",
       "00008c1f39c46      4            3.33                  50.000000\n",
       "0000be39860d7     53           22.30                  25.245283\n",
       "0000c0fb51e11      5            0.85                  10.200000\n",
       "...              ...             ...                        ...\n",
       "ptob1c1ag7444     20            0.73                   2.200000\n",
       "qjhb1uuit1bda     15            2.83                  11.333333\n",
       "s8u671odd7ckk     16            1.00                   3.750000\n",
       "udmhn71cn8500     11            3.95                  21.545455\n",
       "vg1t2qc04afrt      4            0.23                   3.500000\n",
       "\n",
       "[681715 rows x 3 columns]"
      ]
     },
     "execution_count": 22,
     "metadata": {},
     "output_type": "execute_result"
    }
   ],
   "source": [
    "# calculate avergate duration of step\n",
    "session_steps_length['avg_step_duration_seconds'] = session_steps_length.apply(avg_step_duration,axis=1);\n",
    "\n",
    "# transform session length into minutes\n",
    "session_steps_length['session_length'] = session_steps_length['session_length'].apply(seconds_to_minutes);\n",
    "\n",
    "session_steps_length"
   ]
  },
  {
   "cell_type": "code",
   "execution_count": 23,
   "metadata": {},
   "outputs": [
    {
     "data": {
      "image/png": "[encoded data removed]",
      "text/plain": [
       "<Figure size 432x288 with 1 Axes>"
      ]
     },
     "metadata": {
      "needs_background": "light"
     },
     "output_type": "display_data"
    }
   ],
   "source": [
    "ax = sns.boxplot(data=session_steps_length.session_length).set(title=\"Dĺžka relácie\",ylabel=\"Čas (minúty)\");"
   ]
  },
  {
   "cell_type": "markdown",
   "metadata": {},
   "source": [
    "### Atribút action_type"
   ]
  },
  {
   "cell_type": "code",
   "execution_count": 30,
   "metadata": {},
   "outputs": [
    {
     "data": {
      "text/plain": [
       "array(['search for poi', 'interaction item image', 'clickout item',\n",
       "       'interaction item info', 'interaction item deals',\n",
       "       'search for destination', 'filter selection',\n",
       "       'interaction item rating', 'search for item',\n",
       "       'change of sort order'], dtype=object)"
      ]
     },
     "execution_count": 30,
     "metadata": {},
     "output_type": "execute_result"
    }
   ],
   "source": [
    "df_train.action_type.unique()"
   ]
  },
  {
   "cell_type": "code",
   "execution_count": 31,
   "metadata": {},
   "outputs": [
    {
     "data": {
      "text/html": [
       "<div>\n",
       "<style scoped>\n",
       "    .dataframe tbody tr th:only-of-type {\n",
       "        vertical-align: middle;\n",
       "    }\n",
       "\n",
       "    .dataframe tbody tr th {\n",
       "        vertical-align: top;\n",
       "    }\n",
       "\n",
       "    .dataframe thead th {\n",
       "        text-align: right;\n",
       "    }\n",
       "</style>\n",
       "<table border=\"1\" class=\"dataframe\">\n",
       "  <thead>\n",
       "    <tr style=\"text-align: right;\">\n",
       "      <th></th>\n",
       "      <th>action_type</th>\n",
       "      <th>count</th>\n",
       "    </tr>\n",
       "  </thead>\n",
       "  <tbody>\n",
       "    <tr>\n",
       "      <th>0</th>\n",
       "      <td>interaction item image</td>\n",
       "      <td>5978429</td>\n",
       "    </tr>\n",
       "    <tr>\n",
       "      <th>1</th>\n",
       "      <td>clickout item</td>\n",
       "      <td>1316663</td>\n",
       "    </tr>\n",
       "    <tr>\n",
       "      <th>2</th>\n",
       "      <td>filter selection</td>\n",
       "      <td>584753</td>\n",
       "    </tr>\n",
       "    <tr>\n",
       "      <th>3</th>\n",
       "      <td>change of sort order</td>\n",
       "      <td>357452</td>\n",
       "    </tr>\n",
       "    <tr>\n",
       "      <th>4</th>\n",
       "      <td>search for destination</td>\n",
       "      <td>355806</td>\n",
       "    </tr>\n",
       "    <tr>\n",
       "      <th>5</th>\n",
       "      <td>interaction item info</td>\n",
       "      <td>210594</td>\n",
       "    </tr>\n",
       "    <tr>\n",
       "      <th>6</th>\n",
       "      <td>interaction item rating</td>\n",
       "      <td>165233</td>\n",
       "    </tr>\n",
       "    <tr>\n",
       "      <th>7</th>\n",
       "      <td>interaction item deals</td>\n",
       "      <td>155796</td>\n",
       "    </tr>\n",
       "    <tr>\n",
       "      <th>8</th>\n",
       "      <td>search for item</td>\n",
       "      <td>132913</td>\n",
       "    </tr>\n",
       "    <tr>\n",
       "      <th>9</th>\n",
       "      <td>search for poi</td>\n",
       "      <td>121821</td>\n",
       "    </tr>\n",
       "  </tbody>\n",
       "</table>\n",
       "</div>"
      ],
      "text/plain": [
       "               action_type    count\n",
       "0   interaction item image  5978429\n",
       "1            clickout item  1316663\n",
       "2         filter selection   584753\n",
       "3     change of sort order   357452\n",
       "4   search for destination   355806\n",
       "5    interaction item info   210594\n",
       "6  interaction item rating   165233\n",
       "7   interaction item deals   155796\n",
       "8          search for item   132913\n",
       "9           search for poi   121821"
      ]
     },
     "execution_count": 31,
     "metadata": {},
     "output_type": "execute_result"
    }
   ],
   "source": [
    "actions_count = df_train['action_type'].value_counts().reset_index(name=\"count\").rename(columns={'index':'action_type'})\n",
    "actions_count"
   ]
  },
  {
   "cell_type": "code",
   "execution_count": 32,
   "metadata": {},
   "outputs": [
    {
     "name": "stderr",
     "output_type": "stream",
     "text": [
      "/var/folders/r8/3c5wqhdd503c57q35gcyk3b80000gn/T/ipykernel_84569/67991065.py:5: UserWarning: You have mixed positional and keyword arguments, some input may be discarded.\n",
      "  plt.legend(patches, labels=actions_count['action_type'])\n"
     ]
    },
    {
     "data": {
      "image/png": "[encoded data removed]",
      "text/plain": [
       "<Figure size 720x432 with 1 Axes>"
      ]
     },
     "metadata": {},
     "output_type": "display_data"
    }
   ],
   "source": [
    "pi,ax = plt.subplots(figsize=[10,6]);\n",
    "\n",
    "patches = plt.pie(x=actions_count['count'], explode=[0.05]*10, autopct=\"%.1f%%\")\n",
    "plt.title('Rozloženie typov akcií v atribúte action_type')\n",
    "plt.legend(patches, labels=actions_count['action_type'])\n",
    "plt.tight_layout()\n",
    "plt.show()"
   ]
  }
 ],
 "metadata": {
  "kernelspec": {
   "display_name": "Python 3 (ipykernel)",
   "language": "python",
   "name": "python3"
  },
  "language_info": {
   "codemirror_mode": {
    "name": "ipython",
    "version": 3
   },
   "file_extension": ".py",
   "mimetype": "text/x-python",
   "name": "python",
   "nbconvert_exporter": "python",
   "pygments_lexer": "ipython3",
   "version": "3.8.12"
  }
 },
 "nbformat": 4,
 "nbformat_minor": 1
}
