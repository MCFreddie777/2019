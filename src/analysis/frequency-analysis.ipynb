{
 "cells": [
  {
   "cell_type": "markdown",
   "metadata": {},
   "source": [
    "## Frekvenčná analýza"
   ]
  },
  {
   "cell_type": "code",
   "execution_count": 1,
   "metadata": {},
   "outputs": [],
   "source": [
    "# dependencies\n",
    "import pandas as pd\n",
    "import os.path as path\n",
    "import seaborn as sns\n",
    "import numpy as np\n",
    "from collections import Counter\n",
    "from sklearn.utils import shuffle\n",
    "import pickle\n",
    "from sortedcontainers import SortedList\n",
    "import time\n",
    "import matplotlib.pyplot as plt"
   ]
  },
  {
   "cell_type": "code",
   "execution_count": 2,
   "metadata": {},
   "outputs": [],
   "source": [
    "# local modules\n",
    "import sys\n",
    "sys.path.append(\"..\")\n",
    "from _ import constants"
   ]
  },
  {
   "cell_type": "code",
   "execution_count": 3,
   "metadata": {},
   "outputs": [],
   "source": [
    "# load data\n",
    "df_train = pd.read_csv(constants.TRAIN,sep=\",\")"
   ]
  },
  {
   "cell_type": "code",
   "execution_count": 4,
   "metadata": {},
   "outputs": [
    {
     "data": {
      "text/plain": [
       "15932992"
      ]
     },
     "execution_count": 4,
     "metadata": {},
     "output_type": "execute_result"
    }
   ],
   "source": [
    "len(df_train)"
   ]
  },
  {
   "cell_type": "markdown",
   "metadata": {},
   "source": [
    "## Analýza atribútov"
   ]
  },
  {
   "cell_type": "code",
   "execution_count": 5,
   "metadata": {},
   "outputs": [
    {
     "data": {
      "text/plain": [
       "Index(['user_id', 'session_id', 'timestamp', 'step', 'action_type',\n",
       "       'reference', 'platform', 'city', 'device', 'current_filters',\n",
       "       'impressions', 'prices'],\n",
       "      dtype='object')"
      ]
     },
     "execution_count": 5,
     "metadata": {},
     "output_type": "execute_result"
    }
   ],
   "source": [
    "df_train.columns.unique()"
   ]
  },
  {
   "cell_type": "markdown",
   "metadata": {},
   "source": [
    "Vypísaním stĺpcov atribútu sme identifikovali nasledovné stĺpce v datasete.\n",
    "\n",
    "*   `user_id`: id používateľa\n",
    "*   `session_id`: id relácie\n",
    "*   `timestamp`: UNIX timestamp akcie\n",
    "*   `step`: poradové číslo kroku v rámci session\n",
    "*   `action_type`: typ akcie\n",
    "    *   **clickout item**: používateľ sa preklikne a je presmerovaný na webstránku partnera. Referencia je v tomto prílade item_id. Ostatné položky, ktoré boli v tomto momente zobrazené a ich ceny sú v atribúte \"impressions\" a \"prices\"\n",
    "    *   **interaction item rating**: používateľ interaguje s ratingom alebo reviewuje položku. Referencia je dané item_id.\n",
    "    *   **interaction item info**: používateľ interaguje s informáciami o položke. Referencia je dané item_id.\n",
    "    *   **interaction item image**: používateľ interaguje s obrázkom položky. Referencia je dané item_id.\n",
    "    *   **interaction item deals**: používateľ klikne na \"view more deals\" tlačítko. Referencia je dané item_id.\n",
    "    *   **change of sort order**: používateľ zmení poradie položiek. Referencia je popis atribútu zoradenia.\n",
    "    *   **filter selection**: Používateľ použije filter. Referencia je popis filtra.\n",
    "    *   **search for item**: používateľ vyhľadáva konkrétnu položku. Referencia je dané item_id.\n",
    "    *   **search for destination**: používateľ hľadá destináciu. Referencia je desstinácia.\n",
    "    *   **search for poi**: používateľ hľadá pre POI - point of interest. Referencia je názov POI.\n",
    "*   `reference`: referencia, cieľ danej akcie\n",
    "*   `platform`: krajina platformy, napr. [trivago.de](http://trivago.de) (DE) alebo [trivago.com](http://trivago.com) (US)\n",
    "*   `city`: názov mesta kontextu vyhľadávania\n",
    "*   `device`: zariadenie používateľa použité na vyhľadávanie\n",
    "*   `current_filters`: zoznam filtrov ktoré boli aktívne\n",
    "*   `impressions`: zoznam položiek, ktoré boli zobrazené používateľovi (prítomné iba pri action_type == clickout_item\n",
    "*   `prices`: zoznam cien položiek, uvedené v atribúte \"impressions\" (prítomné iba pri action_type == clickout_item"
   ]
  },
  {
   "cell_type": "markdown",
   "metadata": {},
   "source": [
    "### Atribút user_id"
   ]
  },
  {
   "cell_type": "markdown",
   "metadata": {},
   "source": [
    "Ide o kategorický atribút vyjadrujúci unikátny identifikátor používateľa v databáze."
   ]
  },
  {
   "cell_type": "code",
   "execution_count": 6,
   "metadata": {},
   "outputs": [
    {
     "data": {
      "text/plain": [
       "15932992"
      ]
     },
     "execution_count": 6,
     "metadata": {},
     "output_type": "execute_result"
    }
   ],
   "source": [
    "len(df_train.user_id)"
   ]
  },
  {
   "cell_type": "code",
   "execution_count": 7,
   "metadata": {},
   "outputs": [
    {
     "data": {
      "text/plain": [
       "730803"
      ]
     },
     "execution_count": 7,
     "metadata": {},
     "output_type": "execute_result"
    }
   ],
   "source": [
    "len(df_train.user_id.unique())"
   ]
  },
  {
   "cell_type": "markdown",
   "metadata": {},
   "source": [
    "#### Počet záznamov user_id v datasete (počet akcií vykonaných daným používateľom)"
   ]
  },
  {
   "cell_type": "markdown",
   "metadata": {},
   "source": [
    "Pozrieme sa na outlierov, chceme vidieť či tu nemáme nejakých používateľov príliš veľa alebo málo krát."
   ]
  },
  {
   "cell_type": "code",
   "execution_count": 8,
   "metadata": {},
   "outputs": [
    {
     "data": {
      "text/plain": [
       "[Text(0.5, 1.0, 'Number of user occurences in dataset (actions)')]"
      ]
     },
     "execution_count": 8,
     "metadata": {},
     "output_type": "execute_result"
    },
    {
     "data": {
      "image/png": "[encoded data removed]",
      "text/plain": [
       "<Figure size 432x288 with 1 Axes>"
      ]
     },
     "metadata": {
      "needs_background": "light"
     },
     "output_type": "display_data"
    }
   ],
   "source": [
    "user_id_count = df_train.user_id.value_counts().reset_index(name=\"count\").rename(columns={'index': 'user_id'})\n",
    "sns.boxplot(data=user_id_count).set(title='Number of user occurences in dataset (actions)')"
   ]
  },
  {
   "cell_type": "code",
   "execution_count": 9,
   "metadata": {},
   "outputs": [
    {
     "data": {
      "text/html": [
       "<div>\n",
       "<style scoped>\n",
       "    .dataframe tbody tr th:only-of-type {\n",
       "        vertical-align: middle;\n",
       "    }\n",
       "\n",
       "    .dataframe tbody tr th {\n",
       "        vertical-align: top;\n",
       "    }\n",
       "\n",
       "    .dataframe thead th {\n",
       "        text-align: right;\n",
       "    }\n",
       "</style>\n",
       "<table border=\"1\" class=\"dataframe\">\n",
       "  <thead>\n",
       "    <tr style=\"text-align: right;\">\n",
       "      <th></th>\n",
       "      <th>count</th>\n",
       "    </tr>\n",
       "  </thead>\n",
       "  <tbody>\n",
       "    <tr>\n",
       "      <th>count</th>\n",
       "      <td>730803.000000</td>\n",
       "    </tr>\n",
       "    <tr>\n",
       "      <th>mean</th>\n",
       "      <td>21.802034</td>\n",
       "    </tr>\n",
       "    <tr>\n",
       "      <th>std</th>\n",
       "      <td>64.406425</td>\n",
       "    </tr>\n",
       "    <tr>\n",
       "      <th>min</th>\n",
       "      <td>1.000000</td>\n",
       "    </tr>\n",
       "    <tr>\n",
       "      <th>25%</th>\n",
       "      <td>2.000000</td>\n",
       "    </tr>\n",
       "    <tr>\n",
       "      <th>50%</th>\n",
       "      <td>5.000000</td>\n",
       "    </tr>\n",
       "    <tr>\n",
       "      <th>75%</th>\n",
       "      <td>17.000000</td>\n",
       "    </tr>\n",
       "    <tr>\n",
       "      <th>max</th>\n",
       "      <td>6230.000000</td>\n",
       "    </tr>\n",
       "  </tbody>\n",
       "</table>\n",
       "</div>"
      ],
      "text/plain": [
       "               count\n",
       "count  730803.000000\n",
       "mean       21.802034\n",
       "std        64.406425\n",
       "min         1.000000\n",
       "25%         2.000000\n",
       "50%         5.000000\n",
       "75%        17.000000\n",
       "max      6230.000000"
      ]
     },
     "execution_count": 9,
     "metadata": {},
     "output_type": "execute_result"
    }
   ],
   "source": [
    "user_id_count.describe()"
   ]
  },
  {
   "cell_type": "code",
   "execution_count": 10,
   "metadata": {},
   "outputs": [
    {
     "name": "stderr",
     "output_type": "stream",
     "text": [
      "/var/folders/r8/3c5wqhdd503c57q35gcyk3b80000gn/T/ipykernel_81663/2490869866.py:22: UserWarning: You have mixed positional and keyword arguments, some input may be discarded.\n",
      "  plt.legend(patches, labels=user_id_groups['type'])\n"
     ]
    },
    {
     "data": {
      "image/png": "[encoded data removed]",
      "text/plain": [
       "<Figure size 720x432 with 1 Axes>"
      ]
     },
     "metadata": {},
     "output_type": "display_data"
    }
   ],
   "source": [
    "user_id_groups = pd.DataFrame({\n",
    "    'type': [\n",
    "        'N>1000',\n",
    "        '1000>N>100',\n",
    "        '100>N>10',\n",
    "        '10>N>1',\n",
    "        'N=1'\n",
    "    ],\n",
    "    'count': [\n",
    "        user_id_count[user_id_count['count'] > 1000].count()[0],\n",
    "        user_id_count[(user_id_count['count'] > 100) & (user_id_count['count'] < 1000)].count()[0],\n",
    "        user_id_count[(user_id_count['count'] > 10) & (user_id_count['count'] < 100)].count()[0],\n",
    "        user_id_count[(user_id_count['count'] > 1) & (user_id_count['count'] < 10)].count()[0],\n",
    "        user_id_count[user_id_count['count'] == 1].count()[0]\n",
    "    ]\n",
    "});\n",
    "\n",
    "\n",
    "pi,ax = plt.subplots(figsize=[10,6]);\n",
    "plt.title(\"N - počet akcií unikátneho používateľa\")\n",
    "patches = plt.pie(x=user_id_groups['count'], explode=[0.1]*5, autopct=\"%.2f%%\");\n",
    "plt.legend(patches, labels=user_id_groups['type'])\n",
    "plt.tight_layout();\n",
    "plt.show();\n"
   ]
  },
  {
   "cell_type": "markdown",
   "metadata": {},
   "source": [
    "Vidíme, že hodnoty sú distribuované dosť nízko, v jednotkách. Máme tu však aj outlierov, ktorí nám štatistiky ohýňajú. Väčšina používateľov však má len do 10 záznamov."
   ]
  },
  {
   "cell_type": "code",
   "execution_count": 11,
   "metadata": {},
   "outputs": [
    {
     "data": {
      "text/html": [
       "<div>\n",
       "<style scoped>\n",
       "    .dataframe tbody tr th:only-of-type {\n",
       "        vertical-align: middle;\n",
       "    }\n",
       "\n",
       "    .dataframe tbody tr th {\n",
       "        vertical-align: top;\n",
       "    }\n",
       "\n",
       "    .dataframe thead th {\n",
       "        text-align: right;\n",
       "    }\n",
       "</style>\n",
       "<table border=\"1\" class=\"dataframe\">\n",
       "  <thead>\n",
       "    <tr style=\"text-align: right;\">\n",
       "      <th></th>\n",
       "      <th>user_id</th>\n",
       "      <th>count</th>\n",
       "    </tr>\n",
       "  </thead>\n",
       "  <tbody>\n",
       "    <tr>\n",
       "      <th>0</th>\n",
       "      <td>6JWWFFNUMY6Y</td>\n",
       "      <td>6230</td>\n",
       "    </tr>\n",
       "    <tr>\n",
       "      <th>1</th>\n",
       "      <td>0H73OEP6Z71O</td>\n",
       "      <td>4084</td>\n",
       "    </tr>\n",
       "    <tr>\n",
       "      <th>2</th>\n",
       "      <td>7K4V4W05S7X7</td>\n",
       "      <td>4077</td>\n",
       "    </tr>\n",
       "    <tr>\n",
       "      <th>3</th>\n",
       "      <td>SX3I42SKZEVH</td>\n",
       "      <td>3876</td>\n",
       "    </tr>\n",
       "    <tr>\n",
       "      <th>4</th>\n",
       "      <td>Q46K4RJHTQFR</td>\n",
       "      <td>3810</td>\n",
       "    </tr>\n",
       "    <tr>\n",
       "      <th>...</th>\n",
       "      <td>...</td>\n",
       "      <td>...</td>\n",
       "    </tr>\n",
       "    <tr>\n",
       "      <th>362</th>\n",
       "      <td>25NNYH9O26LO</td>\n",
       "      <td>1004</td>\n",
       "    </tr>\n",
       "    <tr>\n",
       "      <th>363</th>\n",
       "      <td>D365750VVN7G</td>\n",
       "      <td>1004</td>\n",
       "    </tr>\n",
       "    <tr>\n",
       "      <th>364</th>\n",
       "      <td>PV3Z6PE641TR</td>\n",
       "      <td>1003</td>\n",
       "    </tr>\n",
       "    <tr>\n",
       "      <th>365</th>\n",
       "      <td>O2QELYLYTK6W</td>\n",
       "      <td>1001</td>\n",
       "    </tr>\n",
       "    <tr>\n",
       "      <th>366</th>\n",
       "      <td>SO8H3SH1MKAK</td>\n",
       "      <td>1001</td>\n",
       "    </tr>\n",
       "  </tbody>\n",
       "</table>\n",
       "<p>367 rows × 2 columns</p>\n",
       "</div>"
      ],
      "text/plain": [
       "          user_id  count\n",
       "0    6JWWFFNUMY6Y   6230\n",
       "1    0H73OEP6Z71O   4084\n",
       "2    7K4V4W05S7X7   4077\n",
       "3    SX3I42SKZEVH   3876\n",
       "4    Q46K4RJHTQFR   3810\n",
       "..            ...    ...\n",
       "362  25NNYH9O26LO   1004\n",
       "363  D365750VVN7G   1004\n",
       "364  PV3Z6PE641TR   1003\n",
       "365  O2QELYLYTK6W   1001\n",
       "366  SO8H3SH1MKAK   1001\n",
       "\n",
       "[367 rows x 2 columns]"
      ]
     },
     "execution_count": 11,
     "metadata": {},
     "output_type": "execute_result"
    }
   ],
   "source": [
    "user_id_count[user_id_count['count'] > 1000]"
   ]
  },
  {
   "cell_type": "markdown",
   "metadata": {},
   "source": [
    "#### Detail najčastejšieho používateľa v datasete"
   ]
  },
  {
   "cell_type": "markdown",
   "metadata": {},
   "source": [
    "Pozrieme sa na konkrétneho používateľa s maximálnym počtom interakcií."
   ]
  },
  {
   "cell_type": "code",
   "execution_count": 12,
   "metadata": {},
   "outputs": [
    {
     "data": {
      "text/html": [
       "<div>\n",
       "<style scoped>\n",
       "    .dataframe tbody tr th:only-of-type {\n",
       "        vertical-align: middle;\n",
       "    }\n",
       "\n",
       "    .dataframe tbody tr th {\n",
       "        vertical-align: top;\n",
       "    }\n",
       "\n",
       "    .dataframe thead th {\n",
       "        text-align: right;\n",
       "    }\n",
       "</style>\n",
       "<table border=\"1\" class=\"dataframe\">\n",
       "  <thead>\n",
       "    <tr style=\"text-align: right;\">\n",
       "      <th></th>\n",
       "      <th>user_id</th>\n",
       "      <th>session_id</th>\n",
       "      <th>timestamp</th>\n",
       "      <th>step</th>\n",
       "      <th>action_type</th>\n",
       "      <th>reference</th>\n",
       "      <th>platform</th>\n",
       "      <th>city</th>\n",
       "      <th>device</th>\n",
       "      <th>current_filters</th>\n",
       "      <th>impressions</th>\n",
       "      <th>prices</th>\n",
       "    </tr>\n",
       "  </thead>\n",
       "  <tbody>\n",
       "    <tr>\n",
       "      <th>8285800</th>\n",
       "      <td>6JWWFFNUMY6Y</td>\n",
       "      <td>87c17e7fea263</td>\n",
       "      <td>1541324109</td>\n",
       "      <td>1</td>\n",
       "      <td>search for destination</td>\n",
       "      <td>Ankara, Turkey</td>\n",
       "      <td>TR</td>\n",
       "      <td>Ankara, Turkey</td>\n",
       "      <td>mobile</td>\n",
       "      <td>NaN</td>\n",
       "      <td>NaN</td>\n",
       "      <td>NaN</td>\n",
       "    </tr>\n",
       "    <tr>\n",
       "      <th>8285801</th>\n",
       "      <td>6JWWFFNUMY6Y</td>\n",
       "      <td>87c17e7fea263</td>\n",
       "      <td>1541324131</td>\n",
       "      <td>2</td>\n",
       "      <td>change of sort order</td>\n",
       "      <td>interaction sort button</td>\n",
       "      <td>TR</td>\n",
       "      <td>Ankara, Turkey</td>\n",
       "      <td>mobile</td>\n",
       "      <td>NaN</td>\n",
       "      <td>NaN</td>\n",
       "      <td>NaN</td>\n",
       "    </tr>\n",
       "    <tr>\n",
       "      <th>8285802</th>\n",
       "      <td>6JWWFFNUMY6Y</td>\n",
       "      <td>87c17e7fea263</td>\n",
       "      <td>1541324164</td>\n",
       "      <td>3</td>\n",
       "      <td>interaction item image</td>\n",
       "      <td>4572856</td>\n",
       "      <td>TR</td>\n",
       "      <td>Ankara, Turkey</td>\n",
       "      <td>mobile</td>\n",
       "      <td>NaN</td>\n",
       "      <td>NaN</td>\n",
       "      <td>NaN</td>\n",
       "    </tr>\n",
       "    <tr>\n",
       "      <th>8285803</th>\n",
       "      <td>6JWWFFNUMY6Y</td>\n",
       "      <td>87c17e7fea263</td>\n",
       "      <td>1541324164</td>\n",
       "      <td>4</td>\n",
       "      <td>interaction item image</td>\n",
       "      <td>4572856</td>\n",
       "      <td>TR</td>\n",
       "      <td>Ankara, Turkey</td>\n",
       "      <td>mobile</td>\n",
       "      <td>NaN</td>\n",
       "      <td>NaN</td>\n",
       "      <td>NaN</td>\n",
       "    </tr>\n",
       "    <tr>\n",
       "      <th>8285804</th>\n",
       "      <td>6JWWFFNUMY6Y</td>\n",
       "      <td>87c17e7fea263</td>\n",
       "      <td>1541324164</td>\n",
       "      <td>5</td>\n",
       "      <td>interaction item image</td>\n",
       "      <td>4572856</td>\n",
       "      <td>TR</td>\n",
       "      <td>Ankara, Turkey</td>\n",
       "      <td>mobile</td>\n",
       "      <td>NaN</td>\n",
       "      <td>NaN</td>\n",
       "      <td>NaN</td>\n",
       "    </tr>\n",
       "    <tr>\n",
       "      <th>...</th>\n",
       "      <td>...</td>\n",
       "      <td>...</td>\n",
       "      <td>...</td>\n",
       "      <td>...</td>\n",
       "      <td>...</td>\n",
       "      <td>...</td>\n",
       "      <td>...</td>\n",
       "      <td>...</td>\n",
       "      <td>...</td>\n",
       "      <td>...</td>\n",
       "      <td>...</td>\n",
       "      <td>...</td>\n",
       "    </tr>\n",
       "    <tr>\n",
       "      <th>13455982</th>\n",
       "      <td>6JWWFFNUMY6Y</td>\n",
       "      <td>58a263c18b945</td>\n",
       "      <td>1541367642</td>\n",
       "      <td>2215</td>\n",
       "      <td>interaction item rating</td>\n",
       "      <td>36455</td>\n",
       "      <td>TR</td>\n",
       "      <td>Ankara, Turkey</td>\n",
       "      <td>mobile</td>\n",
       "      <td>NaN</td>\n",
       "      <td>NaN</td>\n",
       "      <td>NaN</td>\n",
       "    </tr>\n",
       "    <tr>\n",
       "      <th>13455983</th>\n",
       "      <td>6JWWFFNUMY6Y</td>\n",
       "      <td>58a263c18b945</td>\n",
       "      <td>1541367642</td>\n",
       "      <td>2216</td>\n",
       "      <td>interaction item info</td>\n",
       "      <td>2432156</td>\n",
       "      <td>TR</td>\n",
       "      <td>Ankara, Turkey</td>\n",
       "      <td>mobile</td>\n",
       "      <td>NaN</td>\n",
       "      <td>NaN</td>\n",
       "      <td>NaN</td>\n",
       "    </tr>\n",
       "    <tr>\n",
       "      <th>13455984</th>\n",
       "      <td>6JWWFFNUMY6Y</td>\n",
       "      <td>58a263c18b945</td>\n",
       "      <td>1541367643</td>\n",
       "      <td>2217</td>\n",
       "      <td>interaction item image</td>\n",
       "      <td>36455</td>\n",
       "      <td>TR</td>\n",
       "      <td>Ankara, Turkey</td>\n",
       "      <td>mobile</td>\n",
       "      <td>NaN</td>\n",
       "      <td>NaN</td>\n",
       "      <td>NaN</td>\n",
       "    </tr>\n",
       "    <tr>\n",
       "      <th>13455985</th>\n",
       "      <td>6JWWFFNUMY6Y</td>\n",
       "      <td>58a263c18b945</td>\n",
       "      <td>1541367643</td>\n",
       "      <td>2218</td>\n",
       "      <td>interaction item image</td>\n",
       "      <td>36455</td>\n",
       "      <td>TR</td>\n",
       "      <td>Ankara, Turkey</td>\n",
       "      <td>mobile</td>\n",
       "      <td>NaN</td>\n",
       "      <td>NaN</td>\n",
       "      <td>NaN</td>\n",
       "    </tr>\n",
       "    <tr>\n",
       "      <th>13455986</th>\n",
       "      <td>6JWWFFNUMY6Y</td>\n",
       "      <td>58a263c18b945</td>\n",
       "      <td>1541367643</td>\n",
       "      <td>2219</td>\n",
       "      <td>interaction item rating</td>\n",
       "      <td>36455</td>\n",
       "      <td>TR</td>\n",
       "      <td>Ankara, Turkey</td>\n",
       "      <td>mobile</td>\n",
       "      <td>NaN</td>\n",
       "      <td>NaN</td>\n",
       "      <td>NaN</td>\n",
       "    </tr>\n",
       "  </tbody>\n",
       "</table>\n",
       "<p>6230 rows × 12 columns</p>\n",
       "</div>"
      ],
      "text/plain": [
       "               user_id     session_id   timestamp  step  \\\n",
       "8285800   6JWWFFNUMY6Y  87c17e7fea263  1541324109     1   \n",
       "8285801   6JWWFFNUMY6Y  87c17e7fea263  1541324131     2   \n",
       "8285802   6JWWFFNUMY6Y  87c17e7fea263  1541324164     3   \n",
       "8285803   6JWWFFNUMY6Y  87c17e7fea263  1541324164     4   \n",
       "8285804   6JWWFFNUMY6Y  87c17e7fea263  1541324164     5   \n",
       "...                ...            ...         ...   ...   \n",
       "13455982  6JWWFFNUMY6Y  58a263c18b945  1541367642  2215   \n",
       "13455983  6JWWFFNUMY6Y  58a263c18b945  1541367642  2216   \n",
       "13455984  6JWWFFNUMY6Y  58a263c18b945  1541367643  2217   \n",
       "13455985  6JWWFFNUMY6Y  58a263c18b945  1541367643  2218   \n",
       "13455986  6JWWFFNUMY6Y  58a263c18b945  1541367643  2219   \n",
       "\n",
       "                      action_type                reference platform  \\\n",
       "8285800    search for destination           Ankara, Turkey       TR   \n",
       "8285801      change of sort order  interaction sort button       TR   \n",
       "8285802    interaction item image                  4572856       TR   \n",
       "8285803    interaction item image                  4572856       TR   \n",
       "8285804    interaction item image                  4572856       TR   \n",
       "...                           ...                      ...      ...   \n",
       "13455982  interaction item rating                    36455       TR   \n",
       "13455983    interaction item info                  2432156       TR   \n",
       "13455984   interaction item image                    36455       TR   \n",
       "13455985   interaction item image                    36455       TR   \n",
       "13455986  interaction item rating                    36455       TR   \n",
       "\n",
       "                    city  device current_filters impressions prices  \n",
       "8285800   Ankara, Turkey  mobile             NaN         NaN    NaN  \n",
       "8285801   Ankara, Turkey  mobile             NaN         NaN    NaN  \n",
       "8285802   Ankara, Turkey  mobile             NaN         NaN    NaN  \n",
       "8285803   Ankara, Turkey  mobile             NaN         NaN    NaN  \n",
       "8285804   Ankara, Turkey  mobile             NaN         NaN    NaN  \n",
       "...                  ...     ...             ...         ...    ...  \n",
       "13455982  Ankara, Turkey  mobile             NaN         NaN    NaN  \n",
       "13455983  Ankara, Turkey  mobile             NaN         NaN    NaN  \n",
       "13455984  Ankara, Turkey  mobile             NaN         NaN    NaN  \n",
       "13455985  Ankara, Turkey  mobile             NaN         NaN    NaN  \n",
       "13455986  Ankara, Turkey  mobile             NaN         NaN    NaN  \n",
       "\n",
       "[6230 rows x 12 columns]"
      ]
     },
     "execution_count": 12,
     "metadata": {},
     "output_type": "execute_result"
    }
   ],
   "source": [
    "u_id = user_id_count[user_id_count['count'] > 1000].iloc[0]['user_id'];\n",
    "u_actions = df_train[df_train['user_id'] == u_id];\n",
    "u_actions"
   ]
  },
  {
   "cell_type": "markdown",
   "metadata": {},
   "source": [
    "#### Počet krokov v jednotlivých session"
   ]
  },
  {
   "cell_type": "code",
   "execution_count": 13,
   "metadata": {},
   "outputs": [
    {
     "data": {
      "text/html": [
       "<div>\n",
       "<style scoped>\n",
       "    .dataframe tbody tr th:only-of-type {\n",
       "        vertical-align: middle;\n",
       "    }\n",
       "\n",
       "    .dataframe tbody tr th {\n",
       "        vertical-align: top;\n",
       "    }\n",
       "\n",
       "    .dataframe thead th {\n",
       "        text-align: right;\n",
       "    }\n",
       "</style>\n",
       "<table border=\"1\" class=\"dataframe\">\n",
       "  <thead>\n",
       "    <tr style=\"text-align: right;\">\n",
       "      <th></th>\n",
       "      <th>session_id</th>\n",
       "      <th>step</th>\n",
       "    </tr>\n",
       "  </thead>\n",
       "  <tbody>\n",
       "    <tr>\n",
       "      <th>0</th>\n",
       "      <td>3167404ed3197</td>\n",
       "      <td>3522</td>\n",
       "    </tr>\n",
       "    <tr>\n",
       "      <th>1</th>\n",
       "      <td>58a263c18b945</td>\n",
       "      <td>2219</td>\n",
       "    </tr>\n",
       "    <tr>\n",
       "      <th>2</th>\n",
       "      <td>7feceecc473c1</td>\n",
       "      <td>438</td>\n",
       "    </tr>\n",
       "    <tr>\n",
       "      <th>3</th>\n",
       "      <td>87c17e7fea263</td>\n",
       "      <td>51</td>\n",
       "    </tr>\n",
       "  </tbody>\n",
       "</table>\n",
       "</div>"
      ],
      "text/plain": [
       "      session_id  step\n",
       "0  3167404ed3197  3522\n",
       "1  58a263c18b945  2219\n",
       "2  7feceecc473c1   438\n",
       "3  87c17e7fea263    51"
      ]
     },
     "execution_count": 13,
     "metadata": {},
     "output_type": "execute_result"
    }
   ],
   "source": [
    "u_actions_grouped = u_actions.groupby('session_id',as_index=False)\n",
    "u_actions_grouped['step'].last()"
   ]
  },
  {
   "cell_type": "markdown",
   "metadata": {},
   "source": [
    "Daný používateľ má v databáze dosť záznamov ale je to len zopár dlhých (v počte krokov) sessions. Niektoré z jeho akcií sú príliš blízko seba (timestamp) - v jednej sekunde dokázal robiť niekoľko akcií.\n",
    "Domnievame sa, že môže ísť o bota. Túto teóriu by sme chceli potvrdiť alebo vyvrátiť tým, že sa pozrieme na priemerný čas danej session a daných interakcií."
   ]
  },
  {
   "cell_type": "markdown",
   "metadata": {},
   "source": [
    "#### Čas session a priemerný čas kroku"
   ]
  },
  {
   "cell_type": "code",
   "execution_count": 14,
   "metadata": {},
   "outputs": [
    {
     "data": {
      "text/html": [
       "<div>\n",
       "<style scoped>\n",
       "    .dataframe tbody tr th:only-of-type {\n",
       "        vertical-align: middle;\n",
       "    }\n",
       "\n",
       "    .dataframe tbody tr th {\n",
       "        vertical-align: top;\n",
       "    }\n",
       "\n",
       "    .dataframe thead th {\n",
       "        text-align: right;\n",
       "    }\n",
       "</style>\n",
       "<table border=\"1\" class=\"dataframe\">\n",
       "  <thead>\n",
       "    <tr style=\"text-align: right;\">\n",
       "      <th></th>\n",
       "      <th>first</th>\n",
       "      <th>last</th>\n",
       "    </tr>\n",
       "    <tr>\n",
       "      <th>session_id</th>\n",
       "      <th></th>\n",
       "      <th></th>\n",
       "    </tr>\n",
       "  </thead>\n",
       "  <tbody>\n",
       "    <tr>\n",
       "      <th>3167404ed3197</th>\n",
       "      <td>1541367709</td>\n",
       "      <td>1541368776</td>\n",
       "    </tr>\n",
       "    <tr>\n",
       "      <th>58a263c18b945</th>\n",
       "      <td>1541366414</td>\n",
       "      <td>1541367643</td>\n",
       "    </tr>\n",
       "    <tr>\n",
       "      <th>7feceecc473c1</th>\n",
       "      <td>1541361885</td>\n",
       "      <td>1541365480</td>\n",
       "    </tr>\n",
       "    <tr>\n",
       "      <th>87c17e7fea263</th>\n",
       "      <td>1541324109</td>\n",
       "      <td>1541324518</td>\n",
       "    </tr>\n",
       "  </tbody>\n",
       "</table>\n",
       "</div>"
      ],
      "text/plain": [
       "                    first        last\n",
       "session_id                           \n",
       "3167404ed3197  1541367709  1541368776\n",
       "58a263c18b945  1541366414  1541367643\n",
       "7feceecc473c1  1541361885  1541365480\n",
       "87c17e7fea263  1541324109  1541324518"
      ]
     },
     "execution_count": 14,
     "metadata": {},
     "output_type": "execute_result"
    }
   ],
   "source": [
    "u_actions_grouped['timestamp']\\\n",
    ".agg(['first','last'])"
   ]
  },
  {
   "cell_type": "code",
   "execution_count": 15,
   "metadata": {},
   "outputs": [
    {
     "data": {
      "text/html": [
       "<div>\n",
       "<style scoped>\n",
       "    .dataframe tbody tr th:only-of-type {\n",
       "        vertical-align: middle;\n",
       "    }\n",
       "\n",
       "    .dataframe tbody tr th {\n",
       "        vertical-align: top;\n",
       "    }\n",
       "\n",
       "    .dataframe thead th {\n",
       "        text-align: right;\n",
       "    }\n",
       "</style>\n",
       "<table border=\"1\" class=\"dataframe\">\n",
       "  <thead>\n",
       "    <tr style=\"text-align: right;\">\n",
       "      <th></th>\n",
       "      <th>session_id</th>\n",
       "      <th>steps</th>\n",
       "      <th>session_length</th>\n",
       "      <th>avg_step_duration_seconds</th>\n",
       "    </tr>\n",
       "  </thead>\n",
       "  <tbody>\n",
       "    <tr>\n",
       "      <th>0</th>\n",
       "      <td>3167404ed3197</td>\n",
       "      <td>3522</td>\n",
       "      <td>17.78</td>\n",
       "      <td>0.302953</td>\n",
       "    </tr>\n",
       "    <tr>\n",
       "      <th>1</th>\n",
       "      <td>58a263c18b945</td>\n",
       "      <td>2219</td>\n",
       "      <td>20.48</td>\n",
       "      <td>0.553853</td>\n",
       "    </tr>\n",
       "    <tr>\n",
       "      <th>2</th>\n",
       "      <td>7feceecc473c1</td>\n",
       "      <td>438</td>\n",
       "      <td>59.92</td>\n",
       "      <td>8.207763</td>\n",
       "    </tr>\n",
       "    <tr>\n",
       "      <th>3</th>\n",
       "      <td>87c17e7fea263</td>\n",
       "      <td>51</td>\n",
       "      <td>6.82</td>\n",
       "      <td>8.019608</td>\n",
       "    </tr>\n",
       "  </tbody>\n",
       "</table>\n",
       "</div>"
      ],
      "text/plain": [
       "      session_id  steps  session_length  avg_step_duration_seconds\n",
       "0  3167404ed3197   3522           17.78                   0.302953\n",
       "1  58a263c18b945   2219           20.48                   0.553853\n",
       "2  7feceecc473c1    438           59.92                   8.207763\n",
       "3  87c17e7fea263     51            6.82                   8.019608"
      ]
     },
     "execution_count": 15,
     "metadata": {},
     "output_type": "execute_result"
    }
   ],
   "source": [
    "def min_max_diff(x):\n",
    "    return x.max()-x.min()\n",
    "\n",
    "def avg_step_duration(row):\n",
    "    return row['session_length'] / row['steps']\n",
    "\n",
    "def seconds_to_minutes(seconds):\n",
    "    return round(seconds/60,2)\n",
    "\n",
    "u_actions_per_session = u_actions_grouped\\\n",
    ".agg(\n",
    "    steps=('step','last'),\n",
    "    session_length=('timestamp',min_max_diff),\n",
    ")\n",
    "\n",
    "# calculate avergate duration of step\n",
    "u_actions_per_session['avg_step_duration_seconds'] = u_actions_per_session.apply(avg_step_duration,axis=1);\n",
    "\n",
    "# transform session length into minutes\n",
    "u_actions_per_session['session_length'] = u_actions_per_session['session_length'].apply(seconds_to_minutes);\n",
    "\n",
    "u_actions_per_session"
   ]
  },
  {
   "cell_type": "markdown",
   "metadata": {},
   "source": [
    "#### Paralelné akcie"
   ]
  },
  {
   "cell_type": "markdown",
   "metadata": {},
   "source": [
    "Dané session sú síce dlhé, ale priemerný čas pre jednu akciu vychádza pod sekundu - čo nie je reálne u používateľa - človeka.\n",
    "\n",
    "Chceme sa teda pozrieť, o aké akcie ide."
   ]
  },
  {
   "cell_type": "code",
   "execution_count": 16,
   "metadata": {},
   "outputs": [
    {
     "data": {
      "text/html": [
       "<div>\n",
       "<style scoped>\n",
       "    .dataframe tbody tr th:only-of-type {\n",
       "        vertical-align: middle;\n",
       "    }\n",
       "\n",
       "    .dataframe tbody tr th {\n",
       "        vertical-align: top;\n",
       "    }\n",
       "\n",
       "    .dataframe thead th {\n",
       "        text-align: right;\n",
       "    }\n",
       "</style>\n",
       "<table border=\"1\" class=\"dataframe\">\n",
       "  <thead>\n",
       "    <tr style=\"text-align: right;\">\n",
       "      <th></th>\n",
       "      <th>user_id</th>\n",
       "      <th>session_id</th>\n",
       "      <th>timestamp</th>\n",
       "      <th>step</th>\n",
       "      <th>action_type</th>\n",
       "      <th>reference</th>\n",
       "      <th>platform</th>\n",
       "      <th>city</th>\n",
       "      <th>device</th>\n",
       "      <th>current_filters</th>\n",
       "      <th>impressions</th>\n",
       "      <th>prices</th>\n",
       "    </tr>\n",
       "  </thead>\n",
       "  <tbody>\n",
       "    <tr>\n",
       "      <th>8285802</th>\n",
       "      <td>6JWWFFNUMY6Y</td>\n",
       "      <td>87c17e7fea263</td>\n",
       "      <td>1541324164</td>\n",
       "      <td>3</td>\n",
       "      <td>interaction item image</td>\n",
       "      <td>4572856</td>\n",
       "      <td>TR</td>\n",
       "      <td>Ankara, Turkey</td>\n",
       "      <td>mobile</td>\n",
       "      <td>NaN</td>\n",
       "      <td>NaN</td>\n",
       "      <td>NaN</td>\n",
       "    </tr>\n",
       "    <tr>\n",
       "      <th>8285803</th>\n",
       "      <td>6JWWFFNUMY6Y</td>\n",
       "      <td>87c17e7fea263</td>\n",
       "      <td>1541324164</td>\n",
       "      <td>4</td>\n",
       "      <td>interaction item image</td>\n",
       "      <td>4572856</td>\n",
       "      <td>TR</td>\n",
       "      <td>Ankara, Turkey</td>\n",
       "      <td>mobile</td>\n",
       "      <td>NaN</td>\n",
       "      <td>NaN</td>\n",
       "      <td>NaN</td>\n",
       "    </tr>\n",
       "    <tr>\n",
       "      <th>8285804</th>\n",
       "      <td>6JWWFFNUMY6Y</td>\n",
       "      <td>87c17e7fea263</td>\n",
       "      <td>1541324164</td>\n",
       "      <td>5</td>\n",
       "      <td>interaction item image</td>\n",
       "      <td>4572856</td>\n",
       "      <td>TR</td>\n",
       "      <td>Ankara, Turkey</td>\n",
       "      <td>mobile</td>\n",
       "      <td>NaN</td>\n",
       "      <td>NaN</td>\n",
       "      <td>NaN</td>\n",
       "    </tr>\n",
       "    <tr>\n",
       "      <th>8285805</th>\n",
       "      <td>6JWWFFNUMY6Y</td>\n",
       "      <td>87c17e7fea263</td>\n",
       "      <td>1541324164</td>\n",
       "      <td>6</td>\n",
       "      <td>interaction item image</td>\n",
       "      <td>4572856</td>\n",
       "      <td>TR</td>\n",
       "      <td>Ankara, Turkey</td>\n",
       "      <td>mobile</td>\n",
       "      <td>NaN</td>\n",
       "      <td>NaN</td>\n",
       "      <td>NaN</td>\n",
       "    </tr>\n",
       "    <tr>\n",
       "      <th>8285806</th>\n",
       "      <td>6JWWFFNUMY6Y</td>\n",
       "      <td>87c17e7fea263</td>\n",
       "      <td>1541324164</td>\n",
       "      <td>7</td>\n",
       "      <td>interaction item image</td>\n",
       "      <td>4572856</td>\n",
       "      <td>TR</td>\n",
       "      <td>Ankara, Turkey</td>\n",
       "      <td>mobile</td>\n",
       "      <td>NaN</td>\n",
       "      <td>NaN</td>\n",
       "      <td>NaN</td>\n",
       "    </tr>\n",
       "  </tbody>\n",
       "</table>\n",
       "</div>"
      ],
      "text/plain": [
       "              user_id     session_id   timestamp  step  \\\n",
       "8285802  6JWWFFNUMY6Y  87c17e7fea263  1541324164     3   \n",
       "8285803  6JWWFFNUMY6Y  87c17e7fea263  1541324164     4   \n",
       "8285804  6JWWFFNUMY6Y  87c17e7fea263  1541324164     5   \n",
       "8285805  6JWWFFNUMY6Y  87c17e7fea263  1541324164     6   \n",
       "8285806  6JWWFFNUMY6Y  87c17e7fea263  1541324164     7   \n",
       "\n",
       "                    action_type reference platform            city  device  \\\n",
       "8285802  interaction item image   4572856       TR  Ankara, Turkey  mobile   \n",
       "8285803  interaction item image   4572856       TR  Ankara, Turkey  mobile   \n",
       "8285804  interaction item image   4572856       TR  Ankara, Turkey  mobile   \n",
       "8285805  interaction item image   4572856       TR  Ankara, Turkey  mobile   \n",
       "8285806  interaction item image   4572856       TR  Ankara, Turkey  mobile   \n",
       "\n",
       "        current_filters impressions prices  \n",
       "8285802             NaN         NaN    NaN  \n",
       "8285803             NaN         NaN    NaN  \n",
       "8285804             NaN         NaN    NaN  \n",
       "8285805             NaN         NaN    NaN  \n",
       "8285806             NaN         NaN    NaN  "
      ]
     },
     "execution_count": 16,
     "metadata": {},
     "output_type": "execute_result"
    }
   ],
   "source": [
    "u_actions_same_time = u_actions.groupby(['session_id','timestamp'],as_index=False).filter(lambda x: len(x['step'].unique()) > 1)\n",
    "u_actions_same_time.head(5)"
   ]
  },
  {
   "cell_type": "code",
   "execution_count": 17,
   "metadata": {},
   "outputs": [
    {
     "data": {
      "text/html": [
       "<div>\n",
       "<style scoped>\n",
       "    .dataframe tbody tr th:only-of-type {\n",
       "        vertical-align: middle;\n",
       "    }\n",
       "\n",
       "    .dataframe tbody tr th {\n",
       "        vertical-align: top;\n",
       "    }\n",
       "\n",
       "    .dataframe thead th {\n",
       "        text-align: right;\n",
       "    }\n",
       "</style>\n",
       "<table border=\"1\" class=\"dataframe\">\n",
       "  <thead>\n",
       "    <tr style=\"text-align: right;\">\n",
       "      <th></th>\n",
       "      <th>session_id</th>\n",
       "      <th>timestamp</th>\n",
       "      <th>action_type</th>\n",
       "      <th>count</th>\n",
       "    </tr>\n",
       "  </thead>\n",
       "  <tbody>\n",
       "    <tr>\n",
       "      <th>0</th>\n",
       "      <td>3167404ed3197</td>\n",
       "      <td>1541367709</td>\n",
       "      <td>interaction item image</td>\n",
       "      <td>14</td>\n",
       "    </tr>\n",
       "    <tr>\n",
       "      <th>1</th>\n",
       "      <td>3167404ed3197</td>\n",
       "      <td>1541367710</td>\n",
       "      <td>interaction item image</td>\n",
       "      <td>19</td>\n",
       "    </tr>\n",
       "    <tr>\n",
       "      <th>2</th>\n",
       "      <td>3167404ed3197</td>\n",
       "      <td>1541367710</td>\n",
       "      <td>interaction item rating</td>\n",
       "      <td>2</td>\n",
       "    </tr>\n",
       "    <tr>\n",
       "      <th>3</th>\n",
       "      <td>3167404ed3197</td>\n",
       "      <td>1541367712</td>\n",
       "      <td>interaction item image</td>\n",
       "      <td>31</td>\n",
       "    </tr>\n",
       "    <tr>\n",
       "      <th>4</th>\n",
       "      <td>3167404ed3197</td>\n",
       "      <td>1541367712</td>\n",
       "      <td>interaction item rating</td>\n",
       "      <td>1</td>\n",
       "    </tr>\n",
       "    <tr>\n",
       "      <th>...</th>\n",
       "      <td>...</td>\n",
       "      <td>...</td>\n",
       "      <td>...</td>\n",
       "      <td>...</td>\n",
       "    </tr>\n",
       "    <tr>\n",
       "      <th>506</th>\n",
       "      <td>7feceecc473c1</td>\n",
       "      <td>1541365480</td>\n",
       "      <td>interaction item image</td>\n",
       "      <td>4</td>\n",
       "    </tr>\n",
       "    <tr>\n",
       "      <th>507</th>\n",
       "      <td>87c17e7fea263</td>\n",
       "      <td>1541324164</td>\n",
       "      <td>interaction item image</td>\n",
       "      <td>12</td>\n",
       "    </tr>\n",
       "    <tr>\n",
       "      <th>508</th>\n",
       "      <td>87c17e7fea263</td>\n",
       "      <td>1541324174</td>\n",
       "      <td>interaction item image</td>\n",
       "      <td>9</td>\n",
       "    </tr>\n",
       "    <tr>\n",
       "      <th>509</th>\n",
       "      <td>87c17e7fea263</td>\n",
       "      <td>1541324184</td>\n",
       "      <td>interaction item image</td>\n",
       "      <td>13</td>\n",
       "    </tr>\n",
       "    <tr>\n",
       "      <th>510</th>\n",
       "      <td>87c17e7fea263</td>\n",
       "      <td>1541324226</td>\n",
       "      <td>interaction item image</td>\n",
       "      <td>12</td>\n",
       "    </tr>\n",
       "  </tbody>\n",
       "</table>\n",
       "<p>511 rows × 4 columns</p>\n",
       "</div>"
      ],
      "text/plain": [
       "        session_id   timestamp              action_type  count\n",
       "0    3167404ed3197  1541367709   interaction item image     14\n",
       "1    3167404ed3197  1541367710   interaction item image     19\n",
       "2    3167404ed3197  1541367710  interaction item rating      2\n",
       "3    3167404ed3197  1541367712   interaction item image     31\n",
       "4    3167404ed3197  1541367712  interaction item rating      1\n",
       "..             ...         ...                      ...    ...\n",
       "506  7feceecc473c1  1541365480   interaction item image      4\n",
       "507  87c17e7fea263  1541324164   interaction item image     12\n",
       "508  87c17e7fea263  1541324174   interaction item image      9\n",
       "509  87c17e7fea263  1541324184   interaction item image     13\n",
       "510  87c17e7fea263  1541324226   interaction item image     12\n",
       "\n",
       "[511 rows x 4 columns]"
      ]
     },
     "execution_count": 17,
     "metadata": {},
     "output_type": "execute_result"
    }
   ],
   "source": [
    "u_actions_same_time_count = u_actions_same_time.groupby(['session_id','timestamp','action_type'])['timestamp'].count().reset_index(name=\"count\")\n",
    "u_actions_same_time_count"
   ]
  },
  {
   "cell_type": "markdown",
   "metadata": {},
   "source": [
    "Vidíme že ide o nasledovné akcie typu:"
   ]
  },
  {
   "cell_type": "code",
   "execution_count": 18,
   "metadata": {},
   "outputs": [
    {
     "data": {
      "text/plain": [
       "array(['interaction item image', 'interaction item rating',\n",
       "       'filter selection', 'change of sort order',\n",
       "       'interaction item info', 'interaction item deals'], dtype=object)"
      ]
     },
     "execution_count": 18,
     "metadata": {},
     "output_type": "execute_result"
    }
   ],
   "source": [
    "u_actions_same_time_count.action_type.unique()"
   ]
  },
  {
   "cell_type": "markdown",
   "metadata": {},
   "source": [
    "### Atribút session"
   ]
  },
  {
   "cell_type": "markdown",
   "metadata": {},
   "source": [
    "Opäť ide o kategorický atribút. Vyjadruje unikátny identifikátor session."
   ]
  },
  {
   "cell_type": "code",
   "execution_count": 19,
   "metadata": {},
   "outputs": [
    {
     "data": {
      "text/plain": [
       "910683"
      ]
     },
     "execution_count": 19,
     "metadata": {},
     "output_type": "execute_result"
    }
   ],
   "source": [
    "len(df_train.session_id.unique())"
   ]
  },
  {
   "cell_type": "markdown",
   "metadata": {},
   "source": [
    "Zaujímavou štatistikou je napríklad, koľko má ktorý používateľ sessions, a určiť outlierov."
   ]
  },
  {
   "cell_type": "code",
   "execution_count": 20,
   "metadata": {},
   "outputs": [
    {
     "data": {
      "text/html": [
       "<div>\n",
       "<style scoped>\n",
       "    .dataframe tbody tr th:only-of-type {\n",
       "        vertical-align: middle;\n",
       "    }\n",
       "\n",
       "    .dataframe tbody tr th {\n",
       "        vertical-align: top;\n",
       "    }\n",
       "\n",
       "    .dataframe thead th {\n",
       "        text-align: right;\n",
       "    }\n",
       "</style>\n",
       "<table border=\"1\" class=\"dataframe\">\n",
       "  <thead>\n",
       "    <tr style=\"text-align: right;\">\n",
       "      <th></th>\n",
       "      <th>user_id</th>\n",
       "      <th>count</th>\n",
       "    </tr>\n",
       "  </thead>\n",
       "  <tbody>\n",
       "    <tr>\n",
       "      <th>0</th>\n",
       "      <td>0001VQMGUI65</td>\n",
       "      <td>1</td>\n",
       "    </tr>\n",
       "    <tr>\n",
       "      <th>1</th>\n",
       "      <td>0003QTCX5MJX</td>\n",
       "      <td>1</td>\n",
       "    </tr>\n",
       "    <tr>\n",
       "      <th>2</th>\n",
       "      <td>0004IOZI7CKF</td>\n",
       "      <td>1</td>\n",
       "    </tr>\n",
       "    <tr>\n",
       "      <th>3</th>\n",
       "      <td>0004WCFRV3FB</td>\n",
       "      <td>1</td>\n",
       "    </tr>\n",
       "    <tr>\n",
       "      <th>4</th>\n",
       "      <td>0006W0R5A5V8</td>\n",
       "      <td>1</td>\n",
       "    </tr>\n",
       "    <tr>\n",
       "      <th>...</th>\n",
       "      <td>...</td>\n",
       "      <td>...</td>\n",
       "    </tr>\n",
       "    <tr>\n",
       "      <th>730798</th>\n",
       "      <td>ZZZPKIEICNT9</td>\n",
       "      <td>1</td>\n",
       "    </tr>\n",
       "    <tr>\n",
       "      <th>730799</th>\n",
       "      <td>ZZZPQ336U50Y</td>\n",
       "      <td>1</td>\n",
       "    </tr>\n",
       "    <tr>\n",
       "      <th>730800</th>\n",
       "      <td>ZZZRFN2DZ2BV</td>\n",
       "      <td>1</td>\n",
       "    </tr>\n",
       "    <tr>\n",
       "      <th>730801</th>\n",
       "      <td>ZZZRTATPZ6I4</td>\n",
       "      <td>1</td>\n",
       "    </tr>\n",
       "    <tr>\n",
       "      <th>730802</th>\n",
       "      <td>ZZZSKOPW9P49</td>\n",
       "      <td>1</td>\n",
       "    </tr>\n",
       "  </tbody>\n",
       "</table>\n",
       "<p>730803 rows × 2 columns</p>\n",
       "</div>"
      ],
      "text/plain": [
       "             user_id  count\n",
       "0       0001VQMGUI65      1\n",
       "1       0003QTCX5MJX      1\n",
       "2       0004IOZI7CKF      1\n",
       "3       0004WCFRV3FB      1\n",
       "4       0006W0R5A5V8      1\n",
       "...              ...    ...\n",
       "730798  ZZZPKIEICNT9      1\n",
       "730799  ZZZPQ336U50Y      1\n",
       "730800  ZZZRFN2DZ2BV      1\n",
       "730801  ZZZRTATPZ6I4      1\n",
       "730802  ZZZSKOPW9P49      1\n",
       "\n",
       "[730803 rows x 2 columns]"
      ]
     },
     "execution_count": 20,
     "metadata": {},
     "output_type": "execute_result"
    }
   ],
   "source": [
    "u_session_count = df_train.groupby(['user_id'])['session_id'].nunique().reset_index(name='count')\n",
    "u_session_count"
   ]
  },
  {
   "cell_type": "code",
   "execution_count": 21,
   "metadata": {},
   "outputs": [
    {
     "data": {
      "text/html": [
       "<div>\n",
       "<style scoped>\n",
       "    .dataframe tbody tr th:only-of-type {\n",
       "        vertical-align: middle;\n",
       "    }\n",
       "\n",
       "    .dataframe tbody tr th {\n",
       "        vertical-align: top;\n",
       "    }\n",
       "\n",
       "    .dataframe thead th {\n",
       "        text-align: right;\n",
       "    }\n",
       "</style>\n",
       "<table border=\"1\" class=\"dataframe\">\n",
       "  <thead>\n",
       "    <tr style=\"text-align: right;\">\n",
       "      <th></th>\n",
       "      <th>count</th>\n",
       "    </tr>\n",
       "  </thead>\n",
       "  <tbody>\n",
       "    <tr>\n",
       "      <th>count</th>\n",
       "      <td>730803.000000</td>\n",
       "    </tr>\n",
       "    <tr>\n",
       "      <th>mean</th>\n",
       "      <td>1.246140</td>\n",
       "    </tr>\n",
       "    <tr>\n",
       "      <th>std</th>\n",
       "      <td>0.750184</td>\n",
       "    </tr>\n",
       "    <tr>\n",
       "      <th>min</th>\n",
       "      <td>1.000000</td>\n",
       "    </tr>\n",
       "    <tr>\n",
       "      <th>25%</th>\n",
       "      <td>1.000000</td>\n",
       "    </tr>\n",
       "    <tr>\n",
       "      <th>50%</th>\n",
       "      <td>1.000000</td>\n",
       "    </tr>\n",
       "    <tr>\n",
       "      <th>75%</th>\n",
       "      <td>1.000000</td>\n",
       "    </tr>\n",
       "    <tr>\n",
       "      <th>max</th>\n",
       "      <td>201.000000</td>\n",
       "    </tr>\n",
       "  </tbody>\n",
       "</table>\n",
       "</div>"
      ],
      "text/plain": [
       "               count\n",
       "count  730803.000000\n",
       "mean        1.246140\n",
       "std         0.750184\n",
       "min         1.000000\n",
       "25%         1.000000\n",
       "50%         1.000000\n",
       "75%         1.000000\n",
       "max       201.000000"
      ]
     },
     "execution_count": 21,
     "metadata": {},
     "output_type": "execute_result"
    }
   ],
   "source": [
    "u_session_count.describe()"
   ]
  },
  {
   "cell_type": "code",
   "execution_count": 22,
   "metadata": {},
   "outputs": [
    {
     "data": {
      "image/png": "[encoded data removed]",
      "text/plain": [
       "<Figure size 432x288 with 1 Axes>"
      ]
     },
     "metadata": {
      "needs_background": "light"
     },
     "output_type": "display_data"
    }
   ],
   "source": [
    "sns.boxplot(data=u_session_count).set(title=\"Number of sessions per user\");"
   ]
  },
  {
   "cell_type": "code",
   "execution_count": 23,
   "metadata": {},
   "outputs": [
    {
     "name": "stderr",
     "output_type": "stream",
     "text": [
      "/var/folders/r8/3c5wqhdd503c57q35gcyk3b80000gn/T/ipykernel_81663/1737651595.py:19: UserWarning: You have mixed positional and keyword arguments, some input may be discarded.\n",
      "  patches = plt.legend(patches, labels=u_session_count_groups['type'])\n"
     ]
    },
    {
     "data": {
      "image/png": "[encoded data removed]",
      "text/plain": [
       "<Figure size 720x432 with 1 Axes>"
      ]
     },
     "metadata": {},
     "output_type": "display_data"
    }
   ],
   "source": [
    "u_session_count_groups = pd.DataFrame({\n",
    "    'type': [\n",
    "        'N>50',\n",
    "        '50>N>15',\n",
    "        '15>N>1',\n",
    "        'N=1'\n",
    "    ],\n",
    "    'count': [\n",
    "        u_session_count[u_session_count['count'] > 50].count()[0],\n",
    "        u_session_count[(u_session_count['count'] > 15) & (u_session_count['count'] < 50)].count()[0],\n",
    "        u_session_count[(u_session_count['count'] > 1) & (u_session_count['count'] < 50)].count()[0],\n",
    "        u_session_count[u_session_count['count'] == 1].count()[0],\n",
    "    ]\n",
    "});\n",
    "\n",
    "pi,ax = plt.subplots(figsize=[10,6]);\n",
    "\n",
    "plt.pie(x=u_session_count_groups['count'], explode=[0.1]*4, autopct=\"%.2f%%\");\n",
    "patches = plt.legend(patches, labels=u_session_count_groups['type'])\n",
    "plt.title('N - počet relácií unikátneho používateľa')\n",
    "plt.tight_layout()\n",
    "plt.show()"
   ]
  },
  {
   "cell_type": "markdown",
   "metadata": {},
   "source": [
    "Z grafu vidíme, že väčšina používateľov má jednu session."
   ]
  },
  {
   "cell_type": "markdown",
   "metadata": {},
   "source": [
    "#### Počet akcií (krokov) v jednej session"
   ]
  },
  {
   "cell_type": "markdown",
   "metadata": {},
   "source": [
    "Zaujímalo by nás, koľko akcií je v priemere v jednej session."
   ]
  },
  {
   "cell_type": "code",
   "execution_count": 24,
   "metadata": {},
   "outputs": [],
   "source": [
    "session_action_count = df_train.groupby(['session_id'])['action_type'].count().reset_index(name=\"count\")"
   ]
  },
  {
   "cell_type": "code",
   "execution_count": 25,
   "metadata": {},
   "outputs": [
    {
     "data": {
      "text/html": [
       "<div>\n",
       "<style scoped>\n",
       "    .dataframe tbody tr th:only-of-type {\n",
       "        vertical-align: middle;\n",
       "    }\n",
       "\n",
       "    .dataframe tbody tr th {\n",
       "        vertical-align: top;\n",
       "    }\n",
       "\n",
       "    .dataframe thead th {\n",
       "        text-align: right;\n",
       "    }\n",
       "</style>\n",
       "<table border=\"1\" class=\"dataframe\">\n",
       "  <thead>\n",
       "    <tr style=\"text-align: right;\">\n",
       "      <th></th>\n",
       "      <th>count</th>\n",
       "    </tr>\n",
       "  </thead>\n",
       "  <tbody>\n",
       "    <tr>\n",
       "      <th>count</th>\n",
       "      <td>910683.000000</td>\n",
       "    </tr>\n",
       "    <tr>\n",
       "      <th>mean</th>\n",
       "      <td>17.495651</td>\n",
       "    </tr>\n",
       "    <tr>\n",
       "      <th>std</th>\n",
       "      <td>48.181687</td>\n",
       "    </tr>\n",
       "    <tr>\n",
       "      <th>min</th>\n",
       "      <td>1.000000</td>\n",
       "    </tr>\n",
       "    <tr>\n",
       "      <th>25%</th>\n",
       "      <td>2.000000</td>\n",
       "    </tr>\n",
       "    <tr>\n",
       "      <th>50%</th>\n",
       "      <td>4.000000</td>\n",
       "    </tr>\n",
       "    <tr>\n",
       "      <th>75%</th>\n",
       "      <td>13.000000</td>\n",
       "    </tr>\n",
       "    <tr>\n",
       "      <th>max</th>\n",
       "      <td>3522.000000</td>\n",
       "    </tr>\n",
       "  </tbody>\n",
       "</table>\n",
       "</div>"
      ],
      "text/plain": [
       "               count\n",
       "count  910683.000000\n",
       "mean       17.495651\n",
       "std        48.181687\n",
       "min         1.000000\n",
       "25%         2.000000\n",
       "50%         4.000000\n",
       "75%        13.000000\n",
       "max      3522.000000"
      ]
     },
     "execution_count": 25,
     "metadata": {},
     "output_type": "execute_result"
    }
   ],
   "source": [
    "session_action_count.describe()"
   ]
  },
  {
   "cell_type": "code",
   "execution_count": 26,
   "metadata": {},
   "outputs": [
    {
     "data": {
      "image/png": "[encoded data removed]",
      "text/plain": [
       "<Figure size 432x288 with 1 Axes>"
      ]
     },
     "metadata": {
      "needs_background": "light"
     },
     "output_type": "display_data"
    }
   ],
   "source": [
    "sns.boxplot(data=session_action_count).set(title=\"Number of actions per session\");"
   ]
  },
  {
   "cell_type": "code",
   "execution_count": 27,
   "metadata": {},
   "outputs": [
    {
     "name": "stderr",
     "output_type": "stream",
     "text": [
      "/var/folders/r8/3c5wqhdd503c57q35gcyk3b80000gn/T/ipykernel_81663/3703885777.py:22: UserWarning: You have mixed positional and keyword arguments, some input may be discarded.\n",
      "  plt.legend(patches, labels=session_action_count_groups['type'])\n"
     ]
    },
    {
     "data": {
      "image/png": "[encoded data removed]",
      "text/plain": [
       "<Figure size 720x432 with 1 Axes>"
      ]
     },
     "metadata": {},
     "output_type": "display_data"
    }
   ],
   "source": [
    "session_action_count_groups = pd.DataFrame({\n",
    "   'type': [\n",
    "        'N>1000',\n",
    "        '1000>N>100',\n",
    "        '100>N>10',\n",
    "        '10>N>1',\n",
    "        'N=1'\n",
    "    ],\n",
    "    'count': [\n",
    "        session_action_count[session_action_count['count'] > 1000].count()[0],\n",
    "        session_action_count[(session_action_count['count'] > 100) & (session_action_count['count'] < 1000)].count()[0],\n",
    "        session_action_count[(session_action_count['count'] > 10) & (session_action_count['count'] < 100)].count()[0],\n",
    "        session_action_count[(session_action_count['count'] > 1) & (session_action_count['count'] < 10)].count()[0],\n",
    "        session_action_count[session_action_count['count'] == 1].count()[0]\n",
    "    ]\n",
    "});\n",
    "\n",
    "pi,ax = plt.subplots(figsize=[10,6]);\n",
    "\n",
    "plt.pie(x=session_action_count_groups['count'], explode=[0.1]*5, autopct=\"%.2f%%\");\n",
    "plt.title('N - počet akcií v jednotlivých reláciach ')\n",
    "plt.legend(patches, labels=session_action_count_groups['type'])\n",
    "plt.tight_layout()\n",
    "plt.show();"
   ]
  },
  {
   "cell_type": "markdown",
   "metadata": {},
   "source": [
    "Vidíme, že tu su už dáta pomerne pekne distribuované. Na grafe môžme vidieť, že necelá polovica sessions má od 1-10 akcií. Vyše štvrtina je v rozpätií 10-100. Necelá štvrtina sú single-step sessions. "
   ]
  },
  {
   "cell_type": "markdown",
   "metadata": {},
   "source": [
    "#### Dĺžka sessions"
   ]
  },
  {
   "cell_type": "code",
   "execution_count": 28,
   "metadata": {},
   "outputs": [
    {
     "data": {
      "text/html": [
       "<div>\n",
       "<style scoped>\n",
       "    .dataframe tbody tr th:only-of-type {\n",
       "        vertical-align: middle;\n",
       "    }\n",
       "\n",
       "    .dataframe tbody tr th {\n",
       "        vertical-align: top;\n",
       "    }\n",
       "\n",
       "    .dataframe thead th {\n",
       "        text-align: right;\n",
       "    }\n",
       "</style>\n",
       "<table border=\"1\" class=\"dataframe\">\n",
       "  <thead>\n",
       "    <tr style=\"text-align: right;\">\n",
       "      <th></th>\n",
       "      <th>first</th>\n",
       "      <th>last</th>\n",
       "    </tr>\n",
       "    <tr>\n",
       "      <th>session_id</th>\n",
       "      <th></th>\n",
       "      <th></th>\n",
       "    </tr>\n",
       "  </thead>\n",
       "  <tbody>\n",
       "    <tr>\n",
       "      <th>00000510f1adc</th>\n",
       "      <td>1541064087</td>\n",
       "      <td>1541064087</td>\n",
       "    </tr>\n",
       "    <tr>\n",
       "      <th>00003f3b20954</th>\n",
       "      <td>1541097696</td>\n",
       "      <td>1541097696</td>\n",
       "    </tr>\n",
       "    <tr>\n",
       "      <th>000056cd97ce2</th>\n",
       "      <td>1541483846</td>\n",
       "      <td>1541484101</td>\n",
       "    </tr>\n",
       "    <tr>\n",
       "      <th>000066611146f</th>\n",
       "      <td>1541332305</td>\n",
       "      <td>1541332330</td>\n",
       "    </tr>\n",
       "    <tr>\n",
       "      <th>00008c1f39c46</th>\n",
       "      <td>1541302205</td>\n",
       "      <td>1541302405</td>\n",
       "    </tr>\n",
       "    <tr>\n",
       "      <th>...</th>\n",
       "      <td>...</td>\n",
       "      <td>...</td>\n",
       "    </tr>\n",
       "    <tr>\n",
       "      <th>tpc71ussgcuou</th>\n",
       "      <td>1541523289</td>\n",
       "      <td>1541523289</td>\n",
       "    </tr>\n",
       "    <tr>\n",
       "      <th>u5e4la6f115r1</th>\n",
       "      <td>1541529473</td>\n",
       "      <td>1541529473</td>\n",
       "    </tr>\n",
       "    <tr>\n",
       "      <th>udmhn71cn8500</th>\n",
       "      <td>1541245078</td>\n",
       "      <td>1541245315</td>\n",
       "    </tr>\n",
       "    <tr>\n",
       "      <th>v9815m0bctrm1</th>\n",
       "      <td>1541387197</td>\n",
       "      <td>1541387197</td>\n",
       "    </tr>\n",
       "    <tr>\n",
       "      <th>vg1t2qc04afrt</th>\n",
       "      <td>1541171155</td>\n",
       "      <td>1541171169</td>\n",
       "    </tr>\n",
       "  </tbody>\n",
       "</table>\n",
       "<p>910683 rows × 2 columns</p>\n",
       "</div>"
      ],
      "text/plain": [
       "                    first        last\n",
       "session_id                           \n",
       "00000510f1adc  1541064087  1541064087\n",
       "00003f3b20954  1541097696  1541097696\n",
       "000056cd97ce2  1541483846  1541484101\n",
       "000066611146f  1541332305  1541332330\n",
       "00008c1f39c46  1541302205  1541302405\n",
       "...                   ...         ...\n",
       "tpc71ussgcuou  1541523289  1541523289\n",
       "u5e4la6f115r1  1541529473  1541529473\n",
       "udmhn71cn8500  1541245078  1541245315\n",
       "v9815m0bctrm1  1541387197  1541387197\n",
       "vg1t2qc04afrt  1541171155  1541171169\n",
       "\n",
       "[910683 rows x 2 columns]"
      ]
     },
     "execution_count": 28,
     "metadata": {},
     "output_type": "execute_result"
    }
   ],
   "source": [
    "sessions_grouped = df_train.groupby(['session_id'])\n",
    "sessions_grouped['timestamp'].agg(['first','last'])"
   ]
  },
  {
   "cell_type": "code",
   "execution_count": 29,
   "metadata": {},
   "outputs": [],
   "source": [
    "session_steps_length = sessions_grouped\\\n",
    ".agg(\n",
    "    steps=('step','last'),\n",
    "    session_length=('timestamp',min_max_diff),\n",
    ")"
   ]
  },
  {
   "cell_type": "code",
   "execution_count": 30,
   "metadata": {},
   "outputs": [
    {
     "data": {
      "text/html": [
       "<div>\n",
       "<style scoped>\n",
       "    .dataframe tbody tr th:only-of-type {\n",
       "        vertical-align: middle;\n",
       "    }\n",
       "\n",
       "    .dataframe tbody tr th {\n",
       "        vertical-align: top;\n",
       "    }\n",
       "\n",
       "    .dataframe thead th {\n",
       "        text-align: right;\n",
       "    }\n",
       "</style>\n",
       "<table border=\"1\" class=\"dataframe\">\n",
       "  <thead>\n",
       "    <tr style=\"text-align: right;\">\n",
       "      <th></th>\n",
       "      <th>steps</th>\n",
       "      <th>session_length</th>\n",
       "      <th>avg_step_duration_seconds</th>\n",
       "    </tr>\n",
       "    <tr>\n",
       "      <th>session_id</th>\n",
       "      <th></th>\n",
       "      <th></th>\n",
       "      <th></th>\n",
       "    </tr>\n",
       "  </thead>\n",
       "  <tbody>\n",
       "    <tr>\n",
       "      <th>00000510f1adc</th>\n",
       "      <td>1</td>\n",
       "      <td>0.00</td>\n",
       "      <td>0.000000</td>\n",
       "    </tr>\n",
       "    <tr>\n",
       "      <th>00003f3b20954</th>\n",
       "      <td>1</td>\n",
       "      <td>0.00</td>\n",
       "      <td>0.000000</td>\n",
       "    </tr>\n",
       "    <tr>\n",
       "      <th>000056cd97ce2</th>\n",
       "      <td>4</td>\n",
       "      <td>4.25</td>\n",
       "      <td>63.750000</td>\n",
       "    </tr>\n",
       "    <tr>\n",
       "      <th>000066611146f</th>\n",
       "      <td>3</td>\n",
       "      <td>0.42</td>\n",
       "      <td>8.333333</td>\n",
       "    </tr>\n",
       "    <tr>\n",
       "      <th>00008c1f39c46</th>\n",
       "      <td>4</td>\n",
       "      <td>3.33</td>\n",
       "      <td>50.000000</td>\n",
       "    </tr>\n",
       "    <tr>\n",
       "      <th>...</th>\n",
       "      <td>...</td>\n",
       "      <td>...</td>\n",
       "      <td>...</td>\n",
       "    </tr>\n",
       "    <tr>\n",
       "      <th>tpc71ussgcuou</th>\n",
       "      <td>1</td>\n",
       "      <td>0.00</td>\n",
       "      <td>0.000000</td>\n",
       "    </tr>\n",
       "    <tr>\n",
       "      <th>u5e4la6f115r1</th>\n",
       "      <td>1</td>\n",
       "      <td>0.00</td>\n",
       "      <td>0.000000</td>\n",
       "    </tr>\n",
       "    <tr>\n",
       "      <th>udmhn71cn8500</th>\n",
       "      <td>11</td>\n",
       "      <td>3.95</td>\n",
       "      <td>21.545455</td>\n",
       "    </tr>\n",
       "    <tr>\n",
       "      <th>v9815m0bctrm1</th>\n",
       "      <td>1</td>\n",
       "      <td>0.00</td>\n",
       "      <td>0.000000</td>\n",
       "    </tr>\n",
       "    <tr>\n",
       "      <th>vg1t2qc04afrt</th>\n",
       "      <td>4</td>\n",
       "      <td>0.23</td>\n",
       "      <td>3.500000</td>\n",
       "    </tr>\n",
       "  </tbody>\n",
       "</table>\n",
       "<p>910683 rows × 3 columns</p>\n",
       "</div>"
      ],
      "text/plain": [
       "               steps  session_length  avg_step_duration_seconds\n",
       "session_id                                                     \n",
       "00000510f1adc      1            0.00                   0.000000\n",
       "00003f3b20954      1            0.00                   0.000000\n",
       "000056cd97ce2      4            4.25                  63.750000\n",
       "000066611146f      3            0.42                   8.333333\n",
       "00008c1f39c46      4            3.33                  50.000000\n",
       "...              ...             ...                        ...\n",
       "tpc71ussgcuou      1            0.00                   0.000000\n",
       "u5e4la6f115r1      1            0.00                   0.000000\n",
       "udmhn71cn8500     11            3.95                  21.545455\n",
       "v9815m0bctrm1      1            0.00                   0.000000\n",
       "vg1t2qc04afrt      4            0.23                   3.500000\n",
       "\n",
       "[910683 rows x 3 columns]"
      ]
     },
     "execution_count": 30,
     "metadata": {},
     "output_type": "execute_result"
    }
   ],
   "source": [
    "# calculate avergate duration of step\n",
    "session_steps_length['avg_step_duration_seconds'] = session_steps_length.apply(avg_step_duration,axis=1);\n",
    "\n",
    "# transform session length into minutes\n",
    "session_steps_length['session_length'] = session_steps_length['session_length'].apply(seconds_to_minutes);\n",
    "\n",
    "session_steps_length"
   ]
  },
  {
   "cell_type": "code",
   "execution_count": 31,
   "metadata": {},
   "outputs": [
    {
     "data": {
      "image/png": "[encoded data removed]",
      "text/plain": [
       "<Figure size 432x288 with 1 Axes>"
      ]
     },
     "metadata": {
      "needs_background": "light"
     },
     "output_type": "display_data"
    }
   ],
   "source": [
    "ax = sns.boxplot(data=session_steps_length.session_length).set(title=\"Dĺžka relácie\",ylabel=\"Čas (minúty)\");"
   ]
  },
  {
   "cell_type": "markdown",
   "metadata": {},
   "source": [
    "#### Najdlhšie sessions (v minútach)"
   ]
  },
  {
   "cell_type": "code",
   "execution_count": 32,
   "metadata": {},
   "outputs": [
    {
     "data": {
      "text/html": [
       "<div>\n",
       "<style scoped>\n",
       "    .dataframe tbody tr th:only-of-type {\n",
       "        vertical-align: middle;\n",
       "    }\n",
       "\n",
       "    .dataframe tbody tr th {\n",
       "        vertical-align: top;\n",
       "    }\n",
       "\n",
       "    .dataframe thead th {\n",
       "        text-align: right;\n",
       "    }\n",
       "</style>\n",
       "<table border=\"1\" class=\"dataframe\">\n",
       "  <thead>\n",
       "    <tr style=\"text-align: right;\">\n",
       "      <th></th>\n",
       "      <th>steps</th>\n",
       "      <th>session_length</th>\n",
       "      <th>avg_step_duration_seconds</th>\n",
       "    </tr>\n",
       "    <tr>\n",
       "      <th>session_id</th>\n",
       "      <th></th>\n",
       "      <th></th>\n",
       "      <th></th>\n",
       "    </tr>\n",
       "  </thead>\n",
       "  <tbody>\n",
       "    <tr>\n",
       "      <th>907cb2db5cec5</th>\n",
       "      <td>2</td>\n",
       "      <td>6740.05</td>\n",
       "      <td>202201.500000</td>\n",
       "    </tr>\n",
       "    <tr>\n",
       "      <th>2a181b2125efe</th>\n",
       "      <td>1</td>\n",
       "      <td>6712.15</td>\n",
       "      <td>402729.000000</td>\n",
       "    </tr>\n",
       "    <tr>\n",
       "      <th>c0c2730fdde6c</th>\n",
       "      <td>44</td>\n",
       "      <td>5184.05</td>\n",
       "      <td>7069.159091</td>\n",
       "    </tr>\n",
       "    <tr>\n",
       "      <th>7a37b2c63a02f</th>\n",
       "      <td>26</td>\n",
       "      <td>4732.80</td>\n",
       "      <td>10921.846154</td>\n",
       "    </tr>\n",
       "    <tr>\n",
       "      <th>4cd200e050285</th>\n",
       "      <td>2</td>\n",
       "      <td>4701.35</td>\n",
       "      <td>141040.500000</td>\n",
       "    </tr>\n",
       "    <tr>\n",
       "      <th>a0163701c3369</th>\n",
       "      <td>40</td>\n",
       "      <td>4549.37</td>\n",
       "      <td>6824.050000</td>\n",
       "    </tr>\n",
       "    <tr>\n",
       "      <th>8c41f0b873b0b</th>\n",
       "      <td>77</td>\n",
       "      <td>4515.92</td>\n",
       "      <td>3518.896104</td>\n",
       "    </tr>\n",
       "    <tr>\n",
       "      <th>1892588e0a4fc</th>\n",
       "      <td>195</td>\n",
       "      <td>4422.42</td>\n",
       "      <td>1360.743590</td>\n",
       "    </tr>\n",
       "    <tr>\n",
       "      <th>14ffe9351be7c</th>\n",
       "      <td>1</td>\n",
       "      <td>4291.45</td>\n",
       "      <td>257487.000000</td>\n",
       "    </tr>\n",
       "    <tr>\n",
       "      <th>0187dfe7f029a</th>\n",
       "      <td>1</td>\n",
       "      <td>3752.13</td>\n",
       "      <td>225128.000000</td>\n",
       "    </tr>\n",
       "  </tbody>\n",
       "</table>\n",
       "</div>"
      ],
      "text/plain": [
       "               steps  session_length  avg_step_duration_seconds\n",
       "session_id                                                     \n",
       "907cb2db5cec5      2         6740.05              202201.500000\n",
       "2a181b2125efe      1         6712.15              402729.000000\n",
       "c0c2730fdde6c     44         5184.05                7069.159091\n",
       "7a37b2c63a02f     26         4732.80               10921.846154\n",
       "4cd200e050285      2         4701.35              141040.500000\n",
       "a0163701c3369     40         4549.37                6824.050000\n",
       "8c41f0b873b0b     77         4515.92                3518.896104\n",
       "1892588e0a4fc    195         4422.42                1360.743590\n",
       "14ffe9351be7c      1         4291.45              257487.000000\n",
       "0187dfe7f029a      1         3752.13              225128.000000"
      ]
     },
     "execution_count": 32,
     "metadata": {},
     "output_type": "execute_result"
    }
   ],
   "source": [
    "session_steps_length.sort_values(by=\"session_length\",ascending=False).head(10)"
   ]
  },
  {
   "cell_type": "code",
   "execution_count": 33,
   "metadata": {
    "scrolled": true
   },
   "outputs": [
    {
     "data": {
      "text/html": [
       "<div>\n",
       "<style scoped>\n",
       "    .dataframe tbody tr th:only-of-type {\n",
       "        vertical-align: middle;\n",
       "    }\n",
       "\n",
       "    .dataframe tbody tr th {\n",
       "        vertical-align: top;\n",
       "    }\n",
       "\n",
       "    .dataframe thead th {\n",
       "        text-align: right;\n",
       "    }\n",
       "</style>\n",
       "<table border=\"1\" class=\"dataframe\">\n",
       "  <thead>\n",
       "    <tr style=\"text-align: right;\">\n",
       "      <th></th>\n",
       "      <th>user_id</th>\n",
       "      <th>session_id</th>\n",
       "      <th>timestamp</th>\n",
       "      <th>step</th>\n",
       "      <th>action_type</th>\n",
       "      <th>reference</th>\n",
       "      <th>platform</th>\n",
       "      <th>city</th>\n",
       "      <th>device</th>\n",
       "      <th>current_filters</th>\n",
       "      <th>impressions</th>\n",
       "      <th>prices</th>\n",
       "    </tr>\n",
       "  </thead>\n",
       "  <tbody>\n",
       "    <tr>\n",
       "      <th>1195332</th>\n",
       "      <td>2DQ7VEGMWKMC</td>\n",
       "      <td>907cb2db5cec5</td>\n",
       "      <td>1541100192</td>\n",
       "      <td>1</td>\n",
       "      <td>clickout item</td>\n",
       "      <td>14893</td>\n",
       "      <td>DE</td>\n",
       "      <td>Cologne, Germany</td>\n",
       "      <td>mobile</td>\n",
       "      <td>NaN</td>\n",
       "      <td>14893|6477|13714|6446|6435|6468|14944|51543|52...</td>\n",
       "      <td>136|134|169|167|178|81|139|89|84|84|187|110|84...</td>\n",
       "    </tr>\n",
       "    <tr>\n",
       "      <th>15841494</th>\n",
       "      <td>2DQ7VEGMWKMC</td>\n",
       "      <td>907cb2db5cec5</td>\n",
       "      <td>1541504562</td>\n",
       "      <td>1</td>\n",
       "      <td>clickout item</td>\n",
       "      <td>51051</td>\n",
       "      <td>DE</td>\n",
       "      <td>Oberstaufen, Germany</td>\n",
       "      <td>mobile</td>\n",
       "      <td>NaN</td>\n",
       "      <td>141398|51612|51272|137554|3478570|51051|121851...</td>\n",
       "      <td>180|172|160|122|120|120|229|274|135|129|89|97|...</td>\n",
       "    </tr>\n",
       "    <tr>\n",
       "      <th>15841495</th>\n",
       "      <td>2DQ7VEGMWKMC</td>\n",
       "      <td>907cb2db5cec5</td>\n",
       "      <td>1541504595</td>\n",
       "      <td>2</td>\n",
       "      <td>clickout item</td>\n",
       "      <td>51272</td>\n",
       "      <td>DE</td>\n",
       "      <td>Oberstaufen, Germany</td>\n",
       "      <td>mobile</td>\n",
       "      <td>NaN</td>\n",
       "      <td>141398|51612|51272|137554|3478570|51051|121851...</td>\n",
       "      <td>180|172|160|122|120|120|229|274|135|129|89|97|...</td>\n",
       "    </tr>\n",
       "  </tbody>\n",
       "</table>\n",
       "</div>"
      ],
      "text/plain": [
       "               user_id     session_id   timestamp  step    action_type  \\\n",
       "1195332   2DQ7VEGMWKMC  907cb2db5cec5  1541100192     1  clickout item   \n",
       "15841494  2DQ7VEGMWKMC  907cb2db5cec5  1541504562     1  clickout item   \n",
       "15841495  2DQ7VEGMWKMC  907cb2db5cec5  1541504595     2  clickout item   \n",
       "\n",
       "         reference platform                  city  device current_filters  \\\n",
       "1195332      14893       DE      Cologne, Germany  mobile             NaN   \n",
       "15841494     51051       DE  Oberstaufen, Germany  mobile             NaN   \n",
       "15841495     51272       DE  Oberstaufen, Germany  mobile             NaN   \n",
       "\n",
       "                                                impressions  \\\n",
       "1195332   14893|6477|13714|6446|6435|6468|14944|51543|52...   \n",
       "15841494  141398|51612|51272|137554|3478570|51051|121851...   \n",
       "15841495  141398|51612|51272|137554|3478570|51051|121851...   \n",
       "\n",
       "                                                     prices  \n",
       "1195332   136|134|169|167|178|81|139|89|84|84|187|110|84...  \n",
       "15841494  180|172|160|122|120|120|229|274|135|129|89|97|...  \n",
       "15841495  180|172|160|122|120|120|229|274|135|129|89|97|...  "
      ]
     },
     "execution_count": 33,
     "metadata": {},
     "output_type": "execute_result"
    }
   ],
   "source": [
    "df_train[df_train.session_id == '907cb2db5cec5']"
   ]
  },
  {
   "cell_type": "code",
   "execution_count": 34,
   "metadata": {
    "scrolled": true
   },
   "outputs": [
    {
     "data": {
      "text/html": [
       "<div>\n",
       "<style scoped>\n",
       "    .dataframe tbody tr th:only-of-type {\n",
       "        vertical-align: middle;\n",
       "    }\n",
       "\n",
       "    .dataframe tbody tr th {\n",
       "        vertical-align: top;\n",
       "    }\n",
       "\n",
       "    .dataframe thead th {\n",
       "        text-align: right;\n",
       "    }\n",
       "</style>\n",
       "<table border=\"1\" class=\"dataframe\">\n",
       "  <thead>\n",
       "    <tr style=\"text-align: right;\">\n",
       "      <th></th>\n",
       "      <th>user_id</th>\n",
       "      <th>session_id</th>\n",
       "      <th>timestamp</th>\n",
       "      <th>step</th>\n",
       "      <th>action_type</th>\n",
       "      <th>reference</th>\n",
       "      <th>platform</th>\n",
       "      <th>city</th>\n",
       "      <th>device</th>\n",
       "      <th>current_filters</th>\n",
       "      <th>impressions</th>\n",
       "      <th>prices</th>\n",
       "    </tr>\n",
       "  </thead>\n",
       "  <tbody>\n",
       "    <tr>\n",
       "      <th>5054814</th>\n",
       "      <td>7X4FZTVRCDQA</td>\n",
       "      <td>2a181b2125efe</td>\n",
       "      <td>1541329853</td>\n",
       "      <td>1</td>\n",
       "      <td>search for destination</td>\n",
       "      <td>Rimini, Italy</td>\n",
       "      <td>IT</td>\n",
       "      <td>Rimini, Italy</td>\n",
       "      <td>mobile</td>\n",
       "      <td>NaN</td>\n",
       "      <td>NaN</td>\n",
       "      <td>NaN</td>\n",
       "    </tr>\n",
       "    <tr>\n",
       "      <th>6267791</th>\n",
       "      <td>7X4FZTVRCDQA</td>\n",
       "      <td>2a181b2125efe</td>\n",
       "      <td>1541506315</td>\n",
       "      <td>1</td>\n",
       "      <td>search for destination</td>\n",
       "      <td>Milan, Italy</td>\n",
       "      <td>IT</td>\n",
       "      <td>Milan, Italy</td>\n",
       "      <td>mobile</td>\n",
       "      <td>NaN</td>\n",
       "      <td>NaN</td>\n",
       "      <td>NaN</td>\n",
       "    </tr>\n",
       "    <tr>\n",
       "      <th>8324291</th>\n",
       "      <td>7X4FZTVRCDQA</td>\n",
       "      <td>2a181b2125efe</td>\n",
       "      <td>1541103586</td>\n",
       "      <td>1</td>\n",
       "      <td>clickout item</td>\n",
       "      <td>94907</td>\n",
       "      <td>IT</td>\n",
       "      <td>Giardini-Naxos, Italy</td>\n",
       "      <td>mobile</td>\n",
       "      <td>NaN</td>\n",
       "      <td>94907|101278|82654|23607|23610|45848|1203406|2...</td>\n",
       "      <td>82|55|87|187|85|98|184|94|86|111|144|87|223|49...</td>\n",
       "    </tr>\n",
       "  </tbody>\n",
       "</table>\n",
       "</div>"
      ],
      "text/plain": [
       "              user_id     session_id   timestamp  step  \\\n",
       "5054814  7X4FZTVRCDQA  2a181b2125efe  1541329853     1   \n",
       "6267791  7X4FZTVRCDQA  2a181b2125efe  1541506315     1   \n",
       "8324291  7X4FZTVRCDQA  2a181b2125efe  1541103586     1   \n",
       "\n",
       "                    action_type      reference platform  \\\n",
       "5054814  search for destination  Rimini, Italy       IT   \n",
       "6267791  search for destination   Milan, Italy       IT   \n",
       "8324291           clickout item          94907       IT   \n",
       "\n",
       "                          city  device current_filters  \\\n",
       "5054814          Rimini, Italy  mobile             NaN   \n",
       "6267791           Milan, Italy  mobile             NaN   \n",
       "8324291  Giardini-Naxos, Italy  mobile             NaN   \n",
       "\n",
       "                                               impressions  \\\n",
       "5054814                                                NaN   \n",
       "6267791                                                NaN   \n",
       "8324291  94907|101278|82654|23607|23610|45848|1203406|2...   \n",
       "\n",
       "                                                    prices  \n",
       "5054814                                                NaN  \n",
       "6267791                                                NaN  \n",
       "8324291  82|55|87|187|85|98|184|94|86|111|144|87|223|49...  "
      ]
     },
     "execution_count": 34,
     "metadata": {},
     "output_type": "execute_result"
    }
   ],
   "source": [
    "df_train[df_train.session_id == '2a181b2125efe']"
   ]
  },
  {
   "cell_type": "markdown",
   "metadata": {},
   "source": [
    "Ako vidíme, tu sme asi našli chybu v dátach. Tým že sme brali first a last z danej session, dĺžka session sa nám natiahla do enormných rozmerov. Bolo by preto vhodné deduplikovať záznamy user - session nad atribútom step (najvhodnejšie by bolo asi nechať last)"
   ]
  },
  {
   "cell_type": "markdown",
   "metadata": {},
   "source": [
    "### Atribút action_type"
   ]
  },
  {
   "cell_type": "code",
   "execution_count": 35,
   "metadata": {},
   "outputs": [
    {
     "data": {
      "text/plain": [
       "array(['search for poi', 'interaction item image', 'clickout item',\n",
       "       'interaction item info', 'interaction item deals',\n",
       "       'search for destination', 'filter selection',\n",
       "       'interaction item rating', 'search for item',\n",
       "       'change of sort order'], dtype=object)"
      ]
     },
     "execution_count": 35,
     "metadata": {},
     "output_type": "execute_result"
    }
   ],
   "source": [
    "df_train.action_type.unique()"
   ]
  },
  {
   "cell_type": "code",
   "execution_count": 36,
   "metadata": {},
   "outputs": [
    {
     "data": {
      "text/html": [
       "<div>\n",
       "<style scoped>\n",
       "    .dataframe tbody tr th:only-of-type {\n",
       "        vertical-align: middle;\n",
       "    }\n",
       "\n",
       "    .dataframe tbody tr th {\n",
       "        vertical-align: top;\n",
       "    }\n",
       "\n",
       "    .dataframe thead th {\n",
       "        text-align: right;\n",
       "    }\n",
       "</style>\n",
       "<table border=\"1\" class=\"dataframe\">\n",
       "  <thead>\n",
       "    <tr style=\"text-align: right;\">\n",
       "      <th></th>\n",
       "      <th>action_type</th>\n",
       "      <th>count</th>\n",
       "    </tr>\n",
       "  </thead>\n",
       "  <tbody>\n",
       "    <tr>\n",
       "      <th>0</th>\n",
       "      <td>interaction item image</td>\n",
       "      <td>11860750</td>\n",
       "    </tr>\n",
       "    <tr>\n",
       "      <th>1</th>\n",
       "      <td>clickout item</td>\n",
       "      <td>1586586</td>\n",
       "    </tr>\n",
       "    <tr>\n",
       "      <th>2</th>\n",
       "      <td>filter selection</td>\n",
       "      <td>695917</td>\n",
       "    </tr>\n",
       "    <tr>\n",
       "      <th>3</th>\n",
       "      <td>search for destination</td>\n",
       "      <td>403066</td>\n",
       "    </tr>\n",
       "    <tr>\n",
       "      <th>4</th>\n",
       "      <td>change of sort order</td>\n",
       "      <td>400584</td>\n",
       "    </tr>\n",
       "    <tr>\n",
       "      <th>5</th>\n",
       "      <td>interaction item info</td>\n",
       "      <td>285402</td>\n",
       "    </tr>\n",
       "    <tr>\n",
       "      <th>6</th>\n",
       "      <td>interaction item rating</td>\n",
       "      <td>217246</td>\n",
       "    </tr>\n",
       "    <tr>\n",
       "      <th>7</th>\n",
       "      <td>interaction item deals</td>\n",
       "      <td>193794</td>\n",
       "    </tr>\n",
       "    <tr>\n",
       "      <th>8</th>\n",
       "      <td>search for item</td>\n",
       "      <td>152203</td>\n",
       "    </tr>\n",
       "    <tr>\n",
       "      <th>9</th>\n",
       "      <td>search for poi</td>\n",
       "      <td>137444</td>\n",
       "    </tr>\n",
       "  </tbody>\n",
       "</table>\n",
       "</div>"
      ],
      "text/plain": [
       "               action_type     count\n",
       "0   interaction item image  11860750\n",
       "1            clickout item   1586586\n",
       "2         filter selection    695917\n",
       "3   search for destination    403066\n",
       "4     change of sort order    400584\n",
       "5    interaction item info    285402\n",
       "6  interaction item rating    217246\n",
       "7   interaction item deals    193794\n",
       "8          search for item    152203\n",
       "9           search for poi    137444"
      ]
     },
     "execution_count": 36,
     "metadata": {},
     "output_type": "execute_result"
    }
   ],
   "source": [
    "actions_count = df_train['action_type'].value_counts().reset_index(name=\"count\").rename(columns={'index':'action_type'})\n",
    "actions_count"
   ]
  },
  {
   "cell_type": "code",
   "execution_count": 37,
   "metadata": {},
   "outputs": [
    {
     "name": "stderr",
     "output_type": "stream",
     "text": [
      "/var/folders/r8/3c5wqhdd503c57q35gcyk3b80000gn/T/ipykernel_81663/67991065.py:5: UserWarning: You have mixed positional and keyword arguments, some input may be discarded.\n",
      "  plt.legend(patches, labels=actions_count['action_type'])\n"
     ]
    },
    {
     "data": {
      "image/png": "[encoded data removed]",
      "text/plain": [
       "<Figure size 720x432 with 1 Axes>"
      ]
     },
     "metadata": {},
     "output_type": "display_data"
    }
   ],
   "source": [
    "pi,ax = plt.subplots(figsize=[10,6]);\n",
    "\n",
    "patches = plt.pie(x=actions_count['count'], explode=[0.05]*10, autopct=\"%.1f%%\")\n",
    "plt.title('Rozloženie typov akcií v atribúte action_type')\n",
    "plt.legend(patches, labels=actions_count['action_type'])\n",
    "plt.tight_layout()\n",
    "plt.show()"
   ]
  },
  {
   "cell_type": "markdown",
   "metadata": {},
   "source": [
    "#### Aké stepy sú pred interaction with item image?"
   ]
  },
  {
   "cell_type": "code",
   "execution_count": 38,
   "metadata": {},
   "outputs": [],
   "source": [
    "tmp = df_train.reset_index()\n",
    "first_interaction_item_image = tmp[tmp['action_type'] == 'interaction item image'].groupby(['user_id','session_id','action_type']).first()"
   ]
  },
  {
   "cell_type": "code",
   "execution_count": 39,
   "metadata": {},
   "outputs": [],
   "source": [
    "# filter out those iteractions, which are step 1\n",
    "first_interaction_item_image = first_interaction_item_image[first_interaction_item_image['step'] != 1]\n",
    "\n",
    "# get previous rows (x-1)\n",
    "interaction_image_prec_rows = df_train.loc[df_train.index.isin(list(map(lambda x: x-1, first_interaction_item_image['index'].tolist())))]"
   ]
  },
  {
   "cell_type": "code",
   "execution_count": 40,
   "metadata": {},
   "outputs": [
    {
     "data": {
      "text/plain": [
       "array(['search for poi', 'interaction item info', 'filter selection',\n",
       "       'clickout item', 'search for destination',\n",
       "       'interaction item rating', 'interaction item deals',\n",
       "       'search for item', 'change of sort order'], dtype=object)"
      ]
     },
     "execution_count": 40,
     "metadata": {},
     "output_type": "execute_result"
    }
   ],
   "source": [
    "interaction_image_prec_rows.action_type.unique()"
   ]
  },
  {
   "cell_type": "markdown",
   "metadata": {},
   "source": [
    "#### Aké stepy sú pred clickoutom?"
   ]
  },
  {
   "cell_type": "code",
   "execution_count": 41,
   "metadata": {},
   "outputs": [],
   "source": [
    "first_clickout = tmp[tmp['action_type'] == 'clickout item'].groupby(['user_id','session_id','action_type']).first()\n",
    "\n",
    "# filter out those iteractions, which are step 1\n",
    "first_clickout = first_clickout[first_clickout['step'] != 1]\n",
    "\n",
    "# get previous rows (x-1)\n",
    "clickout_prec_rows = df_train.loc[df_train.index.isin(list(map(lambda x: x-1, first_clickout['index'].tolist())))]"
   ]
  },
  {
   "cell_type": "code",
   "execution_count": 42,
   "metadata": {},
   "outputs": [
    {
     "data": {
      "text/plain": [
       "array(['interaction item image', 'interaction item info',\n",
       "       'search for item', 'filter selection', 'interaction item rating',\n",
       "       'search for poi', 'search for destination',\n",
       "       'interaction item deals', 'change of sort order'], dtype=object)"
      ]
     },
     "execution_count": 42,
     "metadata": {},
     "output_type": "execute_result"
    }
   ],
   "source": [
    "clickout_prec_rows.action_type.unique()"
   ]
  },
  {
   "cell_type": "markdown",
   "metadata": {},
   "source": [
    "### Atribút impressions a prices"
   ]
  },
  {
   "cell_type": "markdown",
   "metadata": {},
   "source": [
    "Kedy su dané atribúty prítomné?"
   ]
  },
  {
   "cell_type": "code",
   "execution_count": 43,
   "metadata": {},
   "outputs": [],
   "source": [
    "not_na_impressions = df_train[df_train['impressions'].notna()]"
   ]
  },
  {
   "cell_type": "code",
   "execution_count": 44,
   "metadata": {},
   "outputs": [],
   "source": [
    "not_na_prices = df_train[df_train['prices'].notna()]"
   ]
  },
  {
   "cell_type": "markdown",
   "metadata": {},
   "source": [
    "Ide o ten istý dataset?"
   ]
  },
  {
   "cell_type": "code",
   "execution_count": 45,
   "metadata": {},
   "outputs": [
    {
     "data": {
      "text/plain": [
       "True"
      ]
     },
     "execution_count": 45,
     "metadata": {},
     "output_type": "execute_result"
    }
   ],
   "source": [
    "not_na_impressions.equals(not_na_prices)"
   ]
  },
  {
   "cell_type": "markdown",
   "metadata": {},
   "source": [
    "#### Kedy je prítomný, v akej akcií?"
   ]
  },
  {
   "cell_type": "code",
   "execution_count": 46,
   "metadata": {},
   "outputs": [
    {
     "data": {
      "text/plain": [
       "array(['clickout item'], dtype=object)"
      ]
     },
     "execution_count": 46,
     "metadata": {},
     "output_type": "execute_result"
    }
   ],
   "source": [
    "not_na_impressions.action_type.unique()"
   ]
  },
  {
   "cell_type": "markdown",
   "metadata": {},
   "source": [
    "#### Koľko máme impresií? Je počet stále rovnaký? Je počet rovnaký s prices?"
   ]
  },
  {
   "cell_type": "code",
   "execution_count": 47,
   "metadata": {},
   "outputs": [
    {
     "name": "stderr",
     "output_type": "stream",
     "text": [
      "/var/folders/r8/3c5wqhdd503c57q35gcyk3b80000gn/T/ipykernel_81663/3002420512.py:1: SettingWithCopyWarning: \n",
      "A value is trying to be set on a copy of a slice from a DataFrame.\n",
      "Try using .loc[row_indexer,col_indexer] = value instead\n",
      "\n",
      "See the caveats in the documentation: https://pandas.pydata.org/pandas-docs/stable/user_guide/indexing.html#returning-a-view-versus-a-copy\n",
      "  not_na_impressions['impressions'] = not_na_impressions.impressions.apply(lambda x: len(x.split('|')))\n"
     ]
    }
   ],
   "source": [
    "not_na_impressions['impressions'] = not_na_impressions.impressions.apply(lambda x: len(x.split('|')))"
   ]
  },
  {
   "cell_type": "code",
   "execution_count": 48,
   "metadata": {},
   "outputs": [
    {
     "name": "stderr",
     "output_type": "stream",
     "text": [
      "/var/folders/r8/3c5wqhdd503c57q35gcyk3b80000gn/T/ipykernel_81663/4067869892.py:1: SettingWithCopyWarning: \n",
      "A value is trying to be set on a copy of a slice from a DataFrame.\n",
      "Try using .loc[row_indexer,col_indexer] = value instead\n",
      "\n",
      "See the caveats in the documentation: https://pandas.pydata.org/pandas-docs/stable/user_guide/indexing.html#returning-a-view-versus-a-copy\n",
      "  not_na_impressions['prices'] = not_na_impressions.prices.apply(lambda x: len(x.split('|')))\n"
     ]
    }
   ],
   "source": [
    "not_na_impressions['prices'] = not_na_impressions.prices.apply(lambda x: len(x.split('|')))"
   ]
  },
  {
   "cell_type": "code",
   "execution_count": 49,
   "metadata": {},
   "outputs": [
    {
     "data": {
      "text/plain": [
       "array([25,  4, 12, 16,  7, 10, 24,  8, 18, 20,  2, 21, 13,  9, 19, 14,  5,\n",
       "       22, 23, 11, 15, 17,  3,  1,  6])"
      ]
     },
     "execution_count": 49,
     "metadata": {},
     "output_type": "execute_result"
    }
   ],
   "source": [
    "not_na_impressions.impressions.unique()\n",
    "not_na_impressions.prices.unique()"
   ]
  },
  {
   "cell_type": "markdown",
   "metadata": {},
   "source": [
    "Vidíme teda, že počet nie je rovnaký stále."
   ]
  },
  {
   "cell_type": "code",
   "execution_count": 50,
   "metadata": {},
   "outputs": [
    {
     "data": {
      "text/plain": [
       "array([ True])"
      ]
     },
     "execution_count": 50,
     "metadata": {},
     "output_type": "execute_result"
    }
   ],
   "source": [
    "not_na_impressions.apply(lambda row: row['impressions'] == row['prices'],axis = 1).unique()"
   ]
  },
  {
   "cell_type": "markdown",
   "metadata": {},
   "source": [
    "Ale počet cien sa zhoduje s počtom impresií, a podľa zadania idú v poradí, takže tu nemáme špinavé dáta."
   ]
  }
 ],
 "metadata": {
  "kernelspec": {
   "display_name": "Python 3 (ipykernel)",
   "language": "python",
   "name": "python3"
  },
  "language_info": {
   "codemirror_mode": {
    "name": "ipython",
    "version": 3
   },
   "file_extension": ".py",
   "mimetype": "text/x-python",
   "name": "python",
   "nbconvert_exporter": "python",
   "pygments_lexer": "ipython3",
   "version": "3.8.12"
  }
 },
 "nbformat": 4,
 "nbformat_minor": 1
}
